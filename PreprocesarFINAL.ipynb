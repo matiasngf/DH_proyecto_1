{
 "cells": [
  {
   "cell_type": "code",
   "execution_count": 3,
   "metadata": {
    "colab": {
     "base_uri": "https://localhost:8080/",
     "height": 501
    },
    "colab_type": "code",
    "executionInfo": {
     "elapsed": 1162,
     "status": "ok",
     "timestamp": 1555459153100,
     "user": {
      "displayName": "Matias Gonzalez Fernandez",
      "photoUrl": "",
      "userId": "02925906530158308490"
     },
     "user_tz": 180
    },
    "id": "paHr9FLWuqt7",
    "outputId": "d91d8d43-35e4-434d-ca93-32a9605eb455"
   },
   "outputs": [],
   "source": [
    "import pandas as pd\n",
    "import numpy as np\n",
    "import matplotlib as mpl"
   ]
  },
  {
   "cell_type": "code",
   "execution_count": 4,
   "metadata": {},
   "outputs": [],
   "source": [
    "# Importar pickle con el dataset preprocesado\n",
    "df = pd.read_pickle('dataset.pkl')"
   ]
  },
  {
   "cell_type": "code",
   "execution_count": 5,
   "metadata": {},
   "outputs": [],
   "source": [
    "# Fill NaNs\n",
    "df[\"surface_covered_in_m2\"] = np.where(df[\"surface_covered_in_m2\"].isnull(),df[\"surface_total_in_m2\"],df[\"surface_covered_in_m2\"])\n",
    "df[\"floor\"] = np.where(df[\"floor\"].isnull(),0,df[\"floor\"])\n",
    "df[\"rooms\"] = np.where(df[\"rooms\"].isnull(),1,df[\"rooms\"])\n",
    "df[\"expenses\"] = np.where(df[\"expenses\"].isnull(),0,df[\"expenses\"])\n",
    "df['lat'].fillna(df.groupby(['state_name','place_name'])['lat'].transform('mean'),inplace=True)\n",
    "df['lon'].fillna(df.groupby(['state_name','place_name'])['lon'].transform('mean'),inplace=True)\n",
    "df['lat'].fillna(df.groupby(['state_name'])['lat'].transform('mean'),inplace=True)\n",
    "df['lon'].fillna(df.groupby(['state_name'])['lon'].transform('mean'),inplace=True)\n",
    "# Drop columnas no utilizables\n",
    "df.drop(['geonames_id','properati_url'], axis=1, inplace=True)\n",
    "df.dropna(how='any', inplace=True)"
   ]
  },
  {
   "cell_type": "code",
   "execution_count": 6,
   "metadata": {},
   "outputs": [
    {
     "data": {
      "text/plain": [
       "property_type            0\n",
       "place_name               0\n",
       "state_name               0\n",
       "lat                      0\n",
       "lon                      0\n",
       "price_aprox_usd          0\n",
       "surface_total_in_m2      0\n",
       "surface_covered_in_m2    0\n",
       "price_usd_per_m2         0\n",
       "floor                    0\n",
       "rooms                    0\n",
       "expenses                 0\n",
       "description              0\n",
       "title                    0\n",
       "zona                     0\n",
       "dtype: int64"
      ]
     },
     "metadata": {},
     "output_type": "display_data"
    }
   ],
   "source": [
    "# Limpieza Final y Control\n",
    "df.dropna(how='any', inplace=True)\n",
    "display(df.isna().sum())"
   ]
  },
  {
   "cell_type": "code",
   "execution_count": 7,
   "metadata": {},
   "outputs": [],
   "source": [
    "# Funciones para extraer variables de Description & Title\n",
    "import re\n",
    "def searchReg(exp):\n",
    "  return (df['title'].str.contains(exp, case=False, regex=True) | df['description'].str.contains(exp, case=False, regex=True));\n",
    "\n",
    "def extractCat( exp, catName = False):\n",
    "  if(catName == False):\n",
    "    catName = 'has_'+exp\n",
    "  found = searchReg(exp).astype(int)\n",
    "  return catName,found;\n",
    "\n",
    "def test_addDmmy(termns):\n",
    "    for i in termns:\n",
    "        print (extractCat(i[0])[0], extractCat(i[0])[1].sum());\n",
    "\n",
    "def addDmmy(termns):\n",
    "    for i in termns:\n",
    "        df[(i[1])]=extractCat(i[0])[1];"
   ]
  },
  {
   "cell_type": "code",
   "execution_count": 8,
   "metadata": {},
   "outputs": [],
   "source": [
    "# Agregar dummies al DataFrame\n",
    "addDmmy([\n",
    "    ['subte','subte'],\n",
    "    ['colectivos','colectivo'],\n",
    "    ['balc[oó]n','balcon'],\n",
    "    ['tren','tren'],\n",
    "    ['port[oó]n','porton'],\n",
    "    ['(?:financiaci[oó]n)|(?:financiamiento)','financia'],\n",
    "    ['parr?ill?a', 'parrilla'],\n",
    "    ['(?:pileta)|(?:piscina)', 'pileta'],\n",
    "    ['solarium','solarium'],\n",
    "    ['lavadero|laundry','lavadero'],\n",
    "    ['estacionamiento','estacionamiento'],\n",
    "    ['NO (?:ES )?APTO CR[EÉ]DITO', 'no_apto_credito'],\n",
    "    ['APTO CR[EÉ]DITO', 'apto_credito'],\n",
    "    ['estacionamiento','estacionamiento'],\n",
    "    ['amplio living','amplioliving'],\n",
    "    ['cocheras?','cocheras'],\n",
    "    [' frente[ .,]', 'frente'],\n",
    "    ['contrafrente', 'contrafrente'],\n",
    "    ['(?:seguridad)|(?:control)', 'seguridad'],\n",
    "    ['amenities|amenitys', 'amenities'],\n",
    "    ['SUM|m[uú]ltiples', 'SUM'],\n",
    "    ['espacio[s] verde[s]','espaciosverdes'],\n",
    "    ['jacuzzi','jacuzzi'],\n",
    "    ['estrenar', 'estrenar'],\n",
    "    ['profesional','aptoprofesional'],\n",
    "    ['pozo','pozo'],\n",
    "    ['categoria','categoria'],\n",
    "    ['reciclado','reciclado'],\n",
    "    ['luminoso','luminoso'],\n",
    "    ['acondicionado','acondicionado'],\n",
    "    ['quincho','quincho'],\n",
    "    ['escalera','escalera']\n",
    "])"
   ]
  },
  {
   "cell_type": "code",
   "execution_count": 9,
   "metadata": {},
   "outputs": [],
   "source": [
    "# Unir Description y Title para Vectorizar\n",
    "df['texto'] = df['title'] + ' ' + df['description']\n",
    "df.drop(axis=1,columns=['description','title'],inplace=True)"
   ]
  },
  {
   "cell_type": "code",
   "execution_count": 10,
   "metadata": {},
   "outputs": [],
   "source": [
    "# Limpiar caracteres especiales de Texto\n",
    "import re\n",
    "from unicodedata import normalize\n",
    "\n",
    "def limpiar(x):\n",
    "    # -> NFD y eliminar diacríticos\n",
    "    x = re.sub(\n",
    "        r\"([^n\\u0300-\\u036f]|n(?!\\u0303(?![\\u0300-\\u036f])))[\\u0300-\\u036f]+\", r\"\\1\", \n",
    "        normalize( \"NFD\", x), 0, re.I\n",
    "        )\n",
    "    # -> NFC\n",
    "    x = normalize( 'NFC', x)\n",
    "    return x\n",
    "\n",
    "df['texto'] = df.texto.apply(lambda x: limpiar(x))"
   ]
  },
  {
   "cell_type": "code",
   "execution_count": 11,
   "metadata": {},
   "outputs": [],
   "source": [
    "df.to_pickle('DatasetFinalParaEntrenar.pkl')"
   ]
  }
 ],
 "metadata": {
  "accelerator": "GPU",
  "colab": {
   "collapsed_sections": [],
   "name": "ProperatyExploracion.ipynb",
   "provenance": [],
   "version": "0.3.2"
  },
  "kernelspec": {
   "display_name": "Python 3",
   "language": "python",
   "name": "python3"
  },
  "language_info": {
   "codemirror_mode": {
    "name": "ipython",
    "version": 3
   },
   "file_extension": ".py",
   "mimetype": "text/x-python",
   "name": "python",
   "nbconvert_exporter": "python",
   "pygments_lexer": "ipython3",
   "version": "3.6.5"
  }
 },
 "nbformat": 4,
 "nbformat_minor": 2
}
