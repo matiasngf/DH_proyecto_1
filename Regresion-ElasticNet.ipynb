{
 "cells": [
  {
   "cell_type": "code",
   "execution_count": 1,
   "metadata": {
    "colab": {
     "base_uri": "https://localhost:8080/",
     "height": 501
    },
    "colab_type": "code",
    "executionInfo": {
     "elapsed": 1162,
     "status": "ok",
     "timestamp": 1555459153100,
     "user": {
      "displayName": "Matias Gonzalez Fernandez",
      "photoUrl": "",
      "userId": "02925906530158308490"
     },
     "user_tz": 180
    },
    "id": "paHr9FLWuqt7",
    "outputId": "d91d8d43-35e4-434d-ca93-32a9605eb455"
   },
   "outputs": [],
   "source": [
    "import pandas as pd\n",
    "import numpy as np\n",
    "#import matplotlib as mpl\n",
    "#from scipy import stats\n",
    "#import matplotlib.pyplot as plt\n",
    "#import seaborn as sns\n",
    "%matplotlib inline\n",
    "from sklearn.feature_extraction.text import TfidfVectorizer\n",
    "from sklearn.feature_extraction import DictVectorizer\n",
    "from scipy.sparse import hstack\n",
    "from sklearn.linear_model import Ridge\n",
    "from sklearn.model_selection import train_test_split, KFold, cross_val_score\n",
    "from sklearn.linear_model import LinearRegression, Lasso, LassoCV, Ridge, RidgeCV, ElasticNet, ElasticNetCV\n",
    "#from sklearn.preprocessing import PolynomialFeatures, StandardScaler\n",
    "#from sklearn.metrics import mean_squared_error, r2_score\n",
    "from sklearn import preprocessing\n",
    "from sklearn.preprocessing import PolynomialFeatures"
   ]
  },
  {
   "cell_type": "code",
   "execution_count": 2,
   "metadata": {},
   "outputs": [],
   "source": [
    "# Importar pickle con el dataset FINAL\n",
    "df = pd.read_pickle('DatasetFinalParaEntrenar.pkl')"
   ]
  },
  {
   "cell_type": "markdown",
   "metadata": {},
   "source": [
    "### Fit & Transform"
   ]
  },
  {
   "cell_type": "code",
   "execution_count": 3,
   "metadata": {},
   "outputs": [],
   "source": [
    "# Separar Variables por tipo\n",
    "categoricals = ['property_type','place_name','state_name','zona']\n",
    "descriptions = ['texto']\n",
    "numericals = ['surface_total_in_m2', 'surface_covered_in_m2', 'floor', 'rooms', 'expenses','lat','lon']\n",
    "dummies = ['subte','colectivo','balcon','tren','porton','financia', 'parrilla','pileta', 'solarium', 'lavadero', 'estacionamiento', 'no_apto_credito','apto_credito', 'amplioliving', 'cocheras', 'frente', 'contrafrente','seguridad', 'amenities', 'SUM', 'espaciosverdes','jacuzzi','estrenar','aptoprofesional','pozo','categoria','reciclado','luminoso','acondicionado','quincho','escalera']\n",
    "target = ['price_usd_per_m2']"
   ]
  },
  {
   "cell_type": "code",
   "execution_count": 4,
   "metadata": {},
   "outputs": [],
   "source": [
    "# Separar Train-Test\n",
    "\n",
    "Xdf = df[np.concatenate([\n",
    "        categoricals,\n",
    "        descriptions,\n",
    "        numericals,\n",
    "        dummies\n",
    "])]\n",
    "Ydf = df[target]\n",
    "\n",
    "X_trainDf, X_testDf, y_trainDf, y_testDf = train_test_split(Xdf, Ydf, test_size=0.30)"
   ]
  },
  {
   "cell_type": "code",
   "execution_count": 6,
   "metadata": {},
   "outputs": [],
   "source": [
    "# FIT (función) - Vectorizar categóricas, Vectorizar texto en Description y Normalizar continuas\n",
    "vectorizer = TfidfVectorizer(min_df=5)\n",
    "enc = DictVectorizer()\n",
    "clf = ElasticNet(random_state=241,fit_intercept=True)\n",
    "#clf = ElasticNetCV(fit_intercept=True)\n",
    "normalizer = preprocessing.Normalizer()\n",
    "poly = PolynomialFeatures(degree = 6, include_bias = False)\n",
    "\n",
    "def fit_model(X_train, Y_train):\n",
    "    texts = X_train[descriptions]\n",
    "    texts = texts.applymap(lambda x: x.lower())\n",
    "    texts = texts.replace('[^a-zA-Z0-9]', ' ', regex = True)\n",
    "\n",
    "    X_tfidf = vectorizer.fit_transform(texts[descriptions[0]])\n",
    "    \n",
    "    X_train_categ = enc.fit_transform(X_train[categoricals].to_dict('records'))\n",
    "    \n",
    "    X_numericas = poly.fit_transform(normalizer.fit_transform(X_train[numericals]))\n",
    "    \n",
    "    X_dummies = X_train[dummies]\n",
    "\n",
    "    X = hstack([X_tfidf, X_train_categ, X_numericas, X_dummies]) # regualirzar las numericas luego de splitear\n",
    "    \n",
    "    # train model on data\n",
    "    clf.fit(X, Y_train)\n",
    "    return X, Y_train\n",
    "\n",
    "X__train, y__train = fit_model(X_trainDf, y_trainDf)"
   ]
  },
  {
   "cell_type": "code",
   "execution_count": 7,
   "metadata": {},
   "outputs": [
    {
     "data": {
      "text/plain": [
       "<26910x33511 sparse matrix of type '<class 'numpy.float64'>'\n",
       "\twith 73576738 stored elements in COOrdinate format>"
      ]
     },
     "execution_count": 7,
     "metadata": {},
     "output_type": "execute_result"
    }
   ],
   "source": [
    "# TRANSFORM (función)\n",
    "def transform_model(X_train):\n",
    "    texts = X_train[descriptions]\n",
    "    texts = texts.applymap(lambda x: x.lower())\n",
    "    texts = texts.replace('[^a-zA-Z0-9]', ' ', regex = True)\n",
    "\n",
    "    X_tfidf = vectorizer.transform(texts[descriptions[0]])\n",
    "    \n",
    "    X_train_categ = enc.transform(X_train[categoricals].to_dict('records'))\n",
    "    \n",
    "    X_numericas = poly.transform(normalizer.transform(X_train[numericals]))\n",
    "    \n",
    "    X_dummies = X_train[dummies]\n",
    "\n",
    "    X = hstack([X_tfidf, X_train_categ, X_numericas, X_dummies])\n",
    "    \n",
    "    return X\n",
    "X__test = transform_model(X_testDf)\n",
    "X__test"
   ]
  },
  {
   "cell_type": "markdown",
   "metadata": {},
   "source": [
    "### METRICAS y Ejemplos"
   ]
  },
  {
   "cell_type": "code",
   "execution_count": 8,
   "metadata": {},
   "outputs": [
    {
     "name": "stdout",
     "output_type": "stream",
     "text": [
      "Score de Entrenamiento:  0.40590017152265045\n",
      "Score de Test:  0.40263890027251936\n",
      "MAE:  495.2076076408707\n",
      "MSE:  519547.1825369942\n",
      "RMSE:  720.7962142915252\n",
      "R2:  0.40263890027251936\n"
     ]
    }
   ],
   "source": [
    "# Métricas\n",
    "from sklearn import metrics\n",
    "print ('Score de Entrenamiento: ',clf.score(X__train, y__train))\n",
    "print ('Score de Test: ',clf.score(X__test, y_testDf))\n",
    "print ('MAE: ', metrics.mean_absolute_error(y_testDf, clf.predict(X__test)))\n",
    "print ('MSE: ', metrics.mean_squared_error(y_testDf, clf.predict(X__test)))\n",
    "print ('RMSE: ', np.sqrt(metrics.mean_squared_error(y_testDf, clf.predict(X__test))))\n",
    "print ('R2: ', metrics.r2_score(y_testDf, clf.predict(X__test)))"
   ]
  },
  {
   "cell_type": "code",
   "execution_count": 10,
   "metadata": {},
   "outputs": [
    {
     "name": "stderr",
     "output_type": "stream",
     "text": [
      "/opt/tljh/user/lib/python3.6/site-packages/sklearn/linear_model/coordinate_descent.py:1109: DataConversionWarning: A column-vector y was passed when a 1d array was expected. Please change the shape of y to (n_samples, ), for example using ravel().\n",
      "  y = column_or_1d(y, warn=True)\n",
      "/opt/tljh/user/lib/python3.6/site-packages/sklearn/model_selection/_split.py:2053: FutureWarning: You should specify a value for 'cv' instead of relying on the default value. The default value will change from 3 to 5 in version 0.22.\n",
      "  warnings.warn(CV_WARNING, FutureWarning)\n",
      "/opt/tljh/user/lib/python3.6/site-packages/sklearn/linear_model/coordinate_descent.py:1109: DataConversionWarning: A column-vector y was passed when a 1d array was expected. Please change the shape of y to (n_samples, ), for example using ravel().\n",
      "  y = column_or_1d(y, warn=True)\n",
      "/opt/tljh/user/lib/python3.6/site-packages/sklearn/model_selection/_split.py:2053: FutureWarning: You should specify a value for 'cv' instead of relying on the default value. The default value will change from 3 to 5 in version 0.22.\n",
      "  warnings.warn(CV_WARNING, FutureWarning)\n",
      "/opt/tljh/user/lib/python3.6/site-packages/sklearn/linear_model/coordinate_descent.py:1109: DataConversionWarning: A column-vector y was passed when a 1d array was expected. Please change the shape of y to (n_samples, ), for example using ravel().\n",
      "  y = column_or_1d(y, warn=True)\n",
      "/opt/tljh/user/lib/python3.6/site-packages/sklearn/model_selection/_split.py:2053: FutureWarning: You should specify a value for 'cv' instead of relying on the default value. The default value will change from 3 to 5 in version 0.22.\n",
      "  warnings.warn(CV_WARNING, FutureWarning)\n",
      "/opt/tljh/user/lib/python3.6/site-packages/sklearn/linear_model/coordinate_descent.py:1109: DataConversionWarning: A column-vector y was passed when a 1d array was expected. Please change the shape of y to (n_samples, ), for example using ravel().\n",
      "  y = column_or_1d(y, warn=True)\n",
      "/opt/tljh/user/lib/python3.6/site-packages/sklearn/model_selection/_split.py:2053: FutureWarning: You should specify a value for 'cv' instead of relying on the default value. The default value will change from 3 to 5 in version 0.22.\n",
      "  warnings.warn(CV_WARNING, FutureWarning)\n",
      "/opt/tljh/user/lib/python3.6/site-packages/sklearn/linear_model/coordinate_descent.py:1109: DataConversionWarning: A column-vector y was passed when a 1d array was expected. Please change the shape of y to (n_samples, ), for example using ravel().\n",
      "  y = column_or_1d(y, warn=True)\n",
      "/opt/tljh/user/lib/python3.6/site-packages/sklearn/model_selection/_split.py:2053: FutureWarning: You should specify a value for 'cv' instead of relying on the default value. The default value will change from 3 to 5 in version 0.22.\n",
      "  warnings.warn(CV_WARNING, FutureWarning)\n",
      "/opt/tljh/user/lib/python3.6/site-packages/sklearn/linear_model/coordinate_descent.py:1109: DataConversionWarning: A column-vector y was passed when a 1d array was expected. Please change the shape of y to (n_samples, ), for example using ravel().\n",
      "  y = column_or_1d(y, warn=True)\n",
      "/opt/tljh/user/lib/python3.6/site-packages/sklearn/model_selection/_split.py:2053: FutureWarning: You should specify a value for 'cv' instead of relying on the default value. The default value will change from 3 to 5 in version 0.22.\n",
      "  warnings.warn(CV_WARNING, FutureWarning)\n",
      "/opt/tljh/user/lib/python3.6/site-packages/sklearn/linear_model/coordinate_descent.py:1109: DataConversionWarning: A column-vector y was passed when a 1d array was expected. Please change the shape of y to (n_samples, ), for example using ravel().\n",
      "  y = column_or_1d(y, warn=True)\n",
      "/opt/tljh/user/lib/python3.6/site-packages/sklearn/model_selection/_split.py:2053: FutureWarning: You should specify a value for 'cv' instead of relying on the default value. The default value will change from 3 to 5 in version 0.22.\n",
      "  warnings.warn(CV_WARNING, FutureWarning)\n",
      "/opt/tljh/user/lib/python3.6/site-packages/sklearn/linear_model/coordinate_descent.py:1109: DataConversionWarning: A column-vector y was passed when a 1d array was expected. Please change the shape of y to (n_samples, ), for example using ravel().\n",
      "  y = column_or_1d(y, warn=True)\n",
      "/opt/tljh/user/lib/python3.6/site-packages/sklearn/model_selection/_split.py:2053: FutureWarning: You should specify a value for 'cv' instead of relying on the default value. The default value will change from 3 to 5 in version 0.22.\n",
      "  warnings.warn(CV_WARNING, FutureWarning)\n",
      "/opt/tljh/user/lib/python3.6/site-packages/sklearn/linear_model/coordinate_descent.py:1109: DataConversionWarning: A column-vector y was passed when a 1d array was expected. Please change the shape of y to (n_samples, ), for example using ravel().\n",
      "  y = column_or_1d(y, warn=True)\n",
      "/opt/tljh/user/lib/python3.6/site-packages/sklearn/model_selection/_split.py:2053: FutureWarning: You should specify a value for 'cv' instead of relying on the default value. The default value will change from 3 to 5 in version 0.22.\n",
      "  warnings.warn(CV_WARNING, FutureWarning)\n",
      "/opt/tljh/user/lib/python3.6/site-packages/sklearn/linear_model/coordinate_descent.py:1109: DataConversionWarning: A column-vector y was passed when a 1d array was expected. Please change the shape of y to (n_samples, ), for example using ravel().\n",
      "  y = column_or_1d(y, warn=True)\n",
      "/opt/tljh/user/lib/python3.6/site-packages/sklearn/model_selection/_split.py:2053: FutureWarning: You should specify a value for 'cv' instead of relying on the default value. The default value will change from 3 to 5 in version 0.22.\n",
      "  warnings.warn(CV_WARNING, FutureWarning)\n"
     ]
    },
    {
     "data": {
      "text/plain": [
       "array([0.44808959, 0.4433014 , 0.43310112, 0.40764177, 0.42184052,\n",
       "       0.43938195, 0.40788573, 0.4505278 , 0.42175533, 0.38458343])"
      ]
     },
     "execution_count": 10,
     "metadata": {},
     "output_type": "execute_result"
    }
   ],
   "source": [
    "# Cross Validation CV=10\n",
    "from sklearn.model_selection import cross_val_score\n",
    "cross_val_score(clf, X__test, y_testDf, cv=10)"
   ]
  }
 ],
 "metadata": {
  "accelerator": "GPU",
  "colab": {
   "collapsed_sections": [],
   "name": "ProperatyExploracion.ipynb",
   "provenance": [],
   "version": "0.3.2"
  },
  "kernelspec": {
   "display_name": "Python 3",
   "language": "python",
   "name": "python3"
  },
  "language_info": {
   "codemirror_mode": {
    "name": "ipython",
    "version": 3
   },
   "file_extension": ".py",
   "mimetype": "text/x-python",
   "name": "python",
   "nbconvert_exporter": "python",
   "pygments_lexer": "ipython3",
   "version": "3.6.8"
  }
 },
 "nbformat": 4,
 "nbformat_minor": 1
}
