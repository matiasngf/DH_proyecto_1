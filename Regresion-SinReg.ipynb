{
 "cells": [
  {
   "cell_type": "code",
   "execution_count": 23,
   "metadata": {
    "colab": {
     "base_uri": "https://localhost:8080/",
     "height": 501
    },
    "colab_type": "code",
    "executionInfo": {
     "elapsed": 1162,
     "status": "ok",
     "timestamp": 1555459153100,
     "user": {
      "displayName": "Matias Gonzalez Fernandez",
      "photoUrl": "",
      "userId": "02925906530158308490"
     },
     "user_tz": 180
    },
    "id": "paHr9FLWuqt7",
    "outputId": "d91d8d43-35e4-434d-ca93-32a9605eb455"
   },
   "outputs": [],
   "source": [
    "import pandas as pd\n",
    "import numpy as np\n",
    "import matplotlib as mpl\n",
    "from scipy import stats\n",
    "import matplotlib.pyplot as plt\n",
    "import seaborn as sns\n",
    "%matplotlib inline\n",
    "from sklearn.feature_extraction.text import TfidfVectorizer\n",
    "from sklearn.feature_extraction import DictVectorizer\n",
    "from scipy.sparse import hstack\n",
    "from sklearn.linear_model import Ridge\n",
    "from sklearn.model_selection import train_test_split, KFold, cross_val_score\n",
    "from sklearn.linear_model import LinearRegression, Lasso, LassoCV, Ridge, RidgeCV\n",
    "from sklearn.preprocessing import PolynomialFeatures, StandardScaler\n",
    "from sklearn.metrics import mean_squared_error, r2_score\n",
    "from sklearn import preprocessing\n",
    "from sklearn.linear_model import ElasticNetCV\n",
    "from sklearn.preprocessing import PolynomialFeatures\n"
   ]
  },
  {
   "cell_type": "code",
   "execution_count": 8,
   "metadata": {},
   "outputs": [],
   "source": [
    "# Importar pickle con el dataset preprocesado\n",
    "df = pd.read_pickle('DatasetFinalParaEntrenar.pkl')"
   ]
  },
  {
   "cell_type": "markdown",
   "metadata": {},
   "source": [
    "### Fit & Transform"
   ]
  },
  {
   "cell_type": "code",
   "execution_count": 9,
   "metadata": {},
   "outputs": [],
   "source": [
    "# Separar Variables por tipo\n",
    "categoricals = ['property_type','place_name','state_name','zona']\n",
    "descriptions = ['texto']\n",
    "numericals = ['surface_total_in_m2', 'surface_covered_in_m2', 'floor', 'rooms', 'expenses','lat','lon']\n",
    "dummies = ['subte','colectivo','balcon','tren','porton','financia', 'parrilla','pileta', 'solarium', 'lavadero', 'estacionamiento', 'no_apto_credito','apto_credito', 'amplioliving', 'cocheras', 'frente', 'contrafrente','seguridad', 'amenities', 'SUM', 'espaciosverdes','jacuzzi','estrenar','aptoprofesional','pozo','categoria','reciclado','luminoso','acondicionado','quincho','escalera']\n",
    "target = ['price_usd_per_m2']"
   ]
  },
  {
   "cell_type": "code",
   "execution_count": 22,
   "metadata": {},
   "outputs": [],
   "source": [
    "# Analyzar DEGREES de posibles polynomial features para una regresión lineal\n",
    "from sklearn.pipeline import make_pipeline\n",
    "#vectorizer = TfidfVectorizer(min_df=5)\n",
    "#enc = DictVectorizer()\n",
    "#clf = LinearRegression(fit_intercept=True)\n",
    "#normalizer = preprocessing.Normalizer()\n",
    "#poly = PolynomialFeatures(degree), include_bias = False)\n",
    "\n",
    "def PolynomialRegression(degree=4, **kwargs):\n",
    "    return make_pipeline(PolynomialFeatures(degree),\n",
    "                         LinearRegression(fit_intercept=True,n_jobs=-1,**kwargs))\n",
    "\n",
    "from sklearn.model_selection import validation_curve\n",
    "grados_a_testear = np.arange(0, 9)\n",
    "train_score, val_score = validation_curve(PolynomialRegression(), df[numericals], Ydf, 'polynomialfeatures__degree'\n",
    "                                          , grados_a_testear, cv=10) #cv= validacion cruzada, cuanta cantidad quiero\n"
   ]
  },
  {
   "cell_type": "code",
   "execution_count": 24,
   "metadata": {},
   "outputs": [
    {
     "name": "stdout",
     "output_type": "stream",
     "text": [
      "[[0.         0.         0.         0.         0.         0.\n",
      "  0.         0.         0.         0.        ]\n",
      " [0.21211393 0.21001041 0.21081992 0.20577614 0.20962305 0.21234968\n",
      "  0.2117226  0.2183311  0.21375255 0.20432098]\n",
      " [0.30011578 0.29899187 0.30096051 0.29235834 0.29639803 0.29921609\n",
      "  0.29874804 0.29979044 0.30334968 0.29158386]]\n",
      "[[-1.72927606e-02 -2.13082605e-02 -5.12597618e-03 -6.85153401e-03\n",
      "  -8.14488694e-04 -1.49136775e-05 -3.67340465e-02 -3.29047455e-02\n",
      "  -1.76501696e-03 -7.70378039e-03]\n",
      " [ 1.75088824e-01  1.94051266e-01  2.01667813e-01  2.46377738e-01\n",
      "   2.14502307e-01  1.84636055e-01  1.65049318e-01 -9.58684362e-03\n",
      "   1.68349061e-01  2.59203486e-01]\n",
      " [ 2.60130300e-01  2.35990255e-01  2.70889309e-01  3.42791147e-01\n",
      "   2.85864738e-01  2.80895773e-01  2.62774478e-01 -3.44689772e-01\n",
      "   2.31526873e-01  3.49461252e-01]]\n"
     ]
    },
    {
     "data": {
      "image/png": "[encoded data removed]",
      "text/plain": [
       "<Figure size 432x288 with 1 Axes>"
      ]
     },
     "metadata": {
      "needs_background": "light"
     },
     "output_type": "display_data"
    }
   ],
   "source": [
    "# Graficar curva\n",
    "print(train_score[:3])\n",
    "print(val_score[:3])\n",
    "\n",
    "plt.plot(grados_a_testear, np.mean(train_score, axis=1), color='blue', label='training score')\n",
    "plt.plot(grados_a_testear, np.mean(val_score, axis=1), color='red', label='validation score')\n",
    "plt.legend(loc='best')\n",
    "plt.ylim(0, 1)\n",
    "plt.xlabel('degree')\n",
    "plt.ylabel('score');"
   ]
  },
  {
   "cell_type": "code",
   "execution_count": 25,
   "metadata": {},
   "outputs": [],
   "source": [
    "# Separar Train-Test\n",
    "\n",
    "Xdf = df[np.concatenate([\n",
    "        categoricals,\n",
    "        descriptions,\n",
    "        numericals,\n",
    "        dummies\n",
    "])]\n",
    "Ydf = df[target]\n",
    "\n",
    "X_trainDf, X_testDf, y_trainDf, y_testDf = train_test_split(Xdf, Ydf, test_size=0.30)"
   ]
  },
  {
   "cell_type": "code",
   "execution_count": 26,
   "metadata": {},
   "outputs": [],
   "source": [
    "# FIT (función) - Vectorizar categóricas, Vectorizar texto en Description y Normalizar continuas\n",
    "vectorizer = TfidfVectorizer(min_df=5)\n",
    "enc = DictVectorizer()\n",
    "clf = LinearRegression(fit_intercept=True,n_jobs=-1)\n",
    "normalizer = preprocessing.Normalizer()\n",
    "poly = PolynomialFeatures(degree = 1, include_bias = False)\n",
    "\n",
    "def fit_model(X_train, Y_train):\n",
    "    texts = X_train[descriptions]\n",
    "    texts = texts.applymap(lambda x: x.lower())\n",
    "    texts = texts.replace('[^a-zA-Z0-9]', ' ', regex = True)\n",
    "\n",
    "    X_tfidf = vectorizer.fit_transform(texts[descriptions[0]])\n",
    "    \n",
    "    X_train_categ = enc.fit_transform(X_train[categoricals].to_dict('records'))\n",
    "    \n",
    "    X_numericas = poly.fit_transform(normalizer.fit_transform(X_train[numericals]))\n",
    "    \n",
    "    X_dummies = X_train[dummies]\n",
    "\n",
    "    X = hstack([X_tfidf, X_train_categ, X_numericas, X_dummies]) # regualirzar las numericas luego de splitear\n",
    "    \n",
    "    # train model on data\n",
    "    clf.fit(X, Y_train)\n",
    "    return X, Y_train\n",
    "\n",
    "X__train, y__train = fit_model(X_trainDf, y_trainDf)"
   ]
  },
  {
   "cell_type": "code",
   "execution_count": 27,
   "metadata": {},
   "outputs": [
    {
     "data": {
      "text/plain": [
       "<26910x21981 sparse matrix of type '<class 'numpy.float64'>'\n",
       "\twith 2153646 stored elements in COOrdinate format>"
      ]
     },
     "execution_count": 27,
     "metadata": {},
     "output_type": "execute_result"
    }
   ],
   "source": [
    "# TRANSFORM (función)\n",
    "def transform_model(X_train):\n",
    "    texts = X_train[descriptions]\n",
    "    texts = texts.applymap(lambda x: x.lower())\n",
    "    texts = texts.replace('[^a-zA-Z0-9]', ' ', regex = True)\n",
    "\n",
    "    X_tfidf = vectorizer.transform(texts[descriptions[0]])\n",
    "    \n",
    "    X_train_categ = enc.transform(X_train[categoricals].to_dict('records'))\n",
    "    \n",
    "    X_numericas = poly.transform(normalizer.transform(X_train[numericals]))\n",
    "    \n",
    "    X_dummies = X_train[dummies]\n",
    "\n",
    "    X = hstack([X_tfidf, X_train_categ, X_numericas, X_dummies])\n",
    "    \n",
    "    return X\n",
    "X__test = transform_model(X_testDf)\n",
    "X__test"
   ]
  },
  {
   "cell_type": "code",
   "execution_count": 28,
   "metadata": {},
   "outputs": [
    {
     "name": "stdout",
     "output_type": "stream",
     "text": [
      "Score de Entrenamiento:  0.8615408971250876\n",
      "Score de Test:  0.5161040948823841\n",
      "MAE:  398.16659930363534\n",
      "MSE:  417246.8499607679\n",
      "RMSE:  645.9464760804628\n",
      "R2:  0.5161040948823841\n"
     ]
    }
   ],
   "source": [
    "# Métricas\n",
    "from sklearn import metrics\n",
    "print ('Score de Entrenamiento: ',clf.score(X__train, y__train))\n",
    "print ('Score de Test: ',clf.score(X__test, y_testDf))\n",
    "print ('MAE: ', metrics.mean_absolute_error(y_testDf, clf.predict(X__test)))\n",
    "print ('MSE: ', metrics.mean_squared_error(y_testDf, clf.predict(X__test)))\n",
    "print ('RMSE: ', np.sqrt(metrics.mean_squared_error(y_testDf, clf.predict(X__test))))\n",
    "print ('R2: ', metrics.r2_score(y_testDf, clf.predict(X__test)))"
   ]
  },
  {
   "cell_type": "code",
   "execution_count": 29,
   "metadata": {},
   "outputs": [
    {
     "name": "stdout",
     "output_type": "stream",
     "text": [
      "1355.5373251973263\n",
      "1453.4883720930234\n"
     ]
    }
   ],
   "source": [
    "# Ejemplo\n",
    "print(clf.predict(X__test)[100][0])\n",
    "print(y_testDf.iloc[100,0])"
   ]
  }
 ],
 "metadata": {
  "accelerator": "GPU",
  "colab": {
   "collapsed_sections": [],
   "name": "ProperatyExploracion.ipynb",
   "provenance": [],
   "version": "0.3.2"
  },
  "kernelspec": {
   "display_name": "Python 3",
   "language": "python",
   "name": "python3"
  },
  "language_info": {
   "codemirror_mode": {
    "name": "ipython",
    "version": 3
   },
   "file_extension": ".py",
   "mimetype": "text/x-python",
   "name": "python",
   "nbconvert_exporter": "python",
   "pygments_lexer": "ipython3",
   "version": "3.6.8"
  }
 },
 "nbformat": 4,
 "nbformat_minor": 1
}
