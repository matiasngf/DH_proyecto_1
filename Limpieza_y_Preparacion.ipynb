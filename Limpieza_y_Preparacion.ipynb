{
 "cells": [
  {
   "cell_type": "code",
   "execution_count": 81,
   "metadata": {
    "colab": {},
    "colab_type": "code",
    "id": "6ofoSnKd9OwN"
   },
   "outputs": [],
   "source": [
    "import pandas as pd\n",
    "import numpy as np\n",
    "import matplotlib as mpl\n",
    "from scipy import stats\n",
    "import matplotlib.pyplot as plt\n",
    "%matplotlib inline\n",
    "#%matplotlib notebook"
   ]
  },
  {
   "cell_type": "code",
   "execution_count": 82,
   "metadata": {
    "colab": {},
    "colab_type": "code",
    "id": "VEzQATNn9Owd"
   },
   "outputs": [],
   "source": [
    "df = pd.read_pickle(\"properati.pkl\")"
   ]
  },
  {
   "cell_type": "markdown",
   "metadata": {},
   "source": [
    "* Descartamos que las otras columnas de precio nos sirvan para imputar superficies donde falten, y que existan datos de precio cuando price_aprox_usd sea nula"
   ]
  },
  {
   "cell_type": "code",
   "execution_count": 83,
   "metadata": {},
   "outputs": [
    {
     "data": {
      "text/plain": [
       "0"
      ]
     },
     "execution_count": 83,
     "metadata": {},
     "output_type": "execute_result"
    }
   ],
   "source": [
    "# Hay datos de precio x m2 en filas que no tengan datos de superficie?\n",
    "df[\"price_usd_per_m2\"].loc[(df[\"surface_total_in_m2\"].isnull() & df[\"surface_covered_in_m2\"].isnull())].count()"
   ]
  },
  {
   "cell_type": "code",
   "execution_count": 84,
   "metadata": {},
   "outputs": [
    {
     "data": {
      "text/plain": [
       "0"
      ]
     },
     "execution_count": 84,
     "metadata": {},
     "output_type": "execute_result"
    }
   ],
   "source": [
    "df[\"price_per_m2\"].loc[(df[\"surface_total_in_m2\"].isnull() & df[\"surface_covered_in_m2\"].isnull())].count()"
   ]
  },
  {
   "cell_type": "code",
   "execution_count": 85,
   "metadata": {},
   "outputs": [
    {
     "name": "stdout",
     "output_type": "stream",
     "text": [
      "0\n",
      "0\n"
     ]
    }
   ],
   "source": [
    "# Hay datos de precio en moneda original para los campos en null en \"price_aprox_usd\"?\n",
    "print(df[\"price\"].loc[df[\"price_aprox_usd\"].isnull()].count())\n",
    "print(df[\"price_aprox_local_currency\"].loc[df[\"price_aprox_usd\"].isnull()].count())"
   ]
  },
  {
   "cell_type": "markdown",
   "metadata": {},
   "source": [
    "* Detectamos errores posibles en la carga de la moneda"
   ]
  },
  {
   "cell_type": "code",
   "execution_count": 86,
   "metadata": {},
   "outputs": [
    {
     "data": {
      "text/plain": [
       "'Cantidad de valores en ARS: 10'"
      ]
     },
     "metadata": {},
     "output_type": "display_data"
    },
    {
     "data": {
      "text/plain": [
       "array(['Boedo', 'Ituzaingó', 'Rosario', 'Villa Ballester'], dtype=object)"
      ]
     },
     "metadata": {},
     "output_type": "display_data"
    }
   ],
   "source": [
    "pricesUSD = df[(\n",
    "    ~np.isnan(df['price']) & #aca estoy sacando los NaN\n",
    "    [False if pd.isnull(x) else x=='USD' for x in df['currency']] #aca estoy filtrando los que tengan currency en USD\n",
    ")].sort_values(by='price_usd_per_m2', ascending=False).head(10);\n",
    "\n",
    "\n",
    "display('Cantidad de valores en ARS: %d' %len(pricesUSD))\n",
    "display(pricesUSD['place_name'].unique())"
   ]
  },
  {
   "cell_type": "code",
   "execution_count": 87,
   "metadata": {},
   "outputs": [],
   "source": [
    "# reparamos los precios erróneos encontrados\n",
    "pricesFixed = pricesUSD.copy()\n",
    "valorDolar = np.round(pricesFixed['price_aprox_local_currency'] / pricesFixed['price_aprox_usd'], 2)\n",
    "\n",
    "pricesFixed['price_aprox_local_currency'] = pricesFixed['price_aprox_usd']\n",
    "pricesFixed['price_aprox_usd'] = np.round(pricesFixed['price_aprox_usd'] / valorDolar)\n",
    "pricesFixed['price'] = pricesFixed['price_aprox_usd']\n",
    "\n",
    "pricesFixed['price_usd_per_m2'] = pricesFixed['price'] / pricesFixed['surface_covered_in_m2']\n",
    "\n",
    "pricesFixed.currency = 'ARS'\n",
    "\n",
    "df.iloc[pricesFixed.index] = pricesFixed"
   ]
  },
  {
   "cell_type": "markdown",
   "metadata": {},
   "source": [
    "* Imputamos \"surface_covered_in_m2\" a \"surface_total_in_m2\" donde la segunda es nula pero hay datos en la primera"
   ]
  },
  {
   "cell_type": "code",
   "execution_count": 88,
   "metadata": {},
   "outputs": [
    {
     "data": {
      "text/plain": [
       "233.79532799296635"
      ]
     },
     "execution_count": 88,
     "metadata": {},
     "output_type": "execute_result"
    }
   ],
   "source": [
    "# la media de superficie antes de imputar\n",
    "df[\"surface_total_in_m2\"].mean()"
   ]
  },
  {
   "cell_type": "code",
   "execution_count": 89,
   "metadata": {},
   "outputs": [],
   "source": [
    "# imputamos\n",
    "df[\"surface_total_in_m2\"] = \\\n",
    "np.where(df[\"surface_total_in_m2\"].isnull(),df[\"surface_covered_in_m2\"],df[\"surface_total_in_m2\"])"
   ]
  },
  {
   "cell_type": "code",
   "execution_count": 90,
   "metadata": {},
   "outputs": [
    {
     "data": {
      "text/plain": [
       "211.39387786974856"
      ]
     },
     "execution_count": 90,
     "metadata": {},
     "output_type": "execute_result"
    }
   ],
   "source": [
    "# la media de superficie despues de imputar\n",
    "df[\"surface_total_in_m2\"].mean()"
   ]
  },
  {
   "cell_type": "code",
   "execution_count": 91,
   "metadata": {},
   "outputs": [
    {
     "data": {
      "text/plain": [
       "0"
      ]
     },
     "execution_count": 91,
     "metadata": {},
     "output_type": "execute_result"
    }
   ],
   "source": [
    "# chequeamos que la imputación haya sido completa\n",
    "df[\"surface_covered_in_m2\"].loc[df[\"surface_total_in_m2\"].isnull()].count()"
   ]
  },
  {
   "cell_type": "markdown",
   "metadata": {},
   "source": [
    "* Parseamos el campo \"description\" para rescatar datos"
   ]
  },
  {
   "cell_type": "code",
   "execution_count": 92,
   "metadata": {
    "scrolled": true
   },
   "outputs": [
    {
     "name": "stdout",
     "output_type": "stream",
     "text": [
      "17714\n"
     ]
    }
   ],
   "source": [
    "# en busca de cantidad de dormitorios\n",
    "df[\"dorm_en_desc\"] = df['description'].str.extract('(\\d+?) (dormitorios|dormitorio)')[0]\n",
    "# contamos cuantos datos ganamos\n",
    "print(df[\"dorm_en_desc\"].loc[df[\"rooms\"].isnull()].count())\n",
    "# imputamos sumando 1 para transformar dormitorios en ambientes\n",
    "df[\"rooms\"] = np.where(df[\"rooms\"].isnull(),pd.to_numeric(df[\"dorm_en_desc\"]) + 1,df[\"rooms\"])\n",
    "# dropeamos la columna intermedia\n",
    "df.drop(columns=[\"dorm_en_desc\"], inplace=True)"
   ]
  },
  {
   "cell_type": "code",
   "execution_count": 93,
   "metadata": {},
   "outputs": [
    {
     "name": "stdout",
     "output_type": "stream",
     "text": [
      "8080\n"
     ]
    }
   ],
   "source": [
    "# en busca de cantidad de ambientes\n",
    "df[\"amb_en_desc\"] = df['description'].str.extract('(\\d+?) (ambientes|ambiente)')[0]\n",
    "# contamos cuantos datos ganamos\n",
    "print(df[\"amb_en_desc\"].loc[df[\"rooms\"].isnull()].count())\n",
    "# imputamos suma\n",
    "df[\"rooms\"] = np.where(df[\"rooms\"].isnull(),pd.to_numeric(df[\"amb_en_desc\"]),df[\"rooms\"])\n",
    "# dropeamos la columna intermedia\n",
    "df.drop(columns=[\"amb_en_desc\"], inplace=True)"
   ]
  },
  {
   "cell_type": "markdown",
   "metadata": {},
   "source": [
    "* Parseamos el campo \"title\" para rescatar datos"
   ]
  },
  {
   "cell_type": "code",
   "execution_count": 94,
   "metadata": {},
   "outputs": [
    {
     "name": "stdout",
     "output_type": "stream",
     "text": [
      "557\n"
     ]
    }
   ],
   "source": [
    "# en busca de cantidad de dormitorios\n",
    "df[\"dorm_en_tit\"] = df['title'].str.extract('(\\d+?) (dormitorios|dormitorio)')[0]\n",
    "# y contamos cuantos datos ganamos\n",
    "print(df[\"dorm_en_tit\"].loc[df[\"rooms\"].isnull()].count())\n",
    "# imputamos sumando 1 para transformar dormitorios en ambientes\n",
    "df[\"rooms\"] = np.where(df[\"rooms\"].isnull(),pd.to_numeric(df[\"dorm_en_tit\"]) + 1,df[\"rooms\"])\n",
    "# dropeamos la columna intermedia\n",
    "df.drop(columns=[\"dorm_en_tit\"], inplace=True)"
   ]
  },
  {
   "cell_type": "code",
   "execution_count": 95,
   "metadata": {},
   "outputs": [
    {
     "name": "stdout",
     "output_type": "stream",
     "text": [
      "917\n"
     ]
    }
   ],
   "source": [
    "# en busca de cantidad de ambientes\n",
    "df[\"amb_en_tit\"] = df['title'].str.extract('(\\d+?) (ambientes|ambiente)')[0]\n",
    "# contamos cuantos datos ganamos\n",
    "print(df[\"amb_en_tit\"].loc[df[\"rooms\"].isnull()].count())\n",
    "# imputamos\n",
    "df[\"rooms\"] = np.where(df[\"rooms\"].isnull(),pd.to_numeric(df[\"amb_en_tit\"]),df[\"rooms\"])\n",
    "# dropeamos la columna intermedia\n",
    "df.drop(columns=[\"amb_en_tit\"], inplace=True)"
   ]
  },
  {
   "cell_type": "markdown",
   "metadata": {},
   "source": [
    "* Eliminamos outliers en \"price_aprox_usd\" (por zona y tipo) rellenando con nan por encima de los 3 desvios"
   ]
  },
  {
   "cell_type": "code",
   "execution_count": 96,
   "metadata": {},
   "outputs": [
    {
     "data": {
      "text/plain": [
       "1825"
      ]
     },
     "execution_count": 96,
     "metadata": {},
     "output_type": "execute_result"
    }
   ],
   "source": [
    "# transformamos en zscore por state_name, place_name y property_type la variable \"price_aprox_usd\"\n",
    "df[\"price_aprox_usd_zscore\"] = (df.groupby(['state_name','place_name','property_type'])[[\"price_aprox_usd\"]]\n",
    ".apply(lambda x: (x - x.mean()) / x.std()))\n",
    "# y contamos outliers por sobre los 3 desvíos\n",
    "df[\"price_aprox_usd_zscore\"][df[\"price_aprox_usd_zscore\"] > 3].count()"
   ]
  },
  {
   "cell_type": "code",
   "execution_count": 97,
   "metadata": {},
   "outputs": [
    {
     "data": {
      "text/plain": [
       "239325.43501795456"
      ]
     },
     "execution_count": 97,
     "metadata": {},
     "output_type": "execute_result"
    }
   ],
   "source": [
    "# calculamos la media antes de eliminar outliers\n",
    "df[\"price_aprox_usd\"].mean()"
   ]
  },
  {
   "cell_type": "code",
   "execution_count": 98,
   "metadata": {},
   "outputs": [],
   "source": [
    "#eliminamos outliers\n",
    "df[\"price_aprox_usd\"] = np.where(df[\"price_aprox_usd_zscore\"]>3,np.nan,df[\"price_aprox_usd\"])"
   ]
  },
  {
   "cell_type": "code",
   "execution_count": 99,
   "metadata": {},
   "outputs": [
    {
     "data": {
      "text/plain": [
       "218745.10077375357"
      ]
     },
     "execution_count": 99,
     "metadata": {},
     "output_type": "execute_result"
    }
   ],
   "source": [
    "# calculamos la media despues de eliminar outliers\n",
    "df[\"price_aprox_usd\"].mean()"
   ]
  },
  {
   "cell_type": "markdown",
   "metadata": {},
   "source": [
    "#### --------------------------------------------------------------------------------------------------------------------------------------------------------------------------------"
   ]
  },
  {
   "cell_type": "code",
   "execution_count": 102,
   "metadata": {},
   "outputs": [],
   "source": [
    "# eliminar los ceros en la variable surface_total_in_m2\n",
    "df[\"surface_total_in_m2\"] = np.where(df[\"surface_total_in_m2\"] == 0, np.nan,df[\"surface_total_in_m2\"])"
   ]
  },
  {
   "cell_type": "code",
   "execution_count": 103,
   "metadata": {},
   "outputs": [],
   "source": [
    "# eliminar los ceros en la variable surface_total_in_m2\n",
    "df[\"price_aprox_usd\"] = np.where(df[\"price_aprox_usd\"] == 0, np.nan,df[\"price_aprox_usd\"])"
   ]
  },
  {
   "cell_type": "code",
   "execution_count": 104,
   "metadata": {},
   "outputs": [],
   "source": [
    "# recalcular el precio por m2 despues de repoblar las superficies\n",
    "df[\"price_usd_m2_nue\"] = np.divide(df[\"price_aprox_usd\"],df[\"surface_total_in_m2\"])"
   ]
  },
  {
   "cell_type": "code",
   "execution_count": 105,
   "metadata": {},
   "outputs": [
    {
     "data": {
      "text/plain": [
       "2605.6516295838446"
      ]
     },
     "execution_count": 105,
     "metadata": {},
     "output_type": "execute_result"
    }
   ],
   "source": [
    "df[\"price_usd_m2_nue\"].mean()"
   ]
  },
  {
   "cell_type": "code",
   "execution_count": 75,
   "metadata": {},
   "outputs": [
    {
     "data": {
      "text/html": [
       "<div>\n",
       "<style scoped>\n",
       "    .dataframe tbody tr th:only-of-type {\n",
       "        vertical-align: middle;\n",
       "    }\n",
       "\n",
       "    .dataframe tbody tr th {\n",
       "        vertical-align: top;\n",
       "    }\n",
       "\n",
       "    .dataframe thead th {\n",
       "        text-align: right;\n",
       "    }\n",
       "</style>\n",
       "<table border=\"1\" class=\"dataframe\">\n",
       "  <thead>\n",
       "    <tr style=\"text-align: right;\">\n",
       "      <th></th>\n",
       "      <th></th>\n",
       "      <th></th>\n",
       "      <th>price_usd_m2_nue</th>\n",
       "    </tr>\n",
       "    <tr>\n",
       "      <th>state_name</th>\n",
       "      <th>place_name</th>\n",
       "      <th>property_type</th>\n",
       "      <th></th>\n",
       "    </tr>\n",
       "  </thead>\n",
       "  <tbody>\n",
       "    <tr>\n",
       "      <th>Bs.As. G.B.A. Zona Oeste</th>\n",
       "      <th>Marcos Paz</th>\n",
       "      <th>store</th>\n",
       "      <td>225140.209175</td>\n",
       "    </tr>\n",
       "    <tr>\n",
       "      <th>Bs.As. G.B.A. Zona Sur</th>\n",
       "      <th>GreenVille Polo &amp; Resort</th>\n",
       "      <th>apartment</th>\n",
       "      <td>102250.000000</td>\n",
       "    </tr>\n",
       "    <tr>\n",
       "      <th>Bs.As. G.B.A. Zona Norte</th>\n",
       "      <th>Barrio Cerrado \"La Escondida\"</th>\n",
       "      <th>house</th>\n",
       "      <td>38450.000000</td>\n",
       "    </tr>\n",
       "    <tr>\n",
       "      <th>Córdoba</th>\n",
       "      <th>Las Calles</th>\n",
       "      <th>house</th>\n",
       "      <td>28000.000000</td>\n",
       "    </tr>\n",
       "    <tr>\n",
       "      <th>Bs.As. G.B.A. Zona Oeste</th>\n",
       "      <th>Trujui</th>\n",
       "      <th>store</th>\n",
       "      <td>25000.000000</td>\n",
       "    </tr>\n",
       "    <tr>\n",
       "      <th>Entre Ríos</th>\n",
       "      <th>Alejandro Roca</th>\n",
       "      <th>house</th>\n",
       "      <td>24038.461538</td>\n",
       "    </tr>\n",
       "    <tr>\n",
       "      <th>Capital Federal</th>\n",
       "      <th>Velez Sarsfield</th>\n",
       "      <th>store</th>\n",
       "      <td>21750.000000</td>\n",
       "    </tr>\n",
       "    <tr>\n",
       "      <th>Bs.As. G.B.A. Zona Norte</th>\n",
       "      <th>El Canton Barrio Norte</th>\n",
       "      <th>house</th>\n",
       "      <td>20000.000000</td>\n",
       "    </tr>\n",
       "    <tr>\n",
       "      <th>Bs.As. G.B.A. Zona Sur</th>\n",
       "      <th>San Francisco Solano</th>\n",
       "      <th>store</th>\n",
       "      <td>19000.000000</td>\n",
       "    </tr>\n",
       "    <tr>\n",
       "      <th>Buenos Aires Interior</th>\n",
       "      <th>Carlos Keen</th>\n",
       "      <th>house</th>\n",
       "      <td>18500.000000</td>\n",
       "    </tr>\n",
       "    <tr>\n",
       "      <th>Mendoza</th>\n",
       "      <th>San Francisco del Monte</th>\n",
       "      <th>apartment</th>\n",
       "      <td>15833.333333</td>\n",
       "    </tr>\n",
       "    <tr>\n",
       "      <th>Buenos Aires Interior</th>\n",
       "      <th>Cardales Country Club</th>\n",
       "      <th>house</th>\n",
       "      <td>14057.692308</td>\n",
       "    </tr>\n",
       "    <tr>\n",
       "      <th rowspan=\"2\" valign=\"top\">Bs.As. G.B.A. Zona Norte</th>\n",
       "      <th>Villa de Mayo</th>\n",
       "      <th>store</th>\n",
       "      <td>12500.000000</td>\n",
       "    </tr>\n",
       "    <tr>\n",
       "      <th>Barrio Privado \"Ayres de Pilar\"</th>\n",
       "      <th>house</th>\n",
       "      <td>12266.949153</td>\n",
       "    </tr>\n",
       "    <tr>\n",
       "      <th rowspan=\"2\" valign=\"top\">Buenos Aires Interior</th>\n",
       "      <th>Pergamino</th>\n",
       "      <th>store</th>\n",
       "      <td>10000.000000</td>\n",
       "    </tr>\n",
       "    <tr>\n",
       "      <th>San Nicolás de los Arroyos</th>\n",
       "      <th>house</th>\n",
       "      <td>8750.000000</td>\n",
       "    </tr>\n",
       "    <tr>\n",
       "      <th>Bs.As. G.B.A. Zona Norte</th>\n",
       "      <th>Los Sauces Country Club</th>\n",
       "      <th>house</th>\n",
       "      <td>8491.379310</td>\n",
       "    </tr>\n",
       "    <tr>\n",
       "      <th>Córdoba</th>\n",
       "      <th>Oliva</th>\n",
       "      <th>house</th>\n",
       "      <td>8387.096774</td>\n",
       "    </tr>\n",
       "    <tr>\n",
       "      <th>Bs.As. G.B.A. Zona Norte</th>\n",
       "      <th>Hacoaj Barrio Cerrado</th>\n",
       "      <th>house</th>\n",
       "      <td>8346.153846</td>\n",
       "    </tr>\n",
       "    <tr>\n",
       "      <th>Capital Federal</th>\n",
       "      <th>Palermo Chico</th>\n",
       "      <th>store</th>\n",
       "      <td>8338.060125</td>\n",
       "    </tr>\n",
       "    <tr>\n",
       "      <th>Bs.As. G.B.A. Zona Oeste</th>\n",
       "      <th>St. Patrick Country</th>\n",
       "      <th>house</th>\n",
       "      <td>8048.309179</td>\n",
       "    </tr>\n",
       "    <tr>\n",
       "      <th rowspan=\"2\" valign=\"top\">Capital Federal</th>\n",
       "      <th>Villa Santa Rita</th>\n",
       "      <th>store</th>\n",
       "      <td>8000.000000</td>\n",
       "    </tr>\n",
       "    <tr>\n",
       "      <th>Boedo</th>\n",
       "      <th>apartment</th>\n",
       "      <td>7833.333333</td>\n",
       "    </tr>\n",
       "    <tr>\n",
       "      <th>Córdoba</th>\n",
       "      <th>Cosquín</th>\n",
       "      <th>store</th>\n",
       "      <td>7500.000000</td>\n",
       "    </tr>\n",
       "    <tr>\n",
       "      <th>Misiones</th>\n",
       "      <th>Puerto Iguazú</th>\n",
       "      <th>house</th>\n",
       "      <td>7250.000000</td>\n",
       "    </tr>\n",
       "    <tr>\n",
       "      <th>Bs.As. G.B.A. Zona Norte</th>\n",
       "      <th>Barrio Alamo Alto</th>\n",
       "      <th>house</th>\n",
       "      <td>6800.000000</td>\n",
       "    </tr>\n",
       "    <tr>\n",
       "      <th>Córdoba</th>\n",
       "      <th>Monte Cristo</th>\n",
       "      <th>house</th>\n",
       "      <td>6400.000000</td>\n",
       "    </tr>\n",
       "    <tr>\n",
       "      <th>Mendoza</th>\n",
       "      <th>Villa Nueva</th>\n",
       "      <th>house</th>\n",
       "      <td>6276.150628</td>\n",
       "    </tr>\n",
       "    <tr>\n",
       "      <th rowspan=\"2\" valign=\"top\">Capital Federal</th>\n",
       "      <th rowspan=\"2\" valign=\"top\">Puerto Madero</th>\n",
       "      <th>store</th>\n",
       "      <td>6111.111111</td>\n",
       "    </tr>\n",
       "    <tr>\n",
       "      <th>apartment</th>\n",
       "      <td>5836.374696</td>\n",
       "    </tr>\n",
       "    <tr>\n",
       "      <th>...</th>\n",
       "      <th>...</th>\n",
       "      <th>...</th>\n",
       "      <td>...</td>\n",
       "    </tr>\n",
       "    <tr>\n",
       "      <th rowspan=\"22\" valign=\"top\">Santa Fe</th>\n",
       "      <th>Laguna Paiva</th>\n",
       "      <th>house</th>\n",
       "      <td>NaN</td>\n",
       "    </tr>\n",
       "    <tr>\n",
       "      <th rowspan=\"2\" valign=\"top\">Las Parejas</th>\n",
       "      <th>house</th>\n",
       "      <td>NaN</td>\n",
       "    </tr>\n",
       "    <tr>\n",
       "      <th>store</th>\n",
       "      <td>NaN</td>\n",
       "    </tr>\n",
       "    <tr>\n",
       "      <th>Las Rosas</th>\n",
       "      <th>store</th>\n",
       "      <td>NaN</td>\n",
       "    </tr>\n",
       "    <tr>\n",
       "      <th>Los Laureles</th>\n",
       "      <th>house</th>\n",
       "      <td>NaN</td>\n",
       "    </tr>\n",
       "    <tr>\n",
       "      <th>Presidente Roca</th>\n",
       "      <th>house</th>\n",
       "      <td>NaN</td>\n",
       "    </tr>\n",
       "    <tr>\n",
       "      <th>Pujato Norte</th>\n",
       "      <th>house</th>\n",
       "      <td>NaN</td>\n",
       "    </tr>\n",
       "    <tr>\n",
       "      <th rowspan=\"2\" valign=\"top\">Rafaela</th>\n",
       "      <th>PH</th>\n",
       "      <td>NaN</td>\n",
       "    </tr>\n",
       "    <tr>\n",
       "      <th>store</th>\n",
       "      <td>NaN</td>\n",
       "    </tr>\n",
       "    <tr>\n",
       "      <th>Reconquista</th>\n",
       "      <th>store</th>\n",
       "      <td>NaN</td>\n",
       "    </tr>\n",
       "    <tr>\n",
       "      <th>Rufino</th>\n",
       "      <th>house</th>\n",
       "      <td>NaN</td>\n",
       "    </tr>\n",
       "    <tr>\n",
       "      <th>San Carlos Centro</th>\n",
       "      <th>store</th>\n",
       "      <td>NaN</td>\n",
       "    </tr>\n",
       "    <tr>\n",
       "      <th>San Cristóbal</th>\n",
       "      <th>house</th>\n",
       "      <td>NaN</td>\n",
       "    </tr>\n",
       "    <tr>\n",
       "      <th>San Javier</th>\n",
       "      <th>house</th>\n",
       "      <td>NaN</td>\n",
       "    </tr>\n",
       "    <tr>\n",
       "      <th>San José del Rincón</th>\n",
       "      <th>house</th>\n",
       "      <td>NaN</td>\n",
       "    </tr>\n",
       "    <tr>\n",
       "      <th>Santa Rosa de Calchines</th>\n",
       "      <th>house</th>\n",
       "      <td>NaN</td>\n",
       "    </tr>\n",
       "    <tr>\n",
       "      <th>Santa Teresa</th>\n",
       "      <th>house</th>\n",
       "      <td>NaN</td>\n",
       "    </tr>\n",
       "    <tr>\n",
       "      <th>Sarmiento</th>\n",
       "      <th>house</th>\n",
       "      <td>NaN</td>\n",
       "    </tr>\n",
       "    <tr>\n",
       "      <th>Sauce Viejo</th>\n",
       "      <th>house</th>\n",
       "      <td>NaN</td>\n",
       "    </tr>\n",
       "    <tr>\n",
       "      <th>Sunchales</th>\n",
       "      <th>house</th>\n",
       "      <td>NaN</td>\n",
       "    </tr>\n",
       "    <tr>\n",
       "      <th>Susana</th>\n",
       "      <th>house</th>\n",
       "      <td>NaN</td>\n",
       "    </tr>\n",
       "    <tr>\n",
       "      <th>Álvarez</th>\n",
       "      <th>house</th>\n",
       "      <td>NaN</td>\n",
       "    </tr>\n",
       "    <tr>\n",
       "      <th>Tierra Del Fuego</th>\n",
       "      <th>Ushuaia</th>\n",
       "      <th>store</th>\n",
       "      <td>NaN</td>\n",
       "    </tr>\n",
       "    <tr>\n",
       "      <th rowspan=\"7\" valign=\"top\">Tucumán</th>\n",
       "      <th>Banda del Río Salí</th>\n",
       "      <th>house</th>\n",
       "      <td>NaN</td>\n",
       "    </tr>\n",
       "    <tr>\n",
       "      <th>Concepción</th>\n",
       "      <th>house</th>\n",
       "      <td>NaN</td>\n",
       "    </tr>\n",
       "    <tr>\n",
       "      <th>Las Talitas</th>\n",
       "      <th>house</th>\n",
       "      <td>NaN</td>\n",
       "    </tr>\n",
       "    <tr>\n",
       "      <th>Lules</th>\n",
       "      <th>house</th>\n",
       "      <td>NaN</td>\n",
       "    </tr>\n",
       "    <tr>\n",
       "      <th>Tafí Viejo</th>\n",
       "      <th>store</th>\n",
       "      <td>NaN</td>\n",
       "    </tr>\n",
       "    <tr>\n",
       "      <th>Tucumán</th>\n",
       "      <th>PH</th>\n",
       "      <td>NaN</td>\n",
       "    </tr>\n",
       "    <tr>\n",
       "      <th>Villa Belgrano</th>\n",
       "      <th>apartment</th>\n",
       "      <td>NaN</td>\n",
       "    </tr>\n",
       "  </tbody>\n",
       "</table>\n",
       "<p>2180 rows × 1 columns</p>\n",
       "</div>"
      ],
      "text/plain": [
       "                                                                        price_usd_m2_nue\n",
       "state_name               place_name                      property_type                  \n",
       "Bs.As. G.B.A. Zona Oeste Marcos Paz                      store             225140.209175\n",
       "Bs.As. G.B.A. Zona Sur   GreenVille Polo & Resort        apartment         102250.000000\n",
       "Bs.As. G.B.A. Zona Norte Barrio Cerrado \"La Escondida\"   house              38450.000000\n",
       "Córdoba                  Las Calles                      house              28000.000000\n",
       "Bs.As. G.B.A. Zona Oeste Trujui                          store              25000.000000\n",
       "Entre Ríos               Alejandro Roca                  house              24038.461538\n",
       "Capital Federal          Velez Sarsfield                 store              21750.000000\n",
       "Bs.As. G.B.A. Zona Norte El Canton Barrio Norte          house              20000.000000\n",
       "Bs.As. G.B.A. Zona Sur   San Francisco Solano            store              19000.000000\n",
       "Buenos Aires Interior    Carlos Keen                     house              18500.000000\n",
       "Mendoza                  San Francisco del Monte         apartment          15833.333333\n",
       "Buenos Aires Interior    Cardales Country Club           house              14057.692308\n",
       "Bs.As. G.B.A. Zona Norte Villa de Mayo                   store              12500.000000\n",
       "                         Barrio Privado \"Ayres de Pilar\" house              12266.949153\n",
       "Buenos Aires Interior    Pergamino                       store              10000.000000\n",
       "                         San Nicolás de los Arroyos      house               8750.000000\n",
       "Bs.As. G.B.A. Zona Norte Los Sauces Country Club         house               8491.379310\n",
       "Córdoba                  Oliva                           house               8387.096774\n",
       "Bs.As. G.B.A. Zona Norte Hacoaj Barrio Cerrado           house               8346.153846\n",
       "Capital Federal          Palermo Chico                   store               8338.060125\n",
       "Bs.As. G.B.A. Zona Oeste St. Patrick Country             house               8048.309179\n",
       "Capital Federal          Villa Santa Rita                store               8000.000000\n",
       "                         Boedo                           apartment           7833.333333\n",
       "Córdoba                  Cosquín                         store               7500.000000\n",
       "Misiones                 Puerto Iguazú                   house               7250.000000\n",
       "Bs.As. G.B.A. Zona Norte Barrio Alamo Alto               house               6800.000000\n",
       "Córdoba                  Monte Cristo                    house               6400.000000\n",
       "Mendoza                  Villa Nueva                     house               6276.150628\n",
       "Capital Federal          Puerto Madero                   store               6111.111111\n",
       "                                                         apartment           5836.374696\n",
       "...                                                                                  ...\n",
       "Santa Fe                 Laguna Paiva                    house                       NaN\n",
       "                         Las Parejas                     house                       NaN\n",
       "                                                         store                       NaN\n",
       "                         Las Rosas                       store                       NaN\n",
       "                         Los Laureles                    house                       NaN\n",
       "                         Presidente Roca                 house                       NaN\n",
       "                         Pujato Norte                    house                       NaN\n",
       "                         Rafaela                         PH                          NaN\n",
       "                                                         store                       NaN\n",
       "                         Reconquista                     store                       NaN\n",
       "                         Rufino                          house                       NaN\n",
       "                         San Carlos Centro               store                       NaN\n",
       "                         San Cristóbal                   house                       NaN\n",
       "                         San Javier                      house                       NaN\n",
       "                         San José del Rincón             house                       NaN\n",
       "                         Santa Rosa de Calchines         house                       NaN\n",
       "                         Santa Teresa                    house                       NaN\n",
       "                         Sarmiento                       house                       NaN\n",
       "                         Sauce Viejo                     house                       NaN\n",
       "                         Sunchales                       house                       NaN\n",
       "                         Susana                          house                       NaN\n",
       "                         Álvarez                         house                       NaN\n",
       "Tierra Del Fuego         Ushuaia                         store                       NaN\n",
       "Tucumán                  Banda del Río Salí              house                       NaN\n",
       "                         Concepción                      house                       NaN\n",
       "                         Las Talitas                     house                       NaN\n",
       "                         Lules                           house                       NaN\n",
       "                         Tafí Viejo                      store                       NaN\n",
       "                         Tucumán                         PH                          NaN\n",
       "                         Villa Belgrano                  apartment                   NaN\n",
       "\n",
       "[2180 rows x 1 columns]"
      ]
     },
     "execution_count": 75,
     "metadata": {},
     "output_type": "execute_result"
    }
   ],
   "source": [
    "# Analizar por zona y tipo de propiedad el valor del m2\n",
    "df.groupby(['state_name','place_name','property_type'])[[\"price_usd_m2_nue\"]].median().sort_values(by=\"price_usd_m2_nue\",ascending=False)"
   ]
  },
  {
   "cell_type": "code",
   "execution_count": 76,
   "metadata": {},
   "outputs": [
    {
     "data": {
      "text/plain": [
       "Unnamed: 0                         0\n",
       "operation                          0\n",
       "property_type                      0\n",
       "place_name                        23\n",
       "place_with_parent_names            0\n",
       "country_name                       0\n",
       "state_name                         0\n",
       "geonames_id                    18717\n",
       "lat-lon                        51550\n",
       "lat                            51550\n",
       "lon                            51550\n",
       "price                          20410\n",
       "currency                       20411\n",
       "price_aprox_local_currency     20410\n",
       "price_aprox_usd                22236\n",
       "surface_total_in_m2            12752\n",
       "surface_covered_in_m2          19907\n",
       "price_usd_per_m2               52603\n",
       "price_per_m2                   33562\n",
       "floor                         113321\n",
       "rooms                          46562\n",
       "expenses                      106958\n",
       "properati_url                      0\n",
       "description                        2\n",
       "title                              0\n",
       "image_thumbnail                 3112\n",
       "price_aprox_usd_zscore         20959\n",
       "price_usd_m2_nue               29989\n",
       "dtype: int64"
      ]
     },
     "execution_count": 76,
     "metadata": {},
     "output_type": "execute_result"
    }
   ],
   "source": [
    "#df[\"price_aprox_usd\"] = np.where(df[\"price_aprox_usd\"] == 0, np.nan,df[\"price_aprox_usd\"])\n",
    "df.isnull().sum()"
   ]
  },
  {
   "cell_type": "code",
   "execution_count": 77,
   "metadata": {},
   "outputs": [
    {
     "data": {
      "text/plain": [
       "Unnamed: 0                    91231\n",
       "operation                     91231\n",
       "property_type                 91231\n",
       "place_name                    91208\n",
       "place_with_parent_names       91231\n",
       "country_name                  91231\n",
       "state_name                    91231\n",
       "geonames_id                   75665\n",
       "lat-lon                       53005\n",
       "lat                           53005\n",
       "lon                           53005\n",
       "price                         91231\n",
       "currency                      91231\n",
       "price_aprox_local_currency    91231\n",
       "price_aprox_usd               91231\n",
       "surface_total_in_m2           91231\n",
       "surface_covered_in_m2         86041\n",
       "price_usd_per_m2              67411\n",
       "price_per_m2                  86039\n",
       "floor                          6531\n",
       "rooms                         57828\n",
       "expenses                      12618\n",
       "properati_url                 91231\n",
       "description                   91230\n",
       "title                         91231\n",
       "image_thumbnail               89413\n",
       "price_aprox_usd_zscore        90761\n",
       "price_usd_m2_nue              91231\n",
       "dtype: int64"
      ]
     },
     "execution_count": 77,
     "metadata": {},
     "output_type": "execute_result"
    }
   ],
   "source": [
    "df.loc[(df[\"price_aprox_usd\"].notna() & df[\"surface_total_in_m2\"].notna())].count()"
   ]
  },
  {
   "cell_type": "code",
   "execution_count": 80,
   "metadata": {},
   "outputs": [
    {
     "data": {
      "text/html": [
       "<div>\n",
       "<style scoped>\n",
       "    .dataframe tbody tr th:only-of-type {\n",
       "        vertical-align: middle;\n",
       "    }\n",
       "\n",
       "    .dataframe tbody tr th {\n",
       "        vertical-align: top;\n",
       "    }\n",
       "\n",
       "    .dataframe thead th {\n",
       "        text-align: right;\n",
       "    }\n",
       "</style>\n",
       "<table border=\"1\" class=\"dataframe\">\n",
       "  <thead>\n",
       "    <tr style=\"text-align: right;\">\n",
       "      <th></th>\n",
       "      <th></th>\n",
       "      <th>expenses</th>\n",
       "    </tr>\n",
       "    <tr>\n",
       "      <th>state_name</th>\n",
       "      <th>property_type</th>\n",
       "      <th></th>\n",
       "    </tr>\n",
       "  </thead>\n",
       "  <tbody>\n",
       "    <tr>\n",
       "      <th rowspan=\"4\" valign=\"top\">Bs.As. G.B.A. Zona Norte</th>\n",
       "      <th>PH</th>\n",
       "      <td>613.976744</td>\n",
       "    </tr>\n",
       "    <tr>\n",
       "      <th>apartment</th>\n",
       "      <td>3021.644444</td>\n",
       "    </tr>\n",
       "    <tr>\n",
       "      <th>house</th>\n",
       "      <td>5869.713542</td>\n",
       "    </tr>\n",
       "    <tr>\n",
       "      <th>store</th>\n",
       "      <td>1564.108108</td>\n",
       "    </tr>\n",
       "    <tr>\n",
       "      <th rowspan=\"4\" valign=\"top\">Bs.As. G.B.A. Zona Oeste</th>\n",
       "      <th>PH</th>\n",
       "      <td>266.062500</td>\n",
       "    </tr>\n",
       "    <tr>\n",
       "      <th>apartment</th>\n",
       "      <td>2818.095041</td>\n",
       "    </tr>\n",
       "    <tr>\n",
       "      <th>house</th>\n",
       "      <td>3641.730000</td>\n",
       "    </tr>\n",
       "    <tr>\n",
       "      <th>store</th>\n",
       "      <td>1190.823529</td>\n",
       "    </tr>\n",
       "    <tr>\n",
       "      <th rowspan=\"4\" valign=\"top\">Bs.As. G.B.A. Zona Sur</th>\n",
       "      <th>PH</th>\n",
       "      <td>462.488372</td>\n",
       "    </tr>\n",
       "    <tr>\n",
       "      <th>apartment</th>\n",
       "      <td>1503.664348</td>\n",
       "    </tr>\n",
       "    <tr>\n",
       "      <th>house</th>\n",
       "      <td>4589.916974</td>\n",
       "    </tr>\n",
       "    <tr>\n",
       "      <th>store</th>\n",
       "      <td>1203.214286</td>\n",
       "    </tr>\n",
       "    <tr>\n",
       "      <th rowspan=\"4\" valign=\"top\">Buenos Aires Costa Atlántica</th>\n",
       "      <th>PH</th>\n",
       "      <td>718.571429</td>\n",
       "    </tr>\n",
       "    <tr>\n",
       "      <th>apartment</th>\n",
       "      <td>2042.121065</td>\n",
       "    </tr>\n",
       "    <tr>\n",
       "      <th>house</th>\n",
       "      <td>3284.692308</td>\n",
       "    </tr>\n",
       "    <tr>\n",
       "      <th>store</th>\n",
       "      <td>2201.571429</td>\n",
       "    </tr>\n",
       "    <tr>\n",
       "      <th rowspan=\"4\" valign=\"top\">Buenos Aires Interior</th>\n",
       "      <th>PH</th>\n",
       "      <td>620.000000</td>\n",
       "    </tr>\n",
       "    <tr>\n",
       "      <th>apartment</th>\n",
       "      <td>891.923077</td>\n",
       "    </tr>\n",
       "    <tr>\n",
       "      <th>house</th>\n",
       "      <td>4508.266667</td>\n",
       "    </tr>\n",
       "    <tr>\n",
       "      <th>store</th>\n",
       "      <td>NaN</td>\n",
       "    </tr>\n",
       "    <tr>\n",
       "      <th rowspan=\"4\" valign=\"top\">Capital Federal</th>\n",
       "      <th>PH</th>\n",
       "      <td>962.730769</td>\n",
       "    </tr>\n",
       "    <tr>\n",
       "      <th>apartment</th>\n",
       "      <td>6634.878631</td>\n",
       "    </tr>\n",
       "    <tr>\n",
       "      <th>house</th>\n",
       "      <td>2675.916667</td>\n",
       "    </tr>\n",
       "    <tr>\n",
       "      <th>store</th>\n",
       "      <td>2896.549505</td>\n",
       "    </tr>\n",
       "    <tr>\n",
       "      <th rowspan=\"2\" valign=\"top\">Catamarca</th>\n",
       "      <th>apartment</th>\n",
       "      <td>NaN</td>\n",
       "    </tr>\n",
       "    <tr>\n",
       "      <th>house</th>\n",
       "      <td>NaN</td>\n",
       "    </tr>\n",
       "    <tr>\n",
       "      <th rowspan=\"3\" valign=\"top\">Chaco</th>\n",
       "      <th>apartment</th>\n",
       "      <td>2100.000000</td>\n",
       "    </tr>\n",
       "    <tr>\n",
       "      <th>house</th>\n",
       "      <td>NaN</td>\n",
       "    </tr>\n",
       "    <tr>\n",
       "      <th>store</th>\n",
       "      <td>NaN</td>\n",
       "    </tr>\n",
       "    <tr>\n",
       "      <th>Chubut</th>\n",
       "      <th>PH</th>\n",
       "      <td>NaN</td>\n",
       "    </tr>\n",
       "    <tr>\n",
       "      <th>...</th>\n",
       "      <th>...</th>\n",
       "      <td>...</td>\n",
       "    </tr>\n",
       "    <tr>\n",
       "      <th rowspan=\"3\" valign=\"top\">Río Negro</th>\n",
       "      <th>apartment</th>\n",
       "      <td>1096.800000</td>\n",
       "    </tr>\n",
       "    <tr>\n",
       "      <th>house</th>\n",
       "      <td>2000.500000</td>\n",
       "    </tr>\n",
       "    <tr>\n",
       "      <th>store</th>\n",
       "      <td>5500.500000</td>\n",
       "    </tr>\n",
       "    <tr>\n",
       "      <th rowspan=\"4\" valign=\"top\">Salta</th>\n",
       "      <th>PH</th>\n",
       "      <td>NaN</td>\n",
       "    </tr>\n",
       "    <tr>\n",
       "      <th>apartment</th>\n",
       "      <td>4100.000000</td>\n",
       "    </tr>\n",
       "    <tr>\n",
       "      <th>house</th>\n",
       "      <td>2500.000000</td>\n",
       "    </tr>\n",
       "    <tr>\n",
       "      <th>store</th>\n",
       "      <td>NaN</td>\n",
       "    </tr>\n",
       "    <tr>\n",
       "      <th rowspan=\"3\" valign=\"top\">San Juan</th>\n",
       "      <th>apartment</th>\n",
       "      <td>NaN</td>\n",
       "    </tr>\n",
       "    <tr>\n",
       "      <th>house</th>\n",
       "      <td>NaN</td>\n",
       "    </tr>\n",
       "    <tr>\n",
       "      <th>store</th>\n",
       "      <td>NaN</td>\n",
       "    </tr>\n",
       "    <tr>\n",
       "      <th rowspan=\"4\" valign=\"top\">San Luis</th>\n",
       "      <th>PH</th>\n",
       "      <td>NaN</td>\n",
       "    </tr>\n",
       "    <tr>\n",
       "      <th>apartment</th>\n",
       "      <td>783.333333</td>\n",
       "    </tr>\n",
       "    <tr>\n",
       "      <th>house</th>\n",
       "      <td>3801.000000</td>\n",
       "    </tr>\n",
       "    <tr>\n",
       "      <th>store</th>\n",
       "      <td>NaN</td>\n",
       "    </tr>\n",
       "    <tr>\n",
       "      <th rowspan=\"3\" valign=\"top\">Santa Cruz</th>\n",
       "      <th>apartment</th>\n",
       "      <td>NaN</td>\n",
       "    </tr>\n",
       "    <tr>\n",
       "      <th>house</th>\n",
       "      <td>NaN</td>\n",
       "    </tr>\n",
       "    <tr>\n",
       "      <th>store</th>\n",
       "      <td>NaN</td>\n",
       "    </tr>\n",
       "    <tr>\n",
       "      <th rowspan=\"4\" valign=\"top\">Santa Fe</th>\n",
       "      <th>PH</th>\n",
       "      <td>520.000000</td>\n",
       "    </tr>\n",
       "    <tr>\n",
       "      <th>apartment</th>\n",
       "      <td>1429.937282</td>\n",
       "    </tr>\n",
       "    <tr>\n",
       "      <th>house</th>\n",
       "      <td>107839.428571</td>\n",
       "    </tr>\n",
       "    <tr>\n",
       "      <th>store</th>\n",
       "      <td>812.222222</td>\n",
       "    </tr>\n",
       "    <tr>\n",
       "      <th rowspan=\"2\" valign=\"top\">Santiago Del Estero</th>\n",
       "      <th>apartment</th>\n",
       "      <td>NaN</td>\n",
       "    </tr>\n",
       "    <tr>\n",
       "      <th>house</th>\n",
       "      <td>1.000000</td>\n",
       "    </tr>\n",
       "    <tr>\n",
       "      <th rowspan=\"3\" valign=\"top\">Tierra Del Fuego</th>\n",
       "      <th>apartment</th>\n",
       "      <td>NaN</td>\n",
       "    </tr>\n",
       "    <tr>\n",
       "      <th>house</th>\n",
       "      <td>300.000000</td>\n",
       "    </tr>\n",
       "    <tr>\n",
       "      <th>store</th>\n",
       "      <td>NaN</td>\n",
       "    </tr>\n",
       "    <tr>\n",
       "      <th rowspan=\"4\" valign=\"top\">Tucumán</th>\n",
       "      <th>PH</th>\n",
       "      <td>1500.000000</td>\n",
       "    </tr>\n",
       "    <tr>\n",
       "      <th>apartment</th>\n",
       "      <td>2023.413793</td>\n",
       "    </tr>\n",
       "    <tr>\n",
       "      <th>house</th>\n",
       "      <td>2679.629630</td>\n",
       "    </tr>\n",
       "    <tr>\n",
       "      <th>store</th>\n",
       "      <td>4516.250000</td>\n",
       "    </tr>\n",
       "  </tbody>\n",
       "</table>\n",
       "<p>98 rows × 1 columns</p>\n",
       "</div>"
      ],
      "text/plain": [
       "                                                 expenses\n",
       "state_name                   property_type               \n",
       "Bs.As. G.B.A. Zona Norte     PH                613.976744\n",
       "                             apartment        3021.644444\n",
       "                             house            5869.713542\n",
       "                             store            1564.108108\n",
       "Bs.As. G.B.A. Zona Oeste     PH                266.062500\n",
       "                             apartment        2818.095041\n",
       "                             house            3641.730000\n",
       "                             store            1190.823529\n",
       "Bs.As. G.B.A. Zona Sur       PH                462.488372\n",
       "                             apartment        1503.664348\n",
       "                             house            4589.916974\n",
       "                             store            1203.214286\n",
       "Buenos Aires Costa Atlántica PH                718.571429\n",
       "                             apartment        2042.121065\n",
       "                             house            3284.692308\n",
       "                             store            2201.571429\n",
       "Buenos Aires Interior        PH                620.000000\n",
       "                             apartment         891.923077\n",
       "                             house            4508.266667\n",
       "                             store                    NaN\n",
       "Capital Federal              PH                962.730769\n",
       "                             apartment        6634.878631\n",
       "                             house            2675.916667\n",
       "                             store            2896.549505\n",
       "Catamarca                    apartment                NaN\n",
       "                             house                    NaN\n",
       "Chaco                        apartment        2100.000000\n",
       "                             house                    NaN\n",
       "                             store                    NaN\n",
       "Chubut                       PH                       NaN\n",
       "...                                                   ...\n",
       "Río Negro                    apartment        1096.800000\n",
       "                             house            2000.500000\n",
       "                             store            5500.500000\n",
       "Salta                        PH                       NaN\n",
       "                             apartment        4100.000000\n",
       "                             house            2500.000000\n",
       "                             store                    NaN\n",
       "San Juan                     apartment                NaN\n",
       "                             house                    NaN\n",
       "                             store                    NaN\n",
       "San Luis                     PH                       NaN\n",
       "                             apartment         783.333333\n",
       "                             house            3801.000000\n",
       "                             store                    NaN\n",
       "Santa Cruz                   apartment                NaN\n",
       "                             house                    NaN\n",
       "                             store                    NaN\n",
       "Santa Fe                     PH                520.000000\n",
       "                             apartment        1429.937282\n",
       "                             house          107839.428571\n",
       "                             store             812.222222\n",
       "Santiago Del Estero          apartment                NaN\n",
       "                             house               1.000000\n",
       "Tierra Del Fuego             apartment                NaN\n",
       "                             house             300.000000\n",
       "                             store                    NaN\n",
       "Tucumán                      PH               1500.000000\n",
       "                             apartment        2023.413793\n",
       "                             house            2679.629630\n",
       "                             store            4516.250000\n",
       "\n",
       "[98 rows x 1 columns]"
      ]
     },
     "execution_count": 80,
     "metadata": {},
     "output_type": "execute_result"
    }
   ],
   "source": [
    "df.groupby([\"state_name\",'property_type'])[[\"expenses\"]].mean()"
   ]
  },
  {
   "cell_type": "code",
   "execution_count": 79,
   "metadata": {},
   "outputs": [
    {
     "data": {
      "text/plain": [
       "Unnamed: 0                    57828\n",
       "operation                     57828\n",
       "property_type                 57828\n",
       "place_name                    57817\n",
       "place_with_parent_names       57828\n",
       "country_name                  57828\n",
       "state_name                    57828\n",
       "geonames_id                   48460\n",
       "lat-lon                       40465\n",
       "lat                           40465\n",
       "lon                           40465\n",
       "price                         57828\n",
       "currency                      57828\n",
       "price_aprox_local_currency    57828\n",
       "price_aprox_usd               57828\n",
       "surface_total_in_m2           57828\n",
       "surface_covered_in_m2         55062\n",
       "price_usd_per_m2              41490\n",
       "price_per_m2                  55060\n",
       "floor                          5361\n",
       "rooms                         57828\n",
       "expenses                       6372\n",
       "properati_url                 57828\n",
       "description                   57828\n",
       "title                         57828\n",
       "image_thumbnail               56993\n",
       "price_aprox_usd_zscore        57553\n",
       "price_usd_m2_nue              57828\n",
       "dtype: int64"
      ]
     },
     "execution_count": 79,
     "metadata": {},
     "output_type": "execute_result"
    }
   ],
   "source": [
    "df.loc[(df[\"price_usd_m2_nue\"].notna() & df[\"property_type\"].notna() & df[\"rooms\"].notna())].count()"
   ]
  }
 ],
 "metadata": {
  "colab": {
   "name": "Pre-Analisis.ipynb",
   "provenance": [],
   "version": "0.3.2"
  },
  "kernelspec": {
   "display_name": "Python 3",
   "language": "python",
   "name": "python3"
  },
  "language_info": {
   "codemirror_mode": {
    "name": "ipython",
    "version": 3
   },
   "file_extension": ".py",
   "mimetype": "text/x-python",
   "name": "python",
   "nbconvert_exporter": "python",
   "pygments_lexer": "ipython3",
   "version": "3.6.6"
  }
 },
 "nbformat": 4,
 "nbformat_minor": 1
}
