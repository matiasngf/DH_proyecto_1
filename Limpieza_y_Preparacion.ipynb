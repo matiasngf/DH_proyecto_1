{
 "cells": [
  {
   "cell_type": "code",
   "execution_count": 388,
   "metadata": {
    "colab": {},
    "colab_type": "code",
    "id": "6ofoSnKd9OwN"
   },
   "outputs": [],
   "source": [
    "import pandas as pd\n",
    "import numpy as np\n",
    "import matplotlib as mpl\n",
    "from scipy import stats\n",
    "import matplotlib.pyplot as plt\n",
    "import seaborn as sns\n",
    "%matplotlib inline\n",
    "#%matplotlib notebook\n",
    "pd.set_option('display.float_format', lambda x: '%.3f' % x)"
   ]
  },
  {
   "cell_type": "code",
   "execution_count": 389,
   "metadata": {
    "colab": {},
    "colab_type": "code",
    "id": "VEzQATNn9Owd"
   },
   "outputs": [],
   "source": [
    "df = pd.read_csv(\"properatti.csv\")"
   ]
  },
  {
   "cell_type": "markdown",
   "metadata": {},
   "source": [
    "### Exploración inicial"
   ]
  },
  {
   "cell_type": "code",
   "execution_count": 390,
   "metadata": {},
   "outputs": [
    {
     "data": {
      "text/html": [
       "<div>\n",
       "<style scoped>\n",
       "    .dataframe tbody tr th:only-of-type {\n",
       "        vertical-align: middle;\n",
       "    }\n",
       "\n",
       "    .dataframe tbody tr th {\n",
       "        vertical-align: top;\n",
       "    }\n",
       "\n",
       "    .dataframe thead th {\n",
       "        text-align: right;\n",
       "    }\n",
       "</style>\n",
       "<table border=\"1\" class=\"dataframe\">\n",
       "  <thead>\n",
       "    <tr style=\"text-align: right;\">\n",
       "      <th></th>\n",
       "      <th>Unnamed: 0</th>\n",
       "      <th>operation</th>\n",
       "      <th>property_type</th>\n",
       "      <th>place_name</th>\n",
       "      <th>place_with_parent_names</th>\n",
       "      <th>country_name</th>\n",
       "      <th>state_name</th>\n",
       "      <th>geonames_id</th>\n",
       "      <th>lat-lon</th>\n",
       "      <th>lat</th>\n",
       "      <th>...</th>\n",
       "      <th>surface_covered_in_m2</th>\n",
       "      <th>price_usd_per_m2</th>\n",
       "      <th>price_per_m2</th>\n",
       "      <th>floor</th>\n",
       "      <th>rooms</th>\n",
       "      <th>expenses</th>\n",
       "      <th>properati_url</th>\n",
       "      <th>description</th>\n",
       "      <th>title</th>\n",
       "      <th>image_thumbnail</th>\n",
       "    </tr>\n",
       "  </thead>\n",
       "  <tbody>\n",
       "    <tr>\n",
       "      <th>0</th>\n",
       "      <td>0</td>\n",
       "      <td>sell</td>\n",
       "      <td>PH</td>\n",
       "      <td>Mataderos</td>\n",
       "      <td>|Argentina|Capital Federal|Mataderos|</td>\n",
       "      <td>Argentina</td>\n",
       "      <td>Capital Federal</td>\n",
       "      <td>3430787.000</td>\n",
       "      <td>-34.6618237,-58.5088387</td>\n",
       "      <td>-34.662</td>\n",
       "      <td>...</td>\n",
       "      <td>40.000</td>\n",
       "      <td>1127.273</td>\n",
       "      <td>1550.000</td>\n",
       "      <td>nan</td>\n",
       "      <td>nan</td>\n",
       "      <td>nan</td>\n",
       "      <td>http://www.properati.com.ar/15bo8_venta_ph_mat...</td>\n",
       "      <td>2 AMBIENTES TIPO CASA PLANTA BAJA POR PASILLO,...</td>\n",
       "      <td>2 AMB TIPO CASA SIN EXPENSAS EN PB</td>\n",
       "      <td>https://thumbs4.properati.com/8/BluUYiHJLhgIIK...</td>\n",
       "    </tr>\n",
       "    <tr>\n",
       "      <th>1</th>\n",
       "      <td>1</td>\n",
       "      <td>sell</td>\n",
       "      <td>apartment</td>\n",
       "      <td>La Plata</td>\n",
       "      <td>|Argentina|Bs.As. G.B.A. Zona Sur|La Plata|</td>\n",
       "      <td>Argentina</td>\n",
       "      <td>Bs.As. G.B.A. Zona Sur</td>\n",
       "      <td>3432039.000</td>\n",
       "      <td>-34.9038831,-57.9643295</td>\n",
       "      <td>-34.904</td>\n",
       "      <td>...</td>\n",
       "      <td>nan</td>\n",
       "      <td>nan</td>\n",
       "      <td>nan</td>\n",
       "      <td>nan</td>\n",
       "      <td>nan</td>\n",
       "      <td>nan</td>\n",
       "      <td>http://www.properati.com.ar/15bob_venta_depart...</td>\n",
       "      <td>Venta de departamento en décimo piso al frente...</td>\n",
       "      <td>VENTA Depto 2 dorm. a estrenar 7 e/ 36 y 37   ...</td>\n",
       "      <td>https://thumbs4.properati.com/7/ikpVBu2ztHA7jv...</td>\n",
       "    </tr>\n",
       "    <tr>\n",
       "      <th>2</th>\n",
       "      <td>2</td>\n",
       "      <td>sell</td>\n",
       "      <td>apartment</td>\n",
       "      <td>Mataderos</td>\n",
       "      <td>|Argentina|Capital Federal|Mataderos|</td>\n",
       "      <td>Argentina</td>\n",
       "      <td>Capital Federal</td>\n",
       "      <td>3430787.000</td>\n",
       "      <td>-34.6522615,-58.5229825</td>\n",
       "      <td>-34.652</td>\n",
       "      <td>...</td>\n",
       "      <td>55.000</td>\n",
       "      <td>1309.091</td>\n",
       "      <td>1309.091</td>\n",
       "      <td>nan</td>\n",
       "      <td>nan</td>\n",
       "      <td>nan</td>\n",
       "      <td>http://www.properati.com.ar/15bod_venta_depart...</td>\n",
       "      <td>2 AMBIENTES 3ER PISO LATERAL LIVING COMEDOR AM...</td>\n",
       "      <td>2 AMB 3ER PISO CON ASCENSOR APTO CREDITO</td>\n",
       "      <td>https://thumbs4.properati.com/5/SXKr34F_IwG3W_...</td>\n",
       "    </tr>\n",
       "  </tbody>\n",
       "</table>\n",
       "<p>3 rows × 26 columns</p>\n",
       "</div>"
      ],
      "text/plain": [
       "   Unnamed: 0 operation property_type place_name  \\\n",
       "0           0      sell            PH  Mataderos   \n",
       "1           1      sell     apartment   La Plata   \n",
       "2           2      sell     apartment  Mataderos   \n",
       "\n",
       "                       place_with_parent_names country_name  \\\n",
       "0        |Argentina|Capital Federal|Mataderos|    Argentina   \n",
       "1  |Argentina|Bs.As. G.B.A. Zona Sur|La Plata|    Argentina   \n",
       "2        |Argentina|Capital Federal|Mataderos|    Argentina   \n",
       "\n",
       "               state_name  geonames_id                  lat-lon     lat  \\\n",
       "0         Capital Federal  3430787.000  -34.6618237,-58.5088387 -34.662   \n",
       "1  Bs.As. G.B.A. Zona Sur  3432039.000  -34.9038831,-57.9643295 -34.904   \n",
       "2         Capital Federal  3430787.000  -34.6522615,-58.5229825 -34.652   \n",
       "\n",
       "                         ...                          surface_covered_in_m2  \\\n",
       "0                        ...                                         40.000   \n",
       "1                        ...                                            nan   \n",
       "2                        ...                                         55.000   \n",
       "\n",
       "   price_usd_per_m2 price_per_m2  floor  rooms  expenses  \\\n",
       "0          1127.273     1550.000    nan    nan       nan   \n",
       "1               nan          nan    nan    nan       nan   \n",
       "2          1309.091     1309.091    nan    nan       nan   \n",
       "\n",
       "                                       properati_url  \\\n",
       "0  http://www.properati.com.ar/15bo8_venta_ph_mat...   \n",
       "1  http://www.properati.com.ar/15bob_venta_depart...   \n",
       "2  http://www.properati.com.ar/15bod_venta_depart...   \n",
       "\n",
       "                                         description  \\\n",
       "0  2 AMBIENTES TIPO CASA PLANTA BAJA POR PASILLO,...   \n",
       "1  Venta de departamento en décimo piso al frente...   \n",
       "2  2 AMBIENTES 3ER PISO LATERAL LIVING COMEDOR AM...   \n",
       "\n",
       "                                               title  \\\n",
       "0                 2 AMB TIPO CASA SIN EXPENSAS EN PB   \n",
       "1  VENTA Depto 2 dorm. a estrenar 7 e/ 36 y 37   ...   \n",
       "2           2 AMB 3ER PISO CON ASCENSOR APTO CREDITO   \n",
       "\n",
       "                                     image_thumbnail  \n",
       "0  https://thumbs4.properati.com/8/BluUYiHJLhgIIK...  \n",
       "1  https://thumbs4.properati.com/7/ikpVBu2ztHA7jv...  \n",
       "2  https://thumbs4.properati.com/5/SXKr34F_IwG3W_...  \n",
       "\n",
       "[3 rows x 26 columns]"
      ]
     },
     "execution_count": 390,
     "metadata": {},
     "output_type": "execute_result"
    }
   ],
   "source": [
    "df.head(3)"
   ]
  },
  {
   "cell_type": "code",
   "execution_count": 391,
   "metadata": {},
   "outputs": [
    {
     "data": {
      "text/plain": [
       "(121220, 26)"
      ]
     },
     "execution_count": 391,
     "metadata": {},
     "output_type": "execute_result"
    }
   ],
   "source": [
    "df.shape"
   ]
  },
  {
   "cell_type": "code",
   "execution_count": 392,
   "metadata": {},
   "outputs": [
    {
     "data": {
      "text/html": [
       "<div>\n",
       "<style scoped>\n",
       "    .dataframe tbody tr th:only-of-type {\n",
       "        vertical-align: middle;\n",
       "    }\n",
       "\n",
       "    .dataframe tbody tr th {\n",
       "        vertical-align: top;\n",
       "    }\n",
       "\n",
       "    .dataframe thead th {\n",
       "        text-align: right;\n",
       "    }\n",
       "</style>\n",
       "<table border=\"1\" class=\"dataframe\">\n",
       "  <thead>\n",
       "    <tr style=\"text-align: right;\">\n",
       "      <th></th>\n",
       "      <th>Unnamed: 0</th>\n",
       "      <th>geonames_id</th>\n",
       "      <th>lat</th>\n",
       "      <th>lon</th>\n",
       "      <th>price</th>\n",
       "      <th>price_aprox_local_currency</th>\n",
       "      <th>price_aprox_usd</th>\n",
       "      <th>surface_total_in_m2</th>\n",
       "      <th>surface_covered_in_m2</th>\n",
       "      <th>price_usd_per_m2</th>\n",
       "      <th>price_per_m2</th>\n",
       "      <th>floor</th>\n",
       "      <th>rooms</th>\n",
       "      <th>expenses</th>\n",
       "    </tr>\n",
       "  </thead>\n",
       "  <tbody>\n",
       "    <tr>\n",
       "      <th>count</th>\n",
       "      <td>121220.000</td>\n",
       "      <td>102503.000</td>\n",
       "      <td>69670.000</td>\n",
       "      <td>69670.000</td>\n",
       "      <td>100810.000</td>\n",
       "      <td>100810.000</td>\n",
       "      <td>100810.000</td>\n",
       "      <td>81892.000</td>\n",
       "      <td>101313.000</td>\n",
       "      <td>68617.000</td>\n",
       "      <td>87658.000</td>\n",
       "      <td>7899.000</td>\n",
       "      <td>47390.000</td>\n",
       "      <td>14262.000</td>\n",
       "    </tr>\n",
       "    <tr>\n",
       "      <th>mean</th>\n",
       "      <td>60609.500</td>\n",
       "      <td>3574442.318</td>\n",
       "      <td>-34.626</td>\n",
       "      <td>-59.266</td>\n",
       "      <td>468525.925</td>\n",
       "      <td>4229396.829</td>\n",
       "      <td>239700.577</td>\n",
       "      <td>233.795</td>\n",
       "      <td>133.050</td>\n",
       "      <td>2160.087</td>\n",
       "      <td>6912.216</td>\n",
       "      <td>17.452</td>\n",
       "      <td>3.081</td>\n",
       "      <td>5009.234</td>\n",
       "    </tr>\n",
       "    <tr>\n",
       "      <th>std</th>\n",
       "      <td>34993.344</td>\n",
       "      <td>354130.624</td>\n",
       "      <td>1.981</td>\n",
       "      <td>2.300</td>\n",
       "      <td>2260100.589</td>\n",
       "      <td>6904714.126</td>\n",
       "      <td>391323.876</td>\n",
       "      <td>1782.222</td>\n",
       "      <td>724.351</td>\n",
       "      <td>2759.289</td>\n",
       "      <td>28378.645</td>\n",
       "      <td>120.244</td>\n",
       "      <td>1.861</td>\n",
       "      <td>120440.256</td>\n",
       "    </tr>\n",
       "    <tr>\n",
       "      <th>min</th>\n",
       "      <td>0.000</td>\n",
       "      <td>3427208.000</td>\n",
       "      <td>-54.824</td>\n",
       "      <td>-75.679</td>\n",
       "      <td>0.000</td>\n",
       "      <td>0.000</td>\n",
       "      <td>0.000</td>\n",
       "      <td>0.000</td>\n",
       "      <td>0.000</td>\n",
       "      <td>0.600</td>\n",
       "      <td>1.510</td>\n",
       "      <td>1.000</td>\n",
       "      <td>1.000</td>\n",
       "      <td>1.000</td>\n",
       "    </tr>\n",
       "    <tr>\n",
       "      <th>25%</th>\n",
       "      <td>30304.750</td>\n",
       "      <td>3430234.000</td>\n",
       "      <td>-34.669</td>\n",
       "      <td>-58.727</td>\n",
       "      <td>110000.000</td>\n",
       "      <td>1583309.440</td>\n",
       "      <td>89733.880</td>\n",
       "      <td>50.000</td>\n",
       "      <td>45.000</td>\n",
       "      <td>1218.182</td>\n",
       "      <td>1550.000</td>\n",
       "      <td>1.000</td>\n",
       "      <td>2.000</td>\n",
       "      <td>1000.000</td>\n",
       "    </tr>\n",
       "    <tr>\n",
       "      <th>50%</th>\n",
       "      <td>60609.500</td>\n",
       "      <td>3433910.000</td>\n",
       "      <td>-34.598</td>\n",
       "      <td>-58.480</td>\n",
       "      <td>185000.000</td>\n",
       "      <td>2558452.500</td>\n",
       "      <td>145000.000</td>\n",
       "      <td>84.000</td>\n",
       "      <td>75.000</td>\n",
       "      <td>1800.000</td>\n",
       "      <td>2213.115</td>\n",
       "      <td>3.000</td>\n",
       "      <td>3.000</td>\n",
       "      <td>2000.000</td>\n",
       "    </tr>\n",
       "    <tr>\n",
       "      <th>75%</th>\n",
       "      <td>90914.250</td>\n",
       "      <td>3836668.000</td>\n",
       "      <td>-34.441</td>\n",
       "      <td>-58.396</td>\n",
       "      <td>420000.000</td>\n",
       "      <td>4675792.500</td>\n",
       "      <td>265000.000</td>\n",
       "      <td>200.000</td>\n",
       "      <td>150.000</td>\n",
       "      <td>2486.412</td>\n",
       "      <td>3355.549</td>\n",
       "      <td>6.000</td>\n",
       "      <td>4.000</td>\n",
       "      <td>4000.000</td>\n",
       "    </tr>\n",
       "    <tr>\n",
       "      <th>max</th>\n",
       "      <td>121219.000</td>\n",
       "      <td>6948895.000</td>\n",
       "      <td>4.546</td>\n",
       "      <td>-53.733</td>\n",
       "      <td>650000000.000</td>\n",
       "      <td>821271104.300</td>\n",
       "      <td>46545445.000</td>\n",
       "      <td>200000.000</td>\n",
       "      <td>187000.000</td>\n",
       "      <td>206333.333</td>\n",
       "      <td>3999999.960</td>\n",
       "      <td>3150.000</td>\n",
       "      <td>32.000</td>\n",
       "      <td>10001500.000</td>\n",
       "    </tr>\n",
       "  </tbody>\n",
       "</table>\n",
       "</div>"
      ],
      "text/plain": [
       "       Unnamed: 0  geonames_id       lat       lon         price  \\\n",
       "count  121220.000   102503.000 69670.000 69670.000    100810.000   \n",
       "mean    60609.500  3574442.318   -34.626   -59.266    468525.925   \n",
       "std     34993.344   354130.624     1.981     2.300   2260100.589   \n",
       "min         0.000  3427208.000   -54.824   -75.679         0.000   \n",
       "25%     30304.750  3430234.000   -34.669   -58.727    110000.000   \n",
       "50%     60609.500  3433910.000   -34.598   -58.480    185000.000   \n",
       "75%     90914.250  3836668.000   -34.441   -58.396    420000.000   \n",
       "max    121219.000  6948895.000     4.546   -53.733 650000000.000   \n",
       "\n",
       "       price_aprox_local_currency  price_aprox_usd  surface_total_in_m2  \\\n",
       "count                  100810.000       100810.000            81892.000   \n",
       "mean                  4229396.829       239700.577              233.795   \n",
       "std                   6904714.126       391323.876             1782.222   \n",
       "min                         0.000            0.000                0.000   \n",
       "25%                   1583309.440        89733.880               50.000   \n",
       "50%                   2558452.500       145000.000               84.000   \n",
       "75%                   4675792.500       265000.000              200.000   \n",
       "max                 821271104.300     46545445.000           200000.000   \n",
       "\n",
       "       surface_covered_in_m2  price_usd_per_m2  price_per_m2    floor  \\\n",
       "count             101313.000         68617.000     87658.000 7899.000   \n",
       "mean                 133.050          2160.087      6912.216   17.452   \n",
       "std                  724.351          2759.289     28378.645  120.244   \n",
       "min                    0.000             0.600         1.510    1.000   \n",
       "25%                   45.000          1218.182      1550.000    1.000   \n",
       "50%                   75.000          1800.000      2213.115    3.000   \n",
       "75%                  150.000          2486.412      3355.549    6.000   \n",
       "max               187000.000        206333.333   3999999.960 3150.000   \n",
       "\n",
       "          rooms     expenses  \n",
       "count 47390.000    14262.000  \n",
       "mean      3.081     5009.234  \n",
       "std       1.861   120440.256  \n",
       "min       1.000        1.000  \n",
       "25%       2.000     1000.000  \n",
       "50%       3.000     2000.000  \n",
       "75%       4.000     4000.000  \n",
       "max      32.000 10001500.000  "
      ]
     },
     "execution_count": 392,
     "metadata": {},
     "output_type": "execute_result"
    }
   ],
   "source": [
    "df.describe()"
   ]
  },
  {
   "cell_type": "code",
   "execution_count": 393,
   "metadata": {},
   "outputs": [
    {
     "data": {
      "text/plain": [
       "Unnamed: 0                         0\n",
       "operation                          0\n",
       "property_type                      0\n",
       "place_name                        23\n",
       "place_with_parent_names            0\n",
       "country_name                       0\n",
       "state_name                         0\n",
       "geonames_id                    18717\n",
       "lat-lon                        51550\n",
       "lat                            51550\n",
       "lon                            51550\n",
       "price                          20410\n",
       "currency                       20411\n",
       "price_aprox_local_currency     20410\n",
       "price_aprox_usd                20410\n",
       "surface_total_in_m2            39328\n",
       "surface_covered_in_m2          19907\n",
       "price_usd_per_m2               52603\n",
       "price_per_m2                   33562\n",
       "floor                         113321\n",
       "rooms                          73830\n",
       "expenses                      106958\n",
       "properati_url                      0\n",
       "description                        2\n",
       "title                              0\n",
       "image_thumbnail                 3112\n",
       "dtype: int64"
      ]
     },
     "execution_count": 393,
     "metadata": {},
     "output_type": "execute_result"
    }
   ],
   "source": [
    "df.isnull().sum()"
   ]
  },
  {
   "cell_type": "markdown",
   "metadata": {},
   "source": [
    "### Detectamos errores posibles en la carga de la moneda y los corregimos"
   ]
  },
  {
   "cell_type": "code",
   "execution_count": 394,
   "metadata": {
    "scrolled": true
   },
   "outputs": [
    {
     "data": {
      "text/plain": [
       "'Cantidad de valores en ARS: 10'"
      ]
     },
     "metadata": {},
     "output_type": "display_data"
    },
    {
     "data": {
      "text/plain": [
       "array(['Boedo', 'Ituzaingó', 'Rosario', 'Villa Ballester'], dtype=object)"
      ]
     },
     "metadata": {},
     "output_type": "display_data"
    }
   ],
   "source": [
    "pricesUSD = df[(\n",
    "    ~np.isnan(df['price']) & #aca estoy sacando los NaN\n",
    "    [False if pd.isnull(x) else x=='USD' for x in df['currency']] #aca estoy filtrando los que tengan currency en USD\n",
    ")].sort_values(by='price_usd_per_m2', ascending=False).head(10);\n",
    "\n",
    "display('Cantidad de valores en ARS: %d' %len(pricesUSD))\n",
    "display(pricesUSD['place_name'].unique())"
   ]
  },
  {
   "cell_type": "code",
   "execution_count": 395,
   "metadata": {},
   "outputs": [],
   "source": [
    "# reparamos los precios erróneos encontrados\n",
    "pricesFixed = pricesUSD.copy()\n",
    "valorDolar = np.round(pricesFixed['price_aprox_local_currency'] / pricesFixed['price_aprox_usd'], 2)\n",
    "\n",
    "pricesFixed['price_aprox_local_currency'] = pricesFixed['price_aprox_usd']\n",
    "pricesFixed['price_aprox_usd'] = np.round(pricesFixed['price_aprox_usd'] / valorDolar)\n",
    "pricesFixed['price'] = pricesFixed['price_aprox_usd']\n",
    "\n",
    "pricesFixed['price_usd_per_m2'] = pricesFixed['price'] / pricesFixed['surface_covered_in_m2']\n",
    "\n",
    "pricesFixed.currency = 'ARS'\n",
    "\n",
    "df.iloc[pricesFixed.index] = pricesFixed"
   ]
  },
  {
   "cell_type": "markdown",
   "metadata": {},
   "source": [
    "### Duplicados"
   ]
  },
  {
   "cell_type": "code",
   "execution_count": 396,
   "metadata": {},
   "outputs": [
    {
     "data": {
      "text/plain": [
       "9464"
      ]
     },
     "execution_count": 396,
     "metadata": {},
     "output_type": "execute_result"
    }
   ],
   "source": [
    "# Contamos duplicados\n",
    "df.duplicated(['place_with_parent_names','description','title','floor','rooms','surface_total_in_m2'],keep='first').sum()"
   ]
  },
  {
   "cell_type": "code",
   "execution_count": 397,
   "metadata": {},
   "outputs": [],
   "source": [
    "# Eliminamos duplicados\n",
    "df.drop_duplicates(['place_with_parent_names','description','title','floor','rooms','surface_total_in_m2'],keep='first', inplace=True)"
   ]
  },
  {
   "cell_type": "markdown",
   "metadata": {},
   "source": [
    "### Normalizamos las variables significativas y eliminamos outliers"
   ]
  },
  {
   "cell_type": "code",
   "execution_count": 398,
   "metadata": {},
   "outputs": [
    {
     "name": "stdout",
     "output_type": "stream",
     "text": [
      "901\n",
      "\n",
      "count   62771.000\n",
      "mean     1881.659\n",
      "std      1119.417\n",
      "min         0.600\n",
      "25%      1166.667\n",
      "50%      1762.115\n",
      "75%      2421.053\n",
      "max     11346.154\n",
      "Name: price_usd_per_m2, dtype: float64\n"
     ]
    }
   ],
   "source": [
    "# Variable: PRICE_USD_PER_M2\n",
    "# Pasamos los ceros a nan\n",
    "df[\"price_usd_per_m2\"] = np.where(df[\"price_usd_per_m2\"] == 0, np.nan,df[\"price_usd_per_m2\"])\n",
    "# Calculamos zscore\n",
    "#df[\"price_usd_per_m2_zscore\"] = (df[\"price_usd_per_m2\"] - df[\"price_usd_per_m2\"].mean()) / df[\"price_usd_per_m2\"].std()\n",
    "df[\"price_usd_per_m2_zscore\"] = (df.groupby(['property_type'])[[\"price_usd_per_m2\"]]\n",
    ".apply(lambda x: (x - x.mean()) / x.std()))\n",
    "# Contamos outliers\n",
    "print(df[\"price_usd_per_m2_zscore\"][abs(df[\"price_usd_per_m2_zscore\"]) > 3].count())\n",
    "# Dropeamos las filas con outliers\n",
    "df.drop(df[\"price_usd_per_m2_zscore\"][abs(df['price_usd_per_m2_zscore']) > 3].index,inplace=True)\n",
    "print(\"\")\n",
    "print(df[\"price_usd_per_m2\"].describe())\n",
    "# dropeamos la columna temporal zscore\n",
    "df.drop(columns=[\"price_usd_per_m2_zscore\"], inplace=True)"
   ]
  },
  {
   "cell_type": "code",
   "execution_count": 399,
   "metadata": {},
   "outputs": [
    {
     "name": "stdout",
     "output_type": "stream",
     "text": [
      "630\n"
     ]
    }
   ],
   "source": [
    "# Variable: PRICE_USD_PER_M2 - Segunda pasada para limpiar extremos por grupo y zonas\n",
    "# transformamos en zscore por state_name, place_name y property_type la variable \"price_usd_per_m2\"\n",
    "df[\"price_usd_per_m2_zscore\"] = (df.groupby(['state_name','place_name','property_type'])[[\"price_usd_per_m2\"]]\n",
    ".apply(lambda x: (x - x.mean()) / x.std()))\n",
    "# y contamos outliers por sobre los 3 desvíos\n",
    "print(df['price_usd_per_m2_zscore'][abs(df[\"price_usd_per_m2_zscore\"]) > 3].count())\n",
    "df.drop(df[abs(df[\"price_usd_per_m2_zscore\"])>3].index,inplace=True)\n",
    "# dropeamos la columna temporal zscore\n",
    "df.drop(columns=[\"price_usd_per_m2_zscore\"], inplace=True)"
   ]
  },
  {
   "cell_type": "code",
   "execution_count": 400,
   "metadata": {},
   "outputs": [
    {
     "name": "stdout",
     "output_type": "stream",
     "text": [
      "1481\n",
      "\n",
      "count     91429.000\n",
      "mean     209421.556\n",
      "std      199658.183\n",
      "min        4952.450\n",
      "25%       89733.880\n",
      "50%      144000.000\n",
      "75%      255000.000\n",
      "max     2700000.000\n",
      "Name: price_aprox_usd, dtype: float64\n"
     ]
    }
   ],
   "source": [
    "# Variable: PRICE_APROX_USD\n",
    "# Pasamos los ceros a nan\n",
    "df[\"price_aprox_usd\"] = np.where(df[\"price_aprox_usd\"] == 0, np.nan,df[\"price_aprox_usd\"])\n",
    "# Calculamos Zscore\n",
    "#df[\"price_aprox_usd_zscore\"] = (df[\"price_aprox_usd\"] - df[\"price_aprox_usd\"].mean()) / df[\"price_aprox_usd\"].std()\n",
    "df[\"price_aprox_usd_zscore\"] = (df.groupby(['property_type'])[[\"price_aprox_usd\"]]\n",
    ".apply(lambda x: (x - x.mean()) / x.std()))\n",
    "# Contamos outliers\n",
    "print(df[\"price_aprox_usd_zscore\"][abs(df[\"price_aprox_usd_zscore\"]) > 3].count())\n",
    "# Dropeamos las filas con outliers\n",
    "df.drop(df[\"price_aprox_usd\"][abs(df['price_aprox_usd_zscore']) > 3].index,inplace=True)\n",
    "print(\"\")\n",
    "print(df[\"price_aprox_usd\"].describe())\n",
    "# dropeamos la columna temporal zscore\n",
    "df.drop(columns=[\"price_aprox_usd_zscore\"], inplace=True)"
   ]
  },
  {
   "cell_type": "code",
   "execution_count": 401,
   "metadata": {},
   "outputs": [
    {
     "name": "stdout",
     "output_type": "stream",
     "text": [
      "1640\n"
     ]
    }
   ],
   "source": [
    "# Variable: PRICE_APROX_USD - Segunda pasada para limpiar extremos por grupo\n",
    "# transformamos en zscore por state_name, place_name y property_type la variable \"price_usd_per_m2\"\n",
    "df[\"price_aprox_usd_zscore\"] = (df.groupby(['state_name','place_name','property_type'])[[\"price_aprox_usd\"]]\n",
    ".apply(lambda x: (x - x.mean()) / x.std()))\n",
    "# y contamos outliers por sobre los 3 desvíos\n",
    "print(df['price_aprox_usd'][abs(df[\"price_aprox_usd_zscore\"]) > 3].count())\n",
    "df.drop(df[abs(df[\"price_aprox_usd_zscore\"])>3].index,inplace=True)\n",
    "# dropeamos la columna temporal zscore\n",
    "df.drop(columns=[\"price_aprox_usd_zscore\"], inplace=True)"
   ]
  },
  {
   "cell_type": "code",
   "execution_count": 402,
   "metadata": {},
   "outputs": [
    {
     "name": "stdout",
     "output_type": "stream",
     "text": [
      "137\n",
      "\n",
      "count   70327.000\n",
      "mean      194.109\n",
      "std       324.235\n",
      "min        10.000\n",
      "25%        52.000\n",
      "50%        87.000\n",
      "75%       208.000\n",
      "max      6168.000\n",
      "Name: surface_total_in_m2, dtype: float64\n"
     ]
    }
   ],
   "source": [
    "# Variable: SURFACE_TOTAL_IN_M2\n",
    "# Pasamos los ceros a nan\n",
    "df[\"surface_total_in_m2\"] = np.where(df[\"surface_total_in_m2\"] == 0, np.nan,df[\"surface_total_in_m2\"])\n",
    "# Calculamos zscore\n",
    "#df[\"surface_total_in_m2_zscore\"] = (df[\"surface_total_in_m2\"] - df[\"surface_total_in_m2\"].mean()) / df[\"surface_total_in_m2\"].std()\n",
    "df[\"surface_total_in_m2_zscore\"] = (df.groupby(['property_type'])[[\"surface_total_in_m2\"]]\n",
    ".apply(lambda x: (x - x.mean()) / x.std()))\n",
    "# Contamos outliers\n",
    "print(df[\"surface_total_in_m2_zscore\"][abs(df[\"surface_total_in_m2_zscore\"]) > 3].count())\n",
    "# Dropeamos las filas con outliers\n",
    "df.drop(df[\"surface_total_in_m2\"][abs(df['surface_total_in_m2_zscore']) > 3].index,inplace=True)\n",
    "print(\"\")\n",
    "print(df[\"surface_total_in_m2\"].describe())\n",
    "# dropeamos la columna temporal zscore\n",
    "df.drop(columns=[\"surface_total_in_m2_zscore\"], inplace=True)\n",
    "# Como nos vienen muchos valores entre 1 y 25, asumimos es fallido por lo que dropeamos filas < a 25 m2\n",
    "df.drop(df[\"surface_total_in_m2\"][df[\"surface_total_in_m2\"] < 25].index,inplace=True)"
   ]
  },
  {
   "cell_type": "code",
   "execution_count": 403,
   "metadata": {},
   "outputs": [
    {
     "name": "stdout",
     "output_type": "stream",
     "text": [
      "1122\n"
     ]
    }
   ],
   "source": [
    "# Variable: surface_total_in_m2 - Segunda pasada para limpiar extremos por grupo\n",
    "# transformamos en zscore por state_name, place_name y property_type la variable \"price_usd_per_m2\"\n",
    "df[\"surface_total_in_m2_zscore\"] = (df.groupby(['state_name','place_name','property_type'])[[\"surface_total_in_m2\"]]\n",
    ".apply(lambda x: (x - x.mean()) / x.std()))\n",
    "# y contamos outliers por sobre los 3 desvíos\n",
    "print(df['surface_total_in_m2'][abs(df[\"surface_total_in_m2_zscore\"]) > 3].count())\n",
    "df.drop(df[abs(df[\"surface_total_in_m2_zscore\"])>3].index,inplace=True)\n",
    "# dropeamos la columna temporal zscore\n",
    "df.drop(columns=[\"surface_total_in_m2_zscore\"], inplace=True)"
   ]
  },
  {
   "cell_type": "code",
   "execution_count": 404,
   "metadata": {},
   "outputs": [
    {
     "name": "stdout",
     "output_type": "stream",
     "text": [
      "75\n",
      "\n",
      "count   87454.000\n",
      "mean      117.376\n",
      "std       117.747\n",
      "min         1.000\n",
      "25%        46.000\n",
      "50%        75.000\n",
      "75%       150.000\n",
      "max      2700.000\n",
      "Name: surface_covered_in_m2, dtype: float64\n"
     ]
    }
   ],
   "source": [
    "# Variable SURFACE_COVERED_IN_M2\n",
    "# Pasamos los ceros a nan\n",
    "df[\"surface_covered_in_m2\"] = np.where(df[\"surface_covered_in_m2\"] == 0, np.nan,df[\"surface_covered_in_m2\"])\n",
    "# Calculamos zscore\n",
    "#df[\"surface_covered_in_m2_zscore\"] = (df[\"surface_covered_in_m2\"] - df[\"surface_covered_in_m2\"].mean()) / df[\"surface_covered_in_m2\"].std()\n",
    "df[\"surface_covered_in_m2_zscore\"] = (df.groupby(['property_type'])[[\"surface_covered_in_m2\"]]\n",
    ".apply(lambda x: (x - x.mean()) / x.std()))\n",
    "# Contamos outliers\n",
    "print(df[\"surface_covered_in_m2_zscore\"][abs(df[\"surface_covered_in_m2_zscore\"]) > 3].count())\n",
    "# Dropeamos las filas con outliers\n",
    "df.drop(df[\"surface_covered_in_m2\"][abs(df['surface_covered_in_m2_zscore']) > 3].index,inplace=True)\n",
    "print(\"\")\n",
    "print(df[\"surface_covered_in_m2\"].describe())\n",
    "# dropeamos la columna temporal zscore\n",
    "df.drop(columns=[\"surface_covered_in_m2_zscore\"], inplace=True)\n",
    "# Como nos vienen muchos valores entre 1 y 25, asumimos es fallido por lo que dropeamos filas < a 25 m2\n",
    "df.drop(df[\"surface_covered_in_m2\"][df[\"surface_covered_in_m2\"] < 25].index,inplace=True)"
   ]
  },
  {
   "cell_type": "code",
   "execution_count": 405,
   "metadata": {},
   "outputs": [
    {
     "name": "stdout",
     "output_type": "stream",
     "text": [
      "1038\n"
     ]
    }
   ],
   "source": [
    "# Variable: surface_covered_in_m2 - Segunda pasada para limpiar extremos por grupo\n",
    "# transformamos en zscore por state_name, place_name y property_type la variable \"price_usd_per_m2\"\n",
    "df[\"surface_covered_in_m2_zscore\"] = (df.groupby(['state_name','place_name','property_type'])[[\"surface_covered_in_m2\"]]\n",
    ".apply(lambda x: (x - x.mean()) / x.std()))\n",
    "# y contamos outliers por sobre los 3 desvíos\n",
    "print(df['surface_covered_in_m2'][abs(df[\"surface_covered_in_m2_zscore\"]) > 3].count())\n",
    "df.drop(df[abs(df[\"surface_covered_in_m2_zscore\"])>3].index,inplace=True)\n",
    "# dropeamos la columna temporal zscore\n",
    "df.drop(columns=[\"surface_covered_in_m2_zscore\"], inplace=True)"
   ]
  },
  {
   "cell_type": "code",
   "execution_count": 406,
   "metadata": {},
   "outputs": [
    {
     "name": "stdout",
     "output_type": "stream",
     "text": [
      "382\n",
      "\n",
      "count   39630.000\n",
      "mean        2.972\n",
      "std         1.498\n",
      "min         1.000\n",
      "25%         2.000\n",
      "50%         3.000\n",
      "75%         4.000\n",
      "max        10.000\n",
      "Name: rooms, dtype: float64\n"
     ]
    }
   ],
   "source": [
    "# Variable rooms\n",
    "# Pasamos los ceros a nan\n",
    "df[\"rooms\"] = np.where(df[\"rooms\"] == 0, np.nan,df[\"rooms\"])\n",
    "# Calculamos zscore\n",
    "#df[\"rooms_zscore\"] = (df[\"rooms\"] - df[\"rooms\"].mean()) / df[\"rooms\"].std()\n",
    "df[\"rooms_zscore\"] = (df.groupby(['property_type'])[[\"rooms\"]]\n",
    ".apply(lambda x: (x - x.mean()) / x.std()))\n",
    "# Contamos outliers\n",
    "print(df[\"rooms_zscore\"][abs(df[\"rooms_zscore\"]) > 3].count())\n",
    "# Dropeamos las filas con outliers\n",
    "df.drop(df[\"rooms\"][abs(df['rooms_zscore']) > 3].index,inplace=True)\n",
    "# dropeamos la columna temporal zscore\n",
    "df.drop(columns=[\"rooms_zscore\"], inplace=True)\n",
    "# Como nos vienen muchos valores altos, asumimos es fallido por lo que dropeamos filas > a 11\n",
    "df.drop(df[\"rooms\"][df[\"rooms\"] > 10].index,inplace=True)\n",
    "print(\"\")\n",
    "print(df[\"rooms\"].describe())"
   ]
  },
  {
   "cell_type": "code",
   "execution_count": 407,
   "metadata": {},
   "outputs": [
    {
     "name": "stdout",
     "output_type": "stream",
     "text": [
      "97\n",
      "\n",
      "count    12511.000\n",
      "mean      2778.704\n",
      "std       5824.894\n",
      "min          1.000\n",
      "25%       1000.000\n",
      "50%       1900.000\n",
      "75%       3700.000\n",
      "max     380000.000\n",
      "Name: expenses, dtype: float64\n"
     ]
    }
   ],
   "source": [
    "# Variable expenses\n",
    "# Pasamos los ceros a nan\n",
    "df[\"expenses\"] = np.where(df[\"expenses\"] == 0, np.nan,df[\"expenses\"])\n",
    "# Calculamos zscore\n",
    "#df[\"expenses_zscore\"] = (df[\"expenses\"] - df[\"expenses\"].mean()) / df[\"expenses\"].std()\n",
    "df[\"expenses_zscore\"] = (df.groupby(['state_name','property_type'])[[\"expenses\"]]\n",
    ".apply(lambda x: (x - x.mean()) / x.std()))\n",
    "# Contamos outliers\n",
    "print(df[\"expenses_zscore\"][abs(df[\"expenses_zscore\"]) > 3].count())\n",
    "# Dropeamos las filas con outliers\n",
    "df.drop(df[\"expenses\"][abs(df['expenses_zscore']) > 3].index,inplace=True)\n",
    "print(\"\")\n",
    "print(df[\"expenses\"].describe())\n",
    "# dropeamos la columna temporal zscore\n",
    "df.drop(columns=[\"expenses_zscore\"], inplace=True)"
   ]
  },
  {
   "cell_type": "code",
   "execution_count": 408,
   "metadata": {},
   "outputs": [
    {
     "name": "stdout",
     "output_type": "stream",
     "text": [
      "83\n",
      "\n",
      "count   6644.000\n",
      "mean       4.317\n",
      "std        4.278\n",
      "min        1.000\n",
      "25%        2.000\n",
      "50%        3.000\n",
      "75%        6.000\n",
      "max       54.000\n",
      "Name: floor, dtype: float64\n"
     ]
    }
   ],
   "source": [
    "# Variable floor\n",
    "# Pasamos los ceros a nan\n",
    "df[\"floor\"] = np.where(df[\"floor\"] == 0, np.nan,df[\"floor\"])\n",
    "# Calculamos zscore\n",
    "df[\"floor_zscore\"] = (df[\"floor\"] - df[\"floor\"].mean()) / df[\"floor\"].std()\n",
    "#df[\"floor_zscore\"] = (df.groupby(['state_name'])[[\"floor\"]]\n",
    "#.apply(lambda x: (x - x.mean()) / x.std()))\n",
    "# Contamos outliers\n",
    "print(df[\"floor_zscore\"][abs(df[\"floor_zscore\"]) > 3].count())\n",
    "# Dropeamos las filas con outliers\n",
    "df.drop(df[\"floor\"][abs(df['floor_zscore']) > 3].index,inplace=True)\n",
    "# dropeamos la columna temporal zscore\n",
    "df.drop(columns=[\"floor_zscore\"], inplace=True)\n",
    "# Como nos vienen muchos valores altos, asumimos es fallido por lo que dropeamos filas > a 55 (edif + alto Arg)\n",
    "df.drop(df['floor'][df[\"floor\"] > 55].index,inplace=True)\n",
    "print(\"\")\n",
    "print(df[\"floor\"].describe())"
   ]
  },
  {
   "cell_type": "markdown",
   "metadata": {},
   "source": [
    "### Resolvemos los faltantes de \"place_name\" (25 casos)"
   ]
  },
  {
   "cell_type": "code",
   "execution_count": 409,
   "metadata": {},
   "outputs": [],
   "source": [
    "# Rellenamos los valores faltantes en \"place_name\" parseando el campo \"place_with_parent_names\"\n",
    "df[\"place_name\"].fillna(df['place_with_parent_names'].str.extract('.*\\|(.*)\\|.*', expand=True)[0],inplace=True)"
   ]
  },
  {
   "cell_type": "markdown",
   "metadata": {},
   "source": [
    "### Descartamos que las otras columnas de precio nos sirvan para imputar superficies donde falten, y que existan datos de precio cuando price_aprox_usd sea nula"
   ]
  },
  {
   "cell_type": "code",
   "execution_count": 410,
   "metadata": {},
   "outputs": [
    {
     "data": {
      "text/plain": [
       "0"
      ]
     },
     "execution_count": 410,
     "metadata": {},
     "output_type": "execute_result"
    }
   ],
   "source": [
    "df['surface_total_in_m2'][(df['surface_total_in_m2'].isnull() & df['price_aprox_usd'].notna() & df['price_usd_per_m2'].notna())].count()"
   ]
  },
  {
   "cell_type": "code",
   "execution_count": 411,
   "metadata": {},
   "outputs": [
    {
     "data": {
      "text/plain": [
       "0"
      ]
     },
     "execution_count": 411,
     "metadata": {},
     "output_type": "execute_result"
    }
   ],
   "source": [
    "# Hay datos de precio x m2 en filas que no tengan datos de superficie?\n",
    "df[\"price_usd_per_m2\"].loc[(df[\"surface_total_in_m2\"].isnull() & df[\"surface_covered_in_m2\"].isnull())].count()"
   ]
  },
  {
   "cell_type": "code",
   "execution_count": 412,
   "metadata": {},
   "outputs": [
    {
     "data": {
      "text/plain": [
       "0"
      ]
     },
     "execution_count": 412,
     "metadata": {},
     "output_type": "execute_result"
    }
   ],
   "source": [
    "df[\"price_per_m2\"].loc[(df[\"surface_total_in_m2\"].isnull() & df[\"surface_covered_in_m2\"].isnull())].count()"
   ]
  },
  {
   "cell_type": "code",
   "execution_count": 413,
   "metadata": {
    "scrolled": true
   },
   "outputs": [
    {
     "data": {
      "text/plain": [
       "1"
      ]
     },
     "execution_count": 413,
     "metadata": {},
     "output_type": "execute_result"
    }
   ],
   "source": [
    "# Hay datos de precio en moneda original para los campos en null en \"price_aprox_usd\"?\n",
    "df[\"price\"].loc[df[\"price_aprox_usd\"].isnull()].count()\n",
    "#print(df[\"price_aprox_local_currency\"].loc[df[\"price_aprox_usd\"].isnull()].sum())"
   ]
  },
  {
   "cell_type": "markdown",
   "metadata": {},
   "source": [
    "### Limpiamos y rellenamos variable de Superficie - Imputamos \"surface_covered_in_m2\" a \"surface_total_in_m2\" donde la segunda es nula pero hay datos en la primera"
   ]
  },
  {
   "cell_type": "code",
   "execution_count": 414,
   "metadata": {},
   "outputs": [
    {
     "data": {
      "text/plain": [
       "180.5609178736814"
      ]
     },
     "execution_count": 414,
     "metadata": {},
     "output_type": "execute_result"
    }
   ],
   "source": [
    "# la media de superficie antes de imputar\n",
    "df[\"surface_total_in_m2\"].mean()"
   ]
  },
  {
   "cell_type": "code",
   "execution_count": 415,
   "metadata": {},
   "outputs": [],
   "source": [
    "# rellenamos\n",
    "df[\"surface_total_in_m2\"] = \\\n",
    "np.where(df[\"surface_total_in_m2\"].isnull(),df[\"surface_covered_in_m2\"],df[\"surface_total_in_m2\"])\n",
    "# limpiamos valores en cero y los pasamos a nan\n",
    "df[\"surface_total_in_m2\"] = np.where(df[\"surface_total_in_m2\"] == 0, np.nan,df[\"surface_total_in_m2\"])"
   ]
  },
  {
   "cell_type": "code",
   "execution_count": 416,
   "metadata": {},
   "outputs": [
    {
     "data": {
      "text/plain": [
       "166.45709861414375"
      ]
     },
     "execution_count": 416,
     "metadata": {},
     "output_type": "execute_result"
    }
   ],
   "source": [
    "# la media de superficie despues de imputar\n",
    "df[\"surface_total_in_m2\"].mean()"
   ]
  },
  {
   "cell_type": "code",
   "execution_count": 417,
   "metadata": {},
   "outputs": [
    {
     "data": {
      "text/plain": [
       "0"
      ]
     },
     "execution_count": 417,
     "metadata": {},
     "output_type": "execute_result"
    }
   ],
   "source": [
    "# chequeamos que la imputación haya sido completa\n",
    "df[\"surface_covered_in_m2\"].loc[df[\"surface_total_in_m2\"].isnull()].count()"
   ]
  },
  {
   "cell_type": "code",
   "execution_count": 418,
   "metadata": {},
   "outputs": [
    {
     "data": {
      "text/plain": [
       "11747"
      ]
     },
     "execution_count": 418,
     "metadata": {},
     "output_type": "execute_result"
    }
   ],
   "source": [
    "# Conteo cuantos m2 en nulos\n",
    "df[\"surface_total_in_m2\"].isnull().sum()"
   ]
  },
  {
   "cell_type": "code",
   "execution_count": 419,
   "metadata": {},
   "outputs": [
    {
     "name": "stdout",
     "output_type": "stream",
     "text": [
      "0.0\n",
      "0.0\n",
      "7229\n",
      "7230\n",
      "7230\n"
     ]
    }
   ],
   "source": [
    "# Controlamos si en los casos donde no existe el dato de superficie si existen datos de precio\n",
    "print(df[\"price_per_m2\"][df[\"surface_total_in_m2\"].isnull()].sum())\n",
    "print(df[\"price_usd_per_m2\"][df[\"surface_total_in_m2\"].isnull()].sum())\n",
    "print(df[\"price_aprox_usd\"][df[\"surface_total_in_m2\"].isnull()].count())\n",
    "print(df[\"price_aprox_local_currency\"][df[\"surface_total_in_m2\"].isnull()].count())\n",
    "print(df[\"price\"][df[\"surface_total_in_m2\"].isnull()].count())"
   ]
  },
  {
   "cell_type": "code",
   "execution_count": 420,
   "metadata": {},
   "outputs": [],
   "source": [
    "# dropeamos todas las filas que no tienen datos de superficie - 12mil filas\n",
    "df = df[df[\"surface_total_in_m2\"].notna()]"
   ]
  },
  {
   "cell_type": "markdown",
   "metadata": {},
   "source": [
    "### Parseamos el campo \"description\" para rescatar datos de ambientes"
   ]
  },
  {
   "cell_type": "code",
   "execution_count": 421,
   "metadata": {
    "scrolled": true
   },
   "outputs": [
    {
     "name": "stdout",
     "output_type": "stream",
     "text": [
      "13436\n"
     ]
    }
   ],
   "source": [
    "# en busca de cantidad de dormitorios\n",
    "df[\"dorm_en_desc\"] = df['description'].str.extract('(\\d+?) (dormitorios|dormitorio)')[0]\n",
    "# contamos cuantos datos ganamos\n",
    "print(df[\"dorm_en_desc\"].loc[df[\"rooms\"].isnull()].count())\n",
    "# imputamos sumando 1 para transformar dormitorios en ambientes\n",
    "df[\"rooms\"] = np.where(df[\"rooms\"].isnull(),pd.to_numeric(df[\"dorm_en_desc\"]) + 1,df[\"rooms\"])\n",
    "# dropeamos la columna intermedia\n",
    "df.drop(columns=[\"dorm_en_desc\"], inplace=True)"
   ]
  },
  {
   "cell_type": "code",
   "execution_count": 422,
   "metadata": {},
   "outputs": [
    {
     "name": "stdout",
     "output_type": "stream",
     "text": [
      "6101\n"
     ]
    }
   ],
   "source": [
    "# en busca de cantidad de ambientes\n",
    "df[\"amb_en_desc\"] = df['description'].str.extract('(\\d+?) (ambientes|ambiente)')[0]\n",
    "# contamos cuantos datos ganamos\n",
    "print(df[\"amb_en_desc\"].loc[df[\"rooms\"].isnull()].count())\n",
    "# imputamos suma\n",
    "df[\"rooms\"] = np.where(df[\"rooms\"].isnull(),pd.to_numeric(df[\"amb_en_desc\"]),df[\"rooms\"])\n",
    "# dropeamos la columna intermedia\n",
    "df.drop(columns=[\"amb_en_desc\"], inplace=True)"
   ]
  },
  {
   "cell_type": "markdown",
   "metadata": {},
   "source": [
    "### Parseamos el campo \"title\" para rescatar datos de superficie"
   ]
  },
  {
   "cell_type": "code",
   "execution_count": 423,
   "metadata": {},
   "outputs": [
    {
     "name": "stdout",
     "output_type": "stream",
     "text": [
      "446\n"
     ]
    }
   ],
   "source": [
    "# en busca de cantidad de dormitorios\n",
    "df[\"dorm_en_tit\"] = df['title'].str.extract('(\\d+?) (dormitorios|dormitorio)')[0]\n",
    "# y contamos cuantos datos ganamos\n",
    "print(df[\"dorm_en_tit\"].loc[df[\"rooms\"].isnull()].count())\n",
    "# imputamos sumando 1 para transformar dormitorios en ambientes\n",
    "df[\"rooms\"] = np.where(df[\"rooms\"].isnull(),pd.to_numeric(df[\"dorm_en_tit\"]) + 1,df[\"rooms\"])\n",
    "# dropeamos la columna intermedia\n",
    "df.drop(columns=[\"dorm_en_tit\"], inplace=True)"
   ]
  },
  {
   "cell_type": "code",
   "execution_count": 424,
   "metadata": {},
   "outputs": [
    {
     "name": "stdout",
     "output_type": "stream",
     "text": [
      "776\n"
     ]
    }
   ],
   "source": [
    "# en busca de cantidad de ambientes\n",
    "df[\"amb_en_tit\"] = df['title'].str.extract('(\\d+?) (ambientes|ambiente)')[0]\n",
    "# contamos cuantos datos ganamos\n",
    "print(df[\"amb_en_tit\"].loc[df[\"rooms\"].isnull()].count())\n",
    "# imputamos\n",
    "df[\"rooms\"] = np.where(df[\"rooms\"].isnull(),pd.to_numeric(df[\"amb_en_tit\"]),df[\"rooms\"])\n",
    "# dropeamos la columna intermedia\n",
    "df.drop(columns=[\"amb_en_tit\"], inplace=True)"
   ]
  },
  {
   "cell_type": "code",
   "execution_count": 425,
   "metadata": {},
   "outputs": [],
   "source": [
    "# Volvemos a limpiar el máximo de 10 ambientes para la variable rooms\n",
    "df.drop(df[\"rooms\"][df[\"rooms\"] > 10].index,inplace=True)"
   ]
  },
  {
   "cell_type": "markdown",
   "metadata": {},
   "source": [
    "### Rellenamos faltantes la variable price usd per m2 cuando hayan datos de precio total y superficie"
   ]
  },
  {
   "cell_type": "code",
   "execution_count": 426,
   "metadata": {
    "scrolled": true
   },
   "outputs": [
    {
     "name": "stdout",
     "output_type": "stream",
     "text": [
      "31878\n",
      "11797\n"
     ]
    }
   ],
   "source": [
    "# recalcular el precio usd por m2 donde este sea null\n",
    "print(df[\"price_usd_per_m2\"].isnull().sum()) # nulos antes\n",
    "df[\"price_usd_per_m2\"] = np.where(df[\"price_usd_per_m2\"].isnull(),np.divide(df[\"price_aprox_usd\"],df[\"surface_total_in_m2\"]),df[\"price_usd_per_m2\"])\n",
    "print(df[\"price_usd_per_m2\"].isnull().sum()) # nulos despues"
   ]
  },
  {
   "cell_type": "markdown",
   "metadata": {},
   "source": [
    "### Resolvemos los valores faltantes del campo \"price_usd_per_m2\""
   ]
  },
  {
   "cell_type": "code",
   "execution_count": 427,
   "metadata": {
    "scrolled": true
   },
   "outputs": [],
   "source": [
    "# imputar a los valores faltantes de price_usd_per_m2 con el promedio por provincia, localidad/barrio y tipo de propiedad\n",
    "df[\"price_usd_per_m2\"].fillna(df.groupby(['state_name','property_type'])['price_usd_per_m2'].transform('median'),inplace=True)\n",
    "#df.groupby(['state_name','place_name','property_type'])[['price_usd_per_m2']].transform('median').sort_values('price_usd_per_m2',ascending=True)\n",
    "#df.sort_values('price_usd_per_m2',ascending=False)\n",
    "# dropear remanente que no pudo ser rellenado con promedios\n",
    "df.drop(df[df[\"price_usd_per_m2\"].isnull()].index,inplace=True)"
   ]
  },
  {
   "cell_type": "code",
   "execution_count": 428,
   "metadata": {},
   "outputs": [],
   "source": [
    "# rellenar precios totales en USD faltantes\n",
    "df['price_aprox_usd'] = np.where(df['price_aprox_usd'].isnull(),df['price_usd_per_m2'] * df['surface_total_in_m2'],df['price_aprox_usd'])"
   ]
  },
  {
   "cell_type": "markdown",
   "metadata": {},
   "source": [
    "### Creación nueva variable Zona recategorizando state_name"
   ]
  },
  {
   "cell_type": "code",
   "execution_count": 429,
   "metadata": {},
   "outputs": [
    {
     "data": {
      "text/plain": [
       "array(['Capital Federal', 'Buenos Aires Costa Atlántica', 'Entre Ríos',\n",
       "       'Bs.As. G.B.A. Zona Norte', 'Córdoba', 'Bs.As. G.B.A. Zona Oeste',\n",
       "       'Bs.As. G.B.A. Zona Sur', 'Misiones', 'Santa Fe',\n",
       "       'Buenos Aires Interior', 'Neuquén', 'Río Negro', 'San Luis',\n",
       "       'Mendoza', 'Corrientes', 'Chubut', 'Tucumán', 'Chaco', 'Salta',\n",
       "       'San Juan', 'Tierra Del Fuego', 'Santa Cruz', 'La Pampa',\n",
       "       'Santiago Del Estero', 'Catamarca', 'Jujuy', 'La Rioja', 'Formosa'],\n",
       "      dtype=object)"
      ]
     },
     "execution_count": 429,
     "metadata": {},
     "output_type": "execute_result"
    }
   ],
   "source": [
    "df['state_name'].unique()"
   ]
  },
  {
   "cell_type": "code",
   "execution_count": 430,
   "metadata": {},
   "outputs": [
    {
     "data": {
      "text/plain": [
       "Capital & GBA    63132\n",
       "Interior         26589\n",
       "Name: zona, dtype: int64"
      ]
     },
     "execution_count": 430,
     "metadata": {},
     "output_type": "execute_result"
    }
   ],
   "source": [
    "# Reemplazos valores y creamos nueva variable\n",
    "df['zona'] = df['state_name'].replace({'Capital Federal':'Capital & GBA', 'Buenos Aires Costa Atlántica':'Interior', 'Entre Ríos':'Interior', 'Bs.As. G.B.A. Zona Norte':'Capital & GBA', 'Córdoba':'Interior', 'Bs.As. G.B.A. Zona Oeste':'Capital & GBA', 'Bs.As. G.B.A. Zona Sur':'Capital & GBA', 'Misiones':'Interior', 'Santa Fe':'Interior', 'Buenos Aires Interior':'Interior', 'Neuquén':'Interior', 'Río Negro':'Interior', 'San Luis':'Interior', 'Mendoza':'Interior', 'Corrientes':'Interior', 'Chubut':'Interior', 'Tucumán':'Interior', 'Chaco':'Interior', 'Salta':'Interior', 'San Juan':'Interior', 'Tierra Del Fuego':'Interior', 'Santa Cruz':'Interior', 'La Pampa':'Interior', 'Santiago Del Estero':'Interior', 'Catamarca':'Interior', 'Jujuy':'Interior', 'La Rioja':'Interior', 'Formosa':'Interior'})\n",
    "df['zona'].value_counts()"
   ]
  },
  {
   "cell_type": "markdown",
   "metadata": {},
   "source": [
    "### Limpieza final y evaluación del dataset resultante"
   ]
  },
  {
   "cell_type": "code",
   "execution_count": 431,
   "metadata": {},
   "outputs": [],
   "source": [
    "# Nos quedamos solo con los precios en USD\n",
    "df.drop(columns=[\"price\",\"price_aprox_local_currency\",\"price_per_m2\",\"currency\"], inplace=True)"
   ]
  },
  {
   "cell_type": "code",
   "execution_count": 432,
   "metadata": {},
   "outputs": [],
   "source": [
    "# Limpiamos el Dataset de Columnas innecesarias\n",
    "df.drop(columns=[\"Unnamed: 0\",\"operation\",\"place_with_parent_names\",\"country_name\",\"lat-lon\",\"image_thumbnail\"], inplace=True)"
   ]
  },
  {
   "cell_type": "code",
   "execution_count": 433,
   "metadata": {
    "scrolled": true
   },
   "outputs": [
    {
     "data": {
      "text/plain": [
       "property_type            89721\n",
       "place_name               89721\n",
       "state_name               89721\n",
       "geonames_id              74770\n",
       "lat                      51889\n",
       "lon                      51889\n",
       "price_aprox_usd          89721\n",
       "surface_total_in_m2      89721\n",
       "surface_covered_in_m2    83887\n",
       "price_usd_per_m2         89721\n",
       "floor                     6216\n",
       "rooms                    56308\n",
       "expenses                 12069\n",
       "properati_url            89721\n",
       "description              89720\n",
       "title                    89721\n",
       "zona                     89721\n",
       "dtype: int64"
      ]
     },
     "execution_count": 433,
     "metadata": {},
     "output_type": "execute_result"
    }
   ],
   "source": [
    "# Mapeamos los valores válidos con los que nos quedamos\n",
    "df.notna().sum()"
   ]
  },
  {
   "cell_type": "code",
   "execution_count": 434,
   "metadata": {},
   "outputs": [
    {
     "data": {
      "text/html": [
       "<div>\n",
       "<style scoped>\n",
       "    .dataframe tbody tr th:only-of-type {\n",
       "        vertical-align: middle;\n",
       "    }\n",
       "\n",
       "    .dataframe tbody tr th {\n",
       "        vertical-align: top;\n",
       "    }\n",
       "\n",
       "    .dataframe thead th {\n",
       "        text-align: right;\n",
       "    }\n",
       "</style>\n",
       "<table border=\"1\" class=\"dataframe\">\n",
       "  <thead>\n",
       "    <tr style=\"text-align: right;\">\n",
       "      <th></th>\n",
       "      <th>geonames_id</th>\n",
       "      <th>lat</th>\n",
       "      <th>lon</th>\n",
       "      <th>price_aprox_usd</th>\n",
       "      <th>surface_total_in_m2</th>\n",
       "      <th>surface_covered_in_m2</th>\n",
       "      <th>price_usd_per_m2</th>\n",
       "      <th>floor</th>\n",
       "      <th>rooms</th>\n",
       "      <th>expenses</th>\n",
       "    </tr>\n",
       "  </thead>\n",
       "  <tbody>\n",
       "    <tr>\n",
       "      <th>count</th>\n",
       "      <td>74770.000</td>\n",
       "      <td>51889.000</td>\n",
       "      <td>51889.000</td>\n",
       "      <td>89721.000</td>\n",
       "      <td>89721.000</td>\n",
       "      <td>83887.000</td>\n",
       "      <td>89721.000</td>\n",
       "      <td>6216.000</td>\n",
       "      <td>56308.000</td>\n",
       "      <td>12069.000</td>\n",
       "    </tr>\n",
       "    <tr>\n",
       "      <th>mean</th>\n",
       "      <td>3561684.280</td>\n",
       "      <td>-34.730</td>\n",
       "      <td>-59.076</td>\n",
       "      <td>208761.667</td>\n",
       "      <td>166.431</td>\n",
       "      <td>116.192</td>\n",
       "      <td>1773.945</td>\n",
       "      <td>4.277</td>\n",
       "      <td>3.013</td>\n",
       "      <td>2802.150</td>\n",
       "    </tr>\n",
       "    <tr>\n",
       "      <th>std</th>\n",
       "      <td>367957.304</td>\n",
       "      <td>1.841</td>\n",
       "      <td>2.053</td>\n",
       "      <td>202348.918</td>\n",
       "      <td>242.566</td>\n",
       "      <td>110.208</td>\n",
       "      <td>932.112</td>\n",
       "      <td>4.227</td>\n",
       "      <td>1.308</td>\n",
       "      <td>5912.947</td>\n",
       "    </tr>\n",
       "    <tr>\n",
       "      <th>min</th>\n",
       "      <td>3427208.000</td>\n",
       "      <td>-54.820</td>\n",
       "      <td>-71.665</td>\n",
       "      <td>1323.332</td>\n",
       "      <td>25.000</td>\n",
       "      <td>25.000</td>\n",
       "      <td>8.062</td>\n",
       "      <td>1.000</td>\n",
       "      <td>1.000</td>\n",
       "      <td>1.000</td>\n",
       "    </tr>\n",
       "    <tr>\n",
       "      <th>25%</th>\n",
       "      <td>3430234.000</td>\n",
       "      <td>-34.666</td>\n",
       "      <td>-58.690</td>\n",
       "      <td>92000.000</td>\n",
       "      <td>52.000</td>\n",
       "      <td>47.000</td>\n",
       "      <td>1156.069</td>\n",
       "      <td>2.000</td>\n",
       "      <td>2.000</td>\n",
       "      <td>1000.000</td>\n",
       "    </tr>\n",
       "    <tr>\n",
       "      <th>50%</th>\n",
       "      <td>3433775.000</td>\n",
       "      <td>-34.599</td>\n",
       "      <td>-58.473</td>\n",
       "      <td>145000.000</td>\n",
       "      <td>85.000</td>\n",
       "      <td>76.000</td>\n",
       "      <td>1666.667</td>\n",
       "      <td>3.000</td>\n",
       "      <td>3.000</td>\n",
       "      <td>1900.000</td>\n",
       "    </tr>\n",
       "    <tr>\n",
       "      <th>75%</th>\n",
       "      <td>3436397.000</td>\n",
       "      <td>-34.473</td>\n",
       "      <td>-58.395</td>\n",
       "      <td>250000.000</td>\n",
       "      <td>190.000</td>\n",
       "      <td>150.000</td>\n",
       "      <td>2300.000</td>\n",
       "      <td>6.000</td>\n",
       "      <td>4.000</td>\n",
       "      <td>3800.000</td>\n",
       "    </tr>\n",
       "    <tr>\n",
       "      <th>max</th>\n",
       "      <td>6948895.000</td>\n",
       "      <td>-23.137</td>\n",
       "      <td>-54.556</td>\n",
       "      <td>7664487.633</td>\n",
       "      <td>6168.000</td>\n",
       "      <td>2700.000</td>\n",
       "      <td>16666.667</td>\n",
       "      <td>54.000</td>\n",
       "      <td>10.000</td>\n",
       "      <td>380000.000</td>\n",
       "    </tr>\n",
       "  </tbody>\n",
       "</table>\n",
       "</div>"
      ],
      "text/plain": [
       "       geonames_id       lat       lon  price_aprox_usd  surface_total_in_m2  \\\n",
       "count    74770.000 51889.000 51889.000        89721.000            89721.000   \n",
       "mean   3561684.280   -34.730   -59.076       208761.667              166.431   \n",
       "std     367957.304     1.841     2.053       202348.918              242.566   \n",
       "min    3427208.000   -54.820   -71.665         1323.332               25.000   \n",
       "25%    3430234.000   -34.666   -58.690        92000.000               52.000   \n",
       "50%    3433775.000   -34.599   -58.473       145000.000               85.000   \n",
       "75%    3436397.000   -34.473   -58.395       250000.000              190.000   \n",
       "max    6948895.000   -23.137   -54.556      7664487.633             6168.000   \n",
       "\n",
       "       surface_covered_in_m2  price_usd_per_m2    floor     rooms   expenses  \n",
       "count              83887.000         89721.000 6216.000 56308.000  12069.000  \n",
       "mean                 116.192          1773.945    4.277     3.013   2802.150  \n",
       "std                  110.208           932.112    4.227     1.308   5912.947  \n",
       "min                   25.000             8.062    1.000     1.000      1.000  \n",
       "25%                   47.000          1156.069    2.000     2.000   1000.000  \n",
       "50%                   76.000          1666.667    3.000     3.000   1900.000  \n",
       "75%                  150.000          2300.000    6.000     4.000   3800.000  \n",
       "max                 2700.000         16666.667   54.000    10.000 380000.000  "
      ]
     },
     "execution_count": 434,
     "metadata": {},
     "output_type": "execute_result"
    }
   ],
   "source": [
    "df.describe()"
   ]
  },
  {
   "cell_type": "code",
   "execution_count": 435,
   "metadata": {},
   "outputs": [
    {
     "data": {
      "text/html": [
       "<div>\n",
       "<style scoped>\n",
       "    .dataframe tbody tr th:only-of-type {\n",
       "        vertical-align: middle;\n",
       "    }\n",
       "\n",
       "    .dataframe tbody tr th {\n",
       "        vertical-align: top;\n",
       "    }\n",
       "\n",
       "    .dataframe thead th {\n",
       "        text-align: right;\n",
       "    }\n",
       "</style>\n",
       "<table border=\"1\" class=\"dataframe\">\n",
       "  <thead>\n",
       "    <tr style=\"text-align: right;\">\n",
       "      <th></th>\n",
       "      <th>price_usd_per_m2</th>\n",
       "    </tr>\n",
       "    <tr>\n",
       "      <th>state_name</th>\n",
       "      <th></th>\n",
       "    </tr>\n",
       "  </thead>\n",
       "  <tbody>\n",
       "    <tr>\n",
       "      <th>Capital Federal</th>\n",
       "      <td>2483.071</td>\n",
       "    </tr>\n",
       "    <tr>\n",
       "      <th>Catamarca</th>\n",
       "      <td>1890.291</td>\n",
       "    </tr>\n",
       "    <tr>\n",
       "      <th>Bs.As. G.B.A. Zona Norte</th>\n",
       "      <td>1775.907</td>\n",
       "    </tr>\n",
       "    <tr>\n",
       "      <th>Río Negro</th>\n",
       "      <td>1637.077</td>\n",
       "    </tr>\n",
       "    <tr>\n",
       "      <th>San Juan</th>\n",
       "      <td>1566.091</td>\n",
       "    </tr>\n",
       "    <tr>\n",
       "      <th>Neuquén</th>\n",
       "      <td>1549.860</td>\n",
       "    </tr>\n",
       "    <tr>\n",
       "      <th>Buenos Aires Costa Atlántica</th>\n",
       "      <td>1545.373</td>\n",
       "    </tr>\n",
       "    <tr>\n",
       "      <th>Chubut</th>\n",
       "      <td>1531.872</td>\n",
       "    </tr>\n",
       "    <tr>\n",
       "      <th>Formosa</th>\n",
       "      <td>1512.175</td>\n",
       "    </tr>\n",
       "    <tr>\n",
       "      <th>Santa Fe</th>\n",
       "      <td>1480.111</td>\n",
       "    </tr>\n",
       "  </tbody>\n",
       "</table>\n",
       "</div>"
      ],
      "text/plain": [
       "                              price_usd_per_m2\n",
       "state_name                                    \n",
       "Capital Federal                       2483.071\n",
       "Catamarca                             1890.291\n",
       "Bs.As. G.B.A. Zona Norte              1775.907\n",
       "Río Negro                             1637.077\n",
       "San Juan                              1566.091\n",
       "Neuquén                               1549.860\n",
       "Buenos Aires Costa Atlántica          1545.373\n",
       "Chubut                                1531.872\n",
       "Formosa                               1512.175\n",
       "Santa Fe                              1480.111"
      ]
     },
     "execution_count": 435,
     "metadata": {},
     "output_type": "execute_result"
    }
   ],
   "source": [
    "df.groupby(['state_name'])[['price_usd_per_m2']].mean().sort_values(by=['price_usd_per_m2'],ascending=False).head(10)"
   ]
  },
  {
   "cell_type": "code",
   "execution_count": 436,
   "metadata": {},
   "outputs": [
    {
     "data": {
      "text/html": [
       "<div>\n",
       "<style scoped>\n",
       "    .dataframe tbody tr th:only-of-type {\n",
       "        vertical-align: middle;\n",
       "    }\n",
       "\n",
       "    .dataframe tbody tr th {\n",
       "        vertical-align: top;\n",
       "    }\n",
       "\n",
       "    .dataframe thead th {\n",
       "        text-align: right;\n",
       "    }\n",
       "</style>\n",
       "<table border=\"1\" class=\"dataframe\">\n",
       "  <thead>\n",
       "    <tr style=\"text-align: right;\">\n",
       "      <th></th>\n",
       "      <th></th>\n",
       "      <th></th>\n",
       "      <th>price_usd_per_m2</th>\n",
       "    </tr>\n",
       "    <tr>\n",
       "      <th>state_name</th>\n",
       "      <th>place_name</th>\n",
       "      <th>property_type</th>\n",
       "      <th></th>\n",
       "    </tr>\n",
       "  </thead>\n",
       "  <tbody>\n",
       "    <tr>\n",
       "      <th>Buenos Aires Interior</th>\n",
       "      <th>Pergamino</th>\n",
       "      <th>store</th>\n",
       "      <td>10000.000</td>\n",
       "    </tr>\n",
       "    <tr>\n",
       "      <th>Córdoba</th>\n",
       "      <th>Cosquín</th>\n",
       "      <th>store</th>\n",
       "      <td>7500.000</td>\n",
       "    </tr>\n",
       "    <tr>\n",
       "      <th>Capital Federal</th>\n",
       "      <th>Puerto Madero</th>\n",
       "      <th>store</th>\n",
       "      <td>5517.406</td>\n",
       "    </tr>\n",
       "    <tr>\n",
       "      <th>La Pampa</th>\n",
       "      <th>Perú</th>\n",
       "      <th>apartment</th>\n",
       "      <td>5200.000</td>\n",
       "    </tr>\n",
       "    <tr>\n",
       "      <th>Córdoba</th>\n",
       "      <th>Oliva</th>\n",
       "      <th>house</th>\n",
       "      <td>5196.633</td>\n",
       "    </tr>\n",
       "    <tr>\n",
       "      <th>Capital Federal</th>\n",
       "      <th>Puerto Madero</th>\n",
       "      <th>apartment</th>\n",
       "      <td>5194.173</td>\n",
       "    </tr>\n",
       "    <tr>\n",
       "      <th>Bs.As. G.B.A. Zona Norte</th>\n",
       "      <th>Barrio Los Alisos</th>\n",
       "      <th>store</th>\n",
       "      <td>5050.505</td>\n",
       "    </tr>\n",
       "    <tr>\n",
       "      <th>Catamarca</th>\n",
       "      <th>Manantiales</th>\n",
       "      <th>apartment</th>\n",
       "      <td>4964.115</td>\n",
       "    </tr>\n",
       "    <tr>\n",
       "      <th>Mendoza</th>\n",
       "      <th>Capilla del Rosario</th>\n",
       "      <th>house</th>\n",
       "      <td>4375.000</td>\n",
       "    </tr>\n",
       "    <tr>\n",
       "      <th>Bs.As. G.B.A. Zona Norte</th>\n",
       "      <th>Pilar Golf Country Club</th>\n",
       "      <th>apartment</th>\n",
       "      <td>3753.521</td>\n",
       "    </tr>\n",
       "    <tr>\n",
       "      <th>Capital Federal</th>\n",
       "      <th>Palermo Chico</th>\n",
       "      <th>apartment</th>\n",
       "      <td>3702.818</td>\n",
       "    </tr>\n",
       "    <tr>\n",
       "      <th>Bs.As. G.B.A. Zona Norte</th>\n",
       "      <th>Nordelta</th>\n",
       "      <th>store</th>\n",
       "      <td>3645.375</td>\n",
       "    </tr>\n",
       "    <tr>\n",
       "      <th>Capital Federal</th>\n",
       "      <th>Palermo</th>\n",
       "      <th>store</th>\n",
       "      <td>3637.016</td>\n",
       "    </tr>\n",
       "    <tr>\n",
       "      <th>Bs.As. G.B.A. Zona Sur</th>\n",
       "      <th>GreenVille Polo &amp; Resort</th>\n",
       "      <th>apartment</th>\n",
       "      <td>3620.968</td>\n",
       "    </tr>\n",
       "    <tr>\n",
       "      <th>Capital Federal</th>\n",
       "      <th>Recoleta</th>\n",
       "      <th>store</th>\n",
       "      <td>3582.630</td>\n",
       "    </tr>\n",
       "  </tbody>\n",
       "</table>\n",
       "</div>"
      ],
      "text/plain": [
       "                                                                 price_usd_per_m2\n",
       "state_name               place_name               property_type                  \n",
       "Buenos Aires Interior    Pergamino                store                 10000.000\n",
       "Córdoba                  Cosquín                  store                  7500.000\n",
       "Capital Federal          Puerto Madero            store                  5517.406\n",
       "La Pampa                 Perú                     apartment              5200.000\n",
       "Córdoba                  Oliva                    house                  5196.633\n",
       "Capital Federal          Puerto Madero            apartment              5194.173\n",
       "Bs.As. G.B.A. Zona Norte Barrio Los Alisos        store                  5050.505\n",
       "Catamarca                Manantiales              apartment              4964.115\n",
       "Mendoza                  Capilla del Rosario      house                  4375.000\n",
       "Bs.As. G.B.A. Zona Norte Pilar Golf Country Club  apartment              3753.521\n",
       "Capital Federal          Palermo Chico            apartment              3702.818\n",
       "Bs.As. G.B.A. Zona Norte Nordelta                 store                  3645.375\n",
       "Capital Federal          Palermo                  store                  3637.016\n",
       "Bs.As. G.B.A. Zona Sur   GreenVille Polo & Resort apartment              3620.968\n",
       "Capital Federal          Recoleta                 store                  3582.630"
      ]
     },
     "execution_count": 436,
     "metadata": {},
     "output_type": "execute_result"
    }
   ],
   "source": [
    "df.groupby(['state_name','place_name','property_type'])[['price_usd_per_m2']].mean().sort_values(by=['price_usd_per_m2'],ascending=False).head(15)"
   ]
  },
  {
   "cell_type": "code",
   "execution_count": 437,
   "metadata": {},
   "outputs": [],
   "source": [
    "df.to_pickle('dataset.pkl')"
   ]
  }
 ],
 "metadata": {
  "colab": {
   "name": "Pre-Analisis.ipynb",
   "provenance": [],
   "version": "0.3.2"
  },
  "kernelspec": {
   "display_name": "Python 3",
   "language": "python",
   "name": "python3"
  },
  "language_info": {
   "codemirror_mode": {
    "name": "ipython",
    "version": 3
   },
   "file_extension": ".py",
   "mimetype": "text/x-python",
   "name": "python",
   "nbconvert_exporter": "python",
   "pygments_lexer": "ipython3",
   "version": "3.6.6"
  }
 },
 "nbformat": 4,
 "nbformat_minor": 1
}
