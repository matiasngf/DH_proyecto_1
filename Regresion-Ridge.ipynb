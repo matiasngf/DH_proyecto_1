{
 "cells": [
  {
   "cell_type": "code",
   "execution_count": 1,
   "metadata": {
    "colab": {
     "base_uri": "https://localhost:8080/",
     "height": 501
    },
    "colab_type": "code",
    "executionInfo": {
     "elapsed": 1162,
     "status": "ok",
     "timestamp": 1555459153100,
     "user": {
      "displayName": "Matias Gonzalez Fernandez",
      "photoUrl": "",
      "userId": "02925906530158308490"
     },
     "user_tz": 180
    },
    "id": "paHr9FLWuqt7",
    "outputId": "d91d8d43-35e4-434d-ca93-32a9605eb455"
   },
   "outputs": [],
   "source": [
    "import pandas as pd\n",
    "import numpy as np\n",
    "import matplotlib as mpl\n",
    "#from scipy import stats\n",
    "#import matplotlib.pyplot as plt\n",
    "#import seaborn as sns\n",
    "%matplotlib inline\n",
    "from sklearn.feature_extraction.text import TfidfVectorizer\n",
    "from sklearn.feature_extraction import DictVectorizer\n",
    "from scipy.sparse import hstack\n",
    "from sklearn.linear_model import Ridge\n",
    "from sklearn.model_selection import train_test_split, KFold, cross_val_score\n",
    "from sklearn.linear_model import LinearRegression, Lasso, LassoCV, Ridge, RidgeCV\n",
    "#from sklearn.preprocessing import PolynomialFeatures, StandardScaler\n",
    "#from sklearn.metrics import mean_squared_error, r2_score\n",
    "from sklearn import preprocessing"
   ]
  },
  {
   "cell_type": "code",
   "execution_count": 2,
   "metadata": {},
   "outputs": [],
   "source": [
    "# Importar pickle con el dataset preprocesado\n",
    "df = pd.read_pickle('DatasetFinalParaEntrenar.pkl')"
   ]
  },
  {
   "cell_type": "markdown",
   "metadata": {},
   "source": [
    "### Fit & Transform"
   ]
  },
  {
   "cell_type": "code",
   "execution_count": 3,
   "metadata": {},
   "outputs": [],
   "source": [
    "# Separar Variables por tipo\n",
    "categoricals = ['property_type','place_name','state_name','zona']\n",
    "descriptions = ['texto']\n",
    "numericals = ['surface_total_in_m2', 'surface_covered_in_m2', 'floor', 'rooms', 'expenses','lat','lon']\n",
    "dummies = ['subte','colectivo','balcon','tren','porton','financia', 'parrilla','pileta', 'solarium', 'lavadero', 'estacionamiento', 'no_apto_credito','apto_credito', 'amplioliving', 'cocheras', 'frente', 'contrafrente','seguridad', 'amenities', 'SUM', 'espaciosverdes','jacuzzi','estrenar','aptoprofesional','pozo','categoria','reciclado','luminoso','acondicionado','quincho','escalera']\n",
    "target = ['price_usd_per_m2']"
   ]
  },
  {
   "cell_type": "code",
   "execution_count": 4,
   "metadata": {},
   "outputs": [],
   "source": [
    "# Separar Train-Test\n",
    "\n",
    "Xdf = df[np.concatenate([\n",
    "        categoricals,\n",
    "        descriptions,\n",
    "        numericals,\n",
    "        dummies\n",
    "])]\n",
    "Ydf = df[target]\n",
    "\n",
    "X_trainDf, X_testDf, y_trainDf, y_testDf = train_test_split(Xdf, Ydf, test_size=0.30)"
   ]
  },
  {
   "cell_type": "code",
   "execution_count": 5,
   "metadata": {},
   "outputs": [],
   "source": [
    "# FIT (función) - Vectorizar categóricas, Vectorizar texto en Description y Normalizar continuas\n",
    "from sklearn.linear_model import ElasticNetCV\n",
    "vectorizer = TfidfVectorizer(min_df=5)\n",
    "enc = DictVectorizer()\n",
    "clf = Ridge(0.8255102040816327, random_state=241,fit_intercept=True)\n",
    "#clf = RidgeCV(alphas=np.linspace(0.01,10, 50), cv=10, fit_intercept=True)\n",
    "normalizer = preprocessing.Normalizer()\n",
    "\n",
    "def fit_model(X_train, Y_train):\n",
    "    texts = X_train[descriptions]\n",
    "    texts = texts.applymap(lambda x: x.lower())\n",
    "    texts = texts.replace('[^a-zA-Z0-9]', ' ', regex = True)\n",
    "\n",
    "    X_tfidf = vectorizer.fit_transform(texts[descriptions[0]])\n",
    "    \n",
    "    X_train_categ = enc.fit_transform(X_train[categoricals].to_dict('records'))\n",
    "    \n",
    "    X_numericas = normalizer.fit_transform(X_train[numericals])\n",
    "    \n",
    "    X_dummies = X_train[dummies]\n",
    "\n",
    "    X = hstack([X_tfidf, X_train_categ, X_numericas, X_dummies]) # regualirzar las numericas luego de splitear\n",
    "    \n",
    "    # train model on data\n",
    "    clf.fit(X, Y_train)\n",
    "    return X, Y_train\n",
    "\n",
    "X__train, y__train = fit_model(X_trainDf, y_trainDf)"
   ]
  },
  {
   "cell_type": "code",
   "execution_count": 6,
   "metadata": {},
   "outputs": [
    {
     "data": {
      "text/plain": [
       "<26910x21984 sparse matrix of type '<class 'numpy.float64'>'\n",
       "\twith 2184244 stored elements in COOrdinate format>"
      ]
     },
     "execution_count": 6,
     "metadata": {},
     "output_type": "execute_result"
    }
   ],
   "source": [
    "# TRANSFORM (función)\n",
    "def transform_model(X_train):\n",
    "    texts = X_train[descriptions]\n",
    "    texts = texts.applymap(lambda x: x.lower())\n",
    "    texts = texts.replace('[^a-zA-Z0-9]', ' ', regex = True)\n",
    "\n",
    "    X_tfidf = vectorizer.transform(texts[descriptions[0]])\n",
    "    \n",
    "    X_train_categ = enc.transform(X_train[categoricals].to_dict('records'))\n",
    "    \n",
    "    X_numericas = normalizer.transform(X_train[numericals])\n",
    "    \n",
    "    X_dummies = X_train[dummies]\n",
    "\n",
    "    X = hstack([X_tfidf, X_train_categ, X_numericas, X_dummies])\n",
    "    \n",
    "    return X\n",
    "X__test = transform_model(X_testDf)\n",
    "X__test"
   ]
  },
  {
   "cell_type": "code",
   "execution_count": 7,
   "metadata": {},
   "outputs": [
    {
     "name": "stdout",
     "output_type": "stream",
     "text": [
      "Score de Entrenamiento:  0.8128122239611268\n",
      "Score de Test:  0.7454322977694718\n",
      "MAE:  317.6676198344248\n",
      "MSE:  223624.2421260136\n",
      "RMSE:  472.88924932378575\n",
      "R2:  0.7454322977694718\n"
     ]
    }
   ],
   "source": [
    "# Métricas\n",
    "from sklearn import metrics\n",
    "print ('Score de Entrenamiento: ',clf.score(X__train, y__train))\n",
    "print ('Score de Test: ',clf.score(X__test, y_testDf))\n",
    "print ('MAE: ', metrics.mean_absolute_error(y_testDf, clf.predict(X__test)))\n",
    "print ('MSE: ', metrics.mean_squared_error(y_testDf, clf.predict(X__test)))\n",
    "print ('RMSE: ', np.sqrt(metrics.mean_squared_error(y_testDf, clf.predict(X__test))))\n",
    "print ('R2: ', metrics.r2_score(y_testDf, clf.predict(X__test)))"
   ]
  },
  {
   "cell_type": "code",
   "execution_count": 8,
   "metadata": {},
   "outputs": [
    {
     "data": {
      "text/plain": [
       "array([0.72146959, 0.6975723 , 0.7546028 , 0.71588976, 0.70141731,\n",
       "       0.76253329, 0.65348178, 0.71472856, 0.73529096, 0.68553995])"
      ]
     },
     "execution_count": 8,
     "metadata": {},
     "output_type": "execute_result"
    }
   ],
   "source": [
    "# Cross Validation CV=10\n",
    "from sklearn.model_selection import cross_val_score\n",
    "cross_val_score(clf, X__test, y_testDf, cv=10)"
   ]
  },
  {
   "cell_type": "code",
   "execution_count": 9,
   "metadata": {},
   "outputs": [
    {
     "name": "stdout",
     "output_type": "stream",
     "text": [
      "1176.1948282136955\n",
      "1219.5121951219512\n"
     ]
    }
   ],
   "source": [
    "# Ejemplo\n",
    "print(clf.predict(X__test)[100][0])\n",
    "print(y_testDf.iloc[100,0])"
   ]
  },
  {
   "cell_type": "code",
   "execution_count": 10,
   "metadata": {},
   "outputs": [
    {
     "data": {
      "text/plain": [
       "['model_1.joblib']"
      ]
     },
     "execution_count": 10,
     "metadata": {},
     "output_type": "execute_result"
    }
   ],
   "source": [
    "from joblib import dump\n",
    "dump(clf, 'model_1.joblib')"
   ]
  }
 ],
 "metadata": {
  "accelerator": "GPU",
  "colab": {
   "collapsed_sections": [],
   "name": "ProperatyExploracion.ipynb",
   "provenance": [],
   "version": "0.3.2"
  },
  "kernelspec": {
   "display_name": "Python 3",
   "language": "python",
   "name": "python3"
  },
  "language_info": {
   "codemirror_mode": {
    "name": "ipython",
    "version": 3
   },
   "file_extension": ".py",
   "mimetype": "text/x-python",
   "name": "python",
   "nbconvert_exporter": "python",
   "pygments_lexer": "ipython3",
   "version": "3.6.8"
  }
 },
 "nbformat": 4,
 "nbformat_minor": 1
}
