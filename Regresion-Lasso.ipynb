{
 "cells": [
  {
   "cell_type": "code",
   "execution_count": 1,
   "metadata": {
    "colab": {
     "base_uri": "https://localhost:8080/",
     "height": 501
    },
    "colab_type": "code",
    "executionInfo": {
     "elapsed": 1162,
     "status": "ok",
     "timestamp": 1555459153100,
     "user": {
      "displayName": "Matias Gonzalez Fernandez",
      "photoUrl": "",
      "userId": "02925906530158308490"
     },
     "user_tz": 180
    },
    "id": "paHr9FLWuqt7",
    "outputId": "d91d8d43-35e4-434d-ca93-32a9605eb455"
   },
   "outputs": [],
   "source": [
    "import pandas as pd\n",
    "import numpy as np\n",
    "import matplotlib as mpl\n",
    "#from scipy import stats\n",
    "#import matplotlib.pyplot as plt\n",
    "#import seaborn as sns\n",
    "%matplotlib inline\n",
    "from sklearn.feature_extraction.text import TfidfVectorizer\n",
    "from sklearn.feature_extraction import DictVectorizer\n",
    "from scipy.sparse import hstack\n",
    "from sklearn.linear_model import Ridge\n",
    "from sklearn.model_selection import train_test_split, KFold, cross_val_score\n",
    "from sklearn.linear_model import LinearRegression, Lasso, LassoCV, Ridge, RidgeCV\n",
    "#from sklearn.preprocessing import PolynomialFeatures, StandardScaler\n",
    "#from sklearn.metrics import mean_squared_error, r2_score\n",
    "from sklearn import preprocessing\n",
    "from sklearn.preprocessing import PolynomialFeatures"
   ]
  },
  {
   "cell_type": "code",
   "execution_count": 2,
   "metadata": {},
   "outputs": [],
   "source": [
    "# Importar pickle con el dataset preprocesado\n",
    "df = pd.read_pickle('DatasetFinalParaEntrenar.pkl')"
   ]
  },
  {
   "cell_type": "markdown",
   "metadata": {},
   "source": [
    "### Fit & Transform"
   ]
  },
  {
   "cell_type": "code",
   "execution_count": 3,
   "metadata": {},
   "outputs": [],
   "source": [
    "# Separar Variables por tipo\n",
    "categoricals = ['property_type','place_name','state_name','zona']\n",
    "descriptions = ['texto']\n",
    "numericals = ['surface_total_in_m2', 'surface_covered_in_m2', 'floor', 'rooms', 'expenses','lat','lon']\n",
    "dummies = ['subte','colectivo','balcon','tren','porton','financia', 'parrilla','pileta', 'solarium', 'lavadero', 'estacionamiento', 'no_apto_credito','apto_credito', 'amplioliving', 'cocheras', 'frente', 'contrafrente','seguridad', 'amenities', 'SUM', 'espaciosverdes','jacuzzi','estrenar','aptoprofesional','pozo','categoria','reciclado','luminoso','acondicionado','quincho','escalera']\n",
    "target = ['price_usd_per_m2']"
   ]
  },
  {
   "cell_type": "code",
   "execution_count": 4,
   "metadata": {},
   "outputs": [],
   "source": [
    "# Separar Train-Test\n",
    "\n",
    "Xdf = df[np.concatenate([\n",
    "        categoricals,\n",
    "        descriptions,\n",
    "        numericals,\n",
    "        dummies\n",
    "])]\n",
    "Ydf = df[target]\n",
    "\n",
    "X_trainDf, X_testDf, y_trainDf, y_testDf = train_test_split(Xdf, Ydf, test_size=0.30)"
   ]
  },
  {
   "cell_type": "code",
   "execution_count": 5,
   "metadata": {},
   "outputs": [
    {
     "name": "stderr",
     "output_type": "stream",
     "text": [
      "/opt/tljh/user/lib/python3.6/site-packages/sklearn/linear_model/coordinate_descent.py:1109: DataConversionWarning: A column-vector y was passed when a 1d array was expected. Please change the shape of y to (n_samples, ), for example using ravel().\n",
      "  y = column_or_1d(y, warn=True)\n",
      "/opt/tljh/user/lib/python3.6/site-packages/sklearn/linear_model/coordinate_descent.py:492: ConvergenceWarning: Objective did not converge. You might want to increase the number of iterations. Fitting data with very small alpha may cause precision problems.\n",
      "  ConvergenceWarning)\n",
      "/opt/tljh/user/lib/python3.6/site-packages/sklearn/linear_model/coordinate_descent.py:492: ConvergenceWarning: Objective did not converge. You might want to increase the number of iterations. Fitting data with very small alpha may cause precision problems.\n",
      "  ConvergenceWarning)\n"
     ]
    }
   ],
   "source": [
    "# FIT (función) - Vectorizar categóricas, Vectorizar texto en Description y Normalizar continuas\n",
    "vectorizer = TfidfVectorizer(min_df=5)\n",
    "enc = DictVectorizer()\n",
    "clf = Lasso(0.1, random_state=241,fit_intercept=True)\n",
    "#lf = LassoCV(alphas=np.linspace(0.01,3, 10), cv=10, fit_intercept=True,n_jobs=-1)\n",
    "normalizer = preprocessing.Normalizer()\n",
    "poly = PolynomialFeatures(degree = 1, include_bias = False)\n",
    "\n",
    "def fit_model(X_train, Y_train):\n",
    "    texts = X_train[descriptions]\n",
    "    texts = texts.applymap(lambda x: x.lower())\n",
    "    texts = texts.replace('[^a-zA-Z0-9]', ' ', regex = True)\n",
    "\n",
    "    X_tfidf = vectorizer.fit_transform(texts[descriptions[0]])\n",
    "    \n",
    "    X_train_categ = enc.fit_transform(X_train[categoricals].to_dict('records'))\n",
    "    \n",
    "    X_numericas = poly.fit_transform(normalizer.fit_transform(X_train[numericals]))\n",
    "    \n",
    "    X_dummies = X_train[dummies]\n",
    "\n",
    "    X = hstack([X_tfidf, X_train_categ, X_numericas, X_dummies]) # regualirzar las numericas luego de splitear\n",
    "    \n",
    "    # train model on data\n",
    "    clf.fit(X, Y_train)\n",
    "    return X, Y_train\n",
    "\n",
    "X__train, y__train = fit_model(X_trainDf, y_trainDf)"
   ]
  },
  {
   "cell_type": "code",
   "execution_count": 6,
   "metadata": {},
   "outputs": [
    {
     "data": {
      "text/plain": [
       "0.01"
      ]
     },
     "execution_count": 6,
     "metadata": {},
     "output_type": "execute_result"
    }
   ],
   "source": [
    "clf.alpha_"
   ]
  },
  {
   "cell_type": "code",
   "execution_count": 7,
   "metadata": {
    "scrolled": true
   },
   "outputs": [
    {
     "data": {
      "text/plain": [
       "<26910x21903 sparse matrix of type '<class 'numpy.float64'>'\n",
       "\twith 2151709 stored elements in COOrdinate format>"
      ]
     },
     "execution_count": 7,
     "metadata": {},
     "output_type": "execute_result"
    }
   ],
   "source": [
    "# TRANSFORM (función)\n",
    "def transform_model(X_train):\n",
    "    texts = X_train[descriptions]\n",
    "    texts = texts.applymap(lambda x: x.lower())\n",
    "    texts = texts.replace('[^a-zA-Z0-9]', ' ', regex = True)\n",
    "\n",
    "    X_tfidf = vectorizer.transform(texts[descriptions[0]])\n",
    "    \n",
    "    X_train_categ = enc.transform(X_train[categoricals].to_dict('records'))\n",
    "    \n",
    "    X_numericas = poly.transform(normalizer.transform(X_train[numericals]))\n",
    "    \n",
    "    X_dummies = X_train[dummies]\n",
    "\n",
    "    X = hstack([X_tfidf, X_train_categ, X_numericas, X_dummies])\n",
    "    \n",
    "    return X\n",
    "X__test = transform_model(X_testDf)\n",
    "X__test"
   ]
  },
  {
   "cell_type": "code",
   "execution_count": 8,
   "metadata": {},
   "outputs": [
    {
     "name": "stdout",
     "output_type": "stream",
     "text": [
      "Score de Entrenamiento:  0.7966510082676138\n",
      "Score de Test:  0.7347774279703913\n",
      "MAE:  317.56599023775436\n",
      "MSE:  223679.65825126864\n",
      "RMSE:  472.9478388271466\n",
      "R2:  0.7347774279703913\n"
     ]
    }
   ],
   "source": [
    "# Métricas\n",
    "from sklearn import metrics\n",
    "print ('Score de Entrenamiento: ',clf.score(X__train, y__train))\n",
    "print ('Score de Test: ',clf.score(X__test, y_testDf))\n",
    "print ('MAE: ', metrics.mean_absolute_error(y_testDf, clf.predict(X__test)))\n",
    "print ('MSE: ', metrics.mean_squared_error(y_testDf, clf.predict(X__test)))\n",
    "print ('RMSE: ', np.sqrt(metrics.mean_squared_error(y_testDf, clf.predict(X__test))))\n",
    "print ('R2: ', metrics.r2_score(y_testDf, clf.predict(X__test)))"
   ]
  },
  {
   "cell_type": "code",
   "execution_count": 9,
   "metadata": {},
   "outputs": [
    {
     "name": "stderr",
     "output_type": "stream",
     "text": [
      "/opt/tljh/user/lib/python3.6/site-packages/sklearn/linear_model/coordinate_descent.py:1109: DataConversionWarning: A column-vector y was passed when a 1d array was expected. Please change the shape of y to (n_samples, ), for example using ravel().\n",
      "  y = column_or_1d(y, warn=True)\n",
      "/opt/tljh/user/lib/python3.6/site-packages/sklearn/linear_model/coordinate_descent.py:492: ConvergenceWarning: Objective did not converge. You might want to increase the number of iterations. Fitting data with very small alpha may cause precision problems.\n",
      "  ConvergenceWarning)\n",
      "/opt/tljh/user/lib/python3.6/site-packages/sklearn/linear_model/coordinate_descent.py:1109: DataConversionWarning: A column-vector y was passed when a 1d array was expected. Please change the shape of y to (n_samples, ), for example using ravel().\n",
      "  y = column_or_1d(y, warn=True)\n",
      "/opt/tljh/user/lib/python3.6/site-packages/sklearn/linear_model/coordinate_descent.py:492: ConvergenceWarning: Objective did not converge. You might want to increase the number of iterations. Fitting data with very small alpha may cause precision problems.\n",
      "  ConvergenceWarning)\n",
      "/opt/tljh/user/lib/python3.6/site-packages/sklearn/linear_model/coordinate_descent.py:1109: DataConversionWarning: A column-vector y was passed when a 1d array was expected. Please change the shape of y to (n_samples, ), for example using ravel().\n",
      "  y = column_or_1d(y, warn=True)\n",
      "/opt/tljh/user/lib/python3.6/site-packages/sklearn/linear_model/coordinate_descent.py:492: ConvergenceWarning: Objective did not converge. You might want to increase the number of iterations. Fitting data with very small alpha may cause precision problems.\n",
      "  ConvergenceWarning)\n",
      "/opt/tljh/user/lib/python3.6/site-packages/sklearn/linear_model/coordinate_descent.py:1109: DataConversionWarning: A column-vector y was passed when a 1d array was expected. Please change the shape of y to (n_samples, ), for example using ravel().\n",
      "  y = column_or_1d(y, warn=True)\n",
      "/opt/tljh/user/lib/python3.6/site-packages/sklearn/linear_model/coordinate_descent.py:492: ConvergenceWarning: Objective did not converge. You might want to increase the number of iterations. Fitting data with very small alpha may cause precision problems.\n",
      "  ConvergenceWarning)\n",
      "/opt/tljh/user/lib/python3.6/site-packages/sklearn/linear_model/coordinate_descent.py:1109: DataConversionWarning: A column-vector y was passed when a 1d array was expected. Please change the shape of y to (n_samples, ), for example using ravel().\n",
      "  y = column_or_1d(y, warn=True)\n",
      "/opt/tljh/user/lib/python3.6/site-packages/sklearn/linear_model/coordinate_descent.py:492: ConvergenceWarning: Objective did not converge. You might want to increase the number of iterations. Fitting data with very small alpha may cause precision problems.\n",
      "  ConvergenceWarning)\n",
      "/opt/tljh/user/lib/python3.6/site-packages/sklearn/linear_model/coordinate_descent.py:1109: DataConversionWarning: A column-vector y was passed when a 1d array was expected. Please change the shape of y to (n_samples, ), for example using ravel().\n",
      "  y = column_or_1d(y, warn=True)\n",
      "/opt/tljh/user/lib/python3.6/site-packages/sklearn/linear_model/coordinate_descent.py:492: ConvergenceWarning: Objective did not converge. You might want to increase the number of iterations. Fitting data with very small alpha may cause precision problems.\n",
      "  ConvergenceWarning)\n",
      "/opt/tljh/user/lib/python3.6/site-packages/sklearn/linear_model/coordinate_descent.py:1109: DataConversionWarning: A column-vector y was passed when a 1d array was expected. Please change the shape of y to (n_samples, ), for example using ravel().\n",
      "  y = column_or_1d(y, warn=True)\n",
      "/opt/tljh/user/lib/python3.6/site-packages/sklearn/linear_model/coordinate_descent.py:492: ConvergenceWarning: Objective did not converge. You might want to increase the number of iterations. Fitting data with very small alpha may cause precision problems.\n",
      "  ConvergenceWarning)\n",
      "/opt/tljh/user/lib/python3.6/site-packages/sklearn/linear_model/coordinate_descent.py:1109: DataConversionWarning: A column-vector y was passed when a 1d array was expected. Please change the shape of y to (n_samples, ), for example using ravel().\n",
      "  y = column_or_1d(y, warn=True)\n",
      "/opt/tljh/user/lib/python3.6/site-packages/sklearn/linear_model/coordinate_descent.py:492: ConvergenceWarning: Objective did not converge. You might want to increase the number of iterations. Fitting data with very small alpha may cause precision problems.\n",
      "  ConvergenceWarning)\n",
      "/opt/tljh/user/lib/python3.6/site-packages/sklearn/linear_model/coordinate_descent.py:1109: DataConversionWarning: A column-vector y was passed when a 1d array was expected. Please change the shape of y to (n_samples, ), for example using ravel().\n",
      "  y = column_or_1d(y, warn=True)\n",
      "/opt/tljh/user/lib/python3.6/site-packages/sklearn/linear_model/coordinate_descent.py:492: ConvergenceWarning: Objective did not converge. You might want to increase the number of iterations. Fitting data with very small alpha may cause precision problems.\n",
      "  ConvergenceWarning)\n",
      "/opt/tljh/user/lib/python3.6/site-packages/sklearn/linear_model/coordinate_descent.py:1109: DataConversionWarning: A column-vector y was passed when a 1d array was expected. Please change the shape of y to (n_samples, ), for example using ravel().\n",
      "  y = column_or_1d(y, warn=True)\n",
      "/opt/tljh/user/lib/python3.6/site-packages/sklearn/linear_model/coordinate_descent.py:492: ConvergenceWarning: Objective did not converge. You might want to increase the number of iterations. Fitting data with very small alpha may cause precision problems.\n",
      "  ConvergenceWarning)\n"
     ]
    },
    {
     "data": {
      "text/plain": [
       "array([0.70773861, 0.70327   , 0.71180002, 0.68116877, 0.63150358,\n",
       "       0.70530484, 0.67466508, 0.67986619, 0.711272  , 0.71044896])"
      ]
     },
     "execution_count": 9,
     "metadata": {},
     "output_type": "execute_result"
    }
   ],
   "source": [
    "# Cross Validation CV=10\n",
    "from sklearn.model_selection import cross_val_score\n",
    "cross_val_score(clf, X__test, y_testDf, cv=10)"
   ]
  },
  {
   "cell_type": "code",
   "execution_count": 19,
   "metadata": {},
   "outputs": [
    {
     "name": "stdout",
     "output_type": "stream",
     "text": [
      "2165.8836119334965\n",
      "2714.285714285714\n"
     ]
    }
   ],
   "source": [
    "# Ejemplo\n",
    "print(clf.predict(X__test)[100])\n",
    "print(y_testDf.iloc[100,0])"
   ]
  },
  {
   "cell_type": "markdown",
   "metadata": {},
   "source": [
    "### Crear dataset incluyendo predicciones y Ejericio Portafolio"
   ]
  },
  {
   "cell_type": "code",
   "execution_count": null,
   "metadata": {},
   "outputs": [
    {
     "name": "stderr",
     "output_type": "stream",
     "text": [
      "/opt/tljh/user/lib/python3.6/site-packages/sklearn/linear_model/coordinate_descent.py:1109: DataConversionWarning: A column-vector y was passed when a 1d array was expected. Please change the shape of y to (n_samples, ), for example using ravel().\n",
      "  y = column_or_1d(y, warn=True)\n",
      "/opt/tljh/user/lib/python3.6/site-packages/sklearn/linear_model/coordinate_descent.py:492: ConvergenceWarning: Objective did not converge. You might want to increase the number of iterations. Fitting data with very small alpha may cause precision problems.\n",
      "  ConvergenceWarning)\n"
     ]
    }
   ],
   "source": [
    "# Reunir sets de entrenamiento y test\n",
    "X_all, Y_all = fit_model(Xdf, Ydf)\n",
    "# Calcular predicciones\n",
    "valores = clf.predict(X_all)"
   ]
  },
  {
   "cell_type": "code",
   "execution_count": null,
   "metadata": {},
   "outputs": [],
   "source": [
    "# Volver a fittear el modelo ahora con todos los datos.\n",
    "valores = clf.predict(X_all)"
   ]
  },
  {
   "cell_type": "code",
   "execution_count": null,
   "metadata": {},
   "outputs": [],
   "source": [
    "diferencia = Ydf - valores\n",
    "diferencia.columns = ['diferencia_m2']\n",
    "diferencia\n",
    "\n",
    "diferencia.loc[:,'prediccion_m2'] = valores\n",
    "diferencia.loc[:,'porcentaje_m2'] = Ydf / valores\n",
    "\n",
    "dfR = df.join(diferencia)\n",
    "\n",
    "dfR.loc[:,'prediccion_valor'] = dfR.prediccion_m2 * dfR.surface_total_in_m2\n",
    "\n",
    "dfR = dfR[dfR.prediccion_m2 > 0]\n",
    "\n",
    "\n",
    "portafolio = dfR.sample(n=100,random_state=100)\n",
    "\n",
    "capital = portafolio.price_aprox_usd.sum()\n",
    "print(capital)\n",
    "\n",
    "dfR.sort_values(by='porcentaje_m2', ascending=True, inplace=True)\n",
    "casas_compradas = pd.DataFrame([], columns=dfR.columns)\n",
    "i = 0\n",
    "ahorro = 0\n",
    "while capital > 0:\n",
    "    casa = dfR.iloc[i,:]\n",
    "    valorCasa = casa.price_aprox_usd\n",
    "    ahorro += casa.prediccion_valor - casa.price_aprox_usd\n",
    "    casas_compradas = casas_compradas.append(casa)\n",
    "    capital -= valorCasa\n",
    "    i += 1\n",
    "    \n",
    "display(casas_compradas)\n",
    "\n",
    "# Exportar casos a comprar a CSV\n",
    "casas_compradas.to_csv('casas_compradas_lasso.csv')\n",
    "\n",
    "print('Ahorro total: ', np.round(ahorro, 2))"
   ]
  },
  {
   "cell_type": "code",
   "execution_count": null,
   "metadata": {},
   "outputs": [],
   "source": [
    "import seaborn as sns; sns.set()\n",
    "import matplotlib.pyplot as plt\n",
    "sns.set_context(\"notebook\", font_scale=1.2, rc={\"lines.linewidth\": 2.5})\n",
    "\n",
    "plt.subplots(figsize=(16,10))\n",
    "\n",
    "sns.scatterplot(\n",
    "    x=\"prediccion_m2\", y=\"price_usd_per_m2\", data=dfR, linewidth=0, alpha=0.3\n",
    ")\n",
    "sns.scatterplot(\n",
    "    x=\"prediccion_m2\", y=\"prediccion_m2\", data=dfR, linewidth=0\n",
    ")\n",
    "sns.scatterplot(\n",
    "    x=\"prediccion_m2\", y=\"price_usd_per_m2\", data=casas_compradas, linewidth=0, alpha=0.5\n",
    ")\n",
    "\n",
    "plt.show()\n",
    "\n",
    "plt.subplots(figsize=(16,10))\n",
    "sns.scatterplot(\n",
    "        x=\"surface_total_in_m2\", y=\"price_usd_per_m2\",\n",
    "        data=dfR,\n",
    "        s=10, linewidth=0, alpha=1\n",
    ")\n",
    "sns.scatterplot(\n",
    "        x=\"surface_total_in_m2\", y=\"prediccion_m2\",\n",
    "        data=dfR,\n",
    "        s=10, linewidth=0, alpha=0.05,\n",
    ")\n",
    "sns.scatterplot(\n",
    "    x=\"surface_total_in_m2\", y=\"price_usd_per_m2\", data=casas_compradas, linewidth=0, alpha=0.5, s=30\n",
    ")\n",
    "plt.show()"
   ]
  }
 ],
 "metadata": {
  "accelerator": "GPU",
  "colab": {
   "collapsed_sections": [],
   "name": "ProperatyExploracion.ipynb",
   "provenance": [],
   "version": "0.3.2"
  },
  "kernelspec": {
   "display_name": "Python 3",
   "language": "python",
   "name": "python3"
  },
  "language_info": {
   "codemirror_mode": {
    "name": "ipython",
    "version": 3
   },
   "file_extension": ".py",
   "mimetype": "text/x-python",
   "name": "python",
   "nbconvert_exporter": "python",
   "pygments_lexer": "ipython3",
   "version": "3.6.8"
  }
 },
 "nbformat": 4,
 "nbformat_minor": 1
}
