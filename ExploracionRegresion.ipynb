{
 "cells": [
  {
   "cell_type": "code",
   "execution_count": 1,
   "metadata": {
    "colab": {
     "base_uri": "https://localhost:8080/",
     "height": 501
    },
    "colab_type": "code",
    "executionInfo": {
     "elapsed": 1162,
     "status": "ok",
     "timestamp": 1555459153100,
     "user": {
      "displayName": "Matias Gonzalez Fernandez",
      "photoUrl": "",
      "userId": "02925906530158308490"
     },
     "user_tz": 180
    },
    "id": "paHr9FLWuqt7",
    "outputId": "d91d8d43-35e4-434d-ca93-32a9605eb455"
   },
   "outputs": [
    {
     "data": {
      "text/html": [
       "<div>\n",
       "<style scoped>\n",
       "    .dataframe tbody tr th:only-of-type {\n",
       "        vertical-align: middle;\n",
       "    }\n",
       "\n",
       "    .dataframe tbody tr th {\n",
       "        vertical-align: top;\n",
       "    }\n",
       "\n",
       "    .dataframe thead th {\n",
       "        text-align: right;\n",
       "    }\n",
       "</style>\n",
       "<table border=\"1\" class=\"dataframe\">\n",
       "  <thead>\n",
       "    <tr style=\"text-align: right;\">\n",
       "      <th></th>\n",
       "      <th>property_type</th>\n",
       "      <th>place_name</th>\n",
       "      <th>state_name</th>\n",
       "      <th>geonames_id</th>\n",
       "      <th>lat</th>\n",
       "      <th>lon</th>\n",
       "      <th>price_aprox_usd</th>\n",
       "      <th>surface_total_in_m2</th>\n",
       "      <th>surface_covered_in_m2</th>\n",
       "      <th>price_usd_per_m2</th>\n",
       "      <th>floor</th>\n",
       "      <th>rooms</th>\n",
       "      <th>expenses</th>\n",
       "      <th>properati_url</th>\n",
       "      <th>description</th>\n",
       "      <th>title</th>\n",
       "      <th>zona</th>\n",
       "    </tr>\n",
       "  </thead>\n",
       "  <tbody>\n",
       "    <tr>\n",
       "      <th>0</th>\n",
       "      <td>PH</td>\n",
       "      <td>Mataderos</td>\n",
       "      <td>Capital Federal</td>\n",
       "      <td>3430787.0</td>\n",
       "      <td>-34.661824</td>\n",
       "      <td>-58.508839</td>\n",
       "      <td>62000.00000</td>\n",
       "      <td>55.0</td>\n",
       "      <td>40.0</td>\n",
       "      <td>1127.272727</td>\n",
       "      <td>NaN</td>\n",
       "      <td>NaN</td>\n",
       "      <td>NaN</td>\n",
       "      <td>http://www.properati.com.ar/15bo8_venta_ph_mat...</td>\n",
       "      <td>2 AMBIENTES TIPO CASA PLANTA BAJA POR PASILLO,...</td>\n",
       "      <td>2 AMB TIPO CASA SIN EXPENSAS EN PB</td>\n",
       "      <td>Capital &amp; GBA</td>\n",
       "    </tr>\n",
       "    <tr>\n",
       "      <th>2</th>\n",
       "      <td>apartment</td>\n",
       "      <td>Mataderos</td>\n",
       "      <td>Capital Federal</td>\n",
       "      <td>3430787.0</td>\n",
       "      <td>-34.652262</td>\n",
       "      <td>-58.522982</td>\n",
       "      <td>72000.00000</td>\n",
       "      <td>55.0</td>\n",
       "      <td>55.0</td>\n",
       "      <td>1309.090909</td>\n",
       "      <td>NaN</td>\n",
       "      <td>NaN</td>\n",
       "      <td>NaN</td>\n",
       "      <td>http://www.properati.com.ar/15bod_venta_depart...</td>\n",
       "      <td>2 AMBIENTES 3ER PISO LATERAL LIVING COMEDOR AM...</td>\n",
       "      <td>2 AMB 3ER PISO CON ASCENSOR APTO CREDITO</td>\n",
       "      <td>Capital &amp; GBA</td>\n",
       "    </tr>\n",
       "    <tr>\n",
       "      <th>4</th>\n",
       "      <td>apartment</td>\n",
       "      <td>Centro</td>\n",
       "      <td>Buenos Aires Costa Atlántica</td>\n",
       "      <td>3435548.0</td>\n",
       "      <td>-38.002626</td>\n",
       "      <td>-57.549447</td>\n",
       "      <td>64000.00000</td>\n",
       "      <td>35.0</td>\n",
       "      <td>35.0</td>\n",
       "      <td>1828.571429</td>\n",
       "      <td>NaN</td>\n",
       "      <td>NaN</td>\n",
       "      <td>NaN</td>\n",
       "      <td>http://www.properati.com.ar/15bok_venta_depart...</td>\n",
       "      <td>DEPARTAMENTO CON FANTÁSTICA ILUMINACIÓN NATURA...</td>\n",
       "      <td>DEPTO 2 AMB AL CONTRAFRENTE ZONA CENTRO/PLAZA ...</td>\n",
       "      <td>Interior</td>\n",
       "    </tr>\n",
       "    <tr>\n",
       "      <th>5</th>\n",
       "      <td>house</td>\n",
       "      <td>Gualeguaychú</td>\n",
       "      <td>Entre Ríos</td>\n",
       "      <td>3433657.0</td>\n",
       "      <td>-33.014071</td>\n",
       "      <td>-58.519828</td>\n",
       "      <td>29724.34828</td>\n",
       "      <td>53.0</td>\n",
       "      <td>NaN</td>\n",
       "      <td>560.836760</td>\n",
       "      <td>NaN</td>\n",
       "      <td>NaN</td>\n",
       "      <td>NaN</td>\n",
       "      <td>http://www.properati.com.ar/15bop_venta_depart...</td>\n",
       "      <td>Casa en el perímetro del barrio 338, ubicada e...</td>\n",
       "      <td>Casa Barrio 338. Sobre calle 3 de caballería, ...</td>\n",
       "      <td>Interior</td>\n",
       "    </tr>\n",
       "    <tr>\n",
       "      <th>6</th>\n",
       "      <td>PH</td>\n",
       "      <td>Munro</td>\n",
       "      <td>Bs.As. G.B.A. Zona Norte</td>\n",
       "      <td>3430511.0</td>\n",
       "      <td>-34.532957</td>\n",
       "      <td>-58.521782</td>\n",
       "      <td>130000.00000</td>\n",
       "      <td>106.0</td>\n",
       "      <td>78.0</td>\n",
       "      <td>1226.415094</td>\n",
       "      <td>NaN</td>\n",
       "      <td>NaN</td>\n",
       "      <td>NaN</td>\n",
       "      <td>http://www.properati.com.ar/15bor_venta_ph_mun...</td>\n",
       "      <td>MUY BUEN PH AL FRENTE CON ENTRADA INDEPENDIENT...</td>\n",
       "      <td>MUY BUEN PH AL FRENTE DOS DORMITORIOS , PATIO,...</td>\n",
       "      <td>Capital &amp; GBA</td>\n",
       "    </tr>\n",
       "  </tbody>\n",
       "</table>\n",
       "</div>"
      ],
      "text/plain": [
       "  property_type    place_name                    state_name  geonames_id  \\\n",
       "0            PH     Mataderos               Capital Federal    3430787.0   \n",
       "2     apartment     Mataderos               Capital Federal    3430787.0   \n",
       "4     apartment        Centro  Buenos Aires Costa Atlántica    3435548.0   \n",
       "5         house  Gualeguaychú                    Entre Ríos    3433657.0   \n",
       "6            PH         Munro      Bs.As. G.B.A. Zona Norte    3430511.0   \n",
       "\n",
       "         lat        lon  price_aprox_usd  surface_total_in_m2  \\\n",
       "0 -34.661824 -58.508839      62000.00000                 55.0   \n",
       "2 -34.652262 -58.522982      72000.00000                 55.0   \n",
       "4 -38.002626 -57.549447      64000.00000                 35.0   \n",
       "5 -33.014071 -58.519828      29724.34828                 53.0   \n",
       "6 -34.532957 -58.521782     130000.00000                106.0   \n",
       "\n",
       "   surface_covered_in_m2  price_usd_per_m2  floor  rooms  expenses  \\\n",
       "0                   40.0       1127.272727    NaN    NaN       NaN   \n",
       "2                   55.0       1309.090909    NaN    NaN       NaN   \n",
       "4                   35.0       1828.571429    NaN    NaN       NaN   \n",
       "5                    NaN        560.836760    NaN    NaN       NaN   \n",
       "6                   78.0       1226.415094    NaN    NaN       NaN   \n",
       "\n",
       "                                       properati_url  \\\n",
       "0  http://www.properati.com.ar/15bo8_venta_ph_mat...   \n",
       "2  http://www.properati.com.ar/15bod_venta_depart...   \n",
       "4  http://www.properati.com.ar/15bok_venta_depart...   \n",
       "5  http://www.properati.com.ar/15bop_venta_depart...   \n",
       "6  http://www.properati.com.ar/15bor_venta_ph_mun...   \n",
       "\n",
       "                                         description  \\\n",
       "0  2 AMBIENTES TIPO CASA PLANTA BAJA POR PASILLO,...   \n",
       "2  2 AMBIENTES 3ER PISO LATERAL LIVING COMEDOR AM...   \n",
       "4  DEPARTAMENTO CON FANTÁSTICA ILUMINACIÓN NATURA...   \n",
       "5  Casa en el perímetro del barrio 338, ubicada e...   \n",
       "6  MUY BUEN PH AL FRENTE CON ENTRADA INDEPENDIENT...   \n",
       "\n",
       "                                               title           zona  \n",
       "0                 2 AMB TIPO CASA SIN EXPENSAS EN PB  Capital & GBA  \n",
       "2           2 AMB 3ER PISO CON ASCENSOR APTO CREDITO  Capital & GBA  \n",
       "4  DEPTO 2 AMB AL CONTRAFRENTE ZONA CENTRO/PLAZA ...       Interior  \n",
       "5  Casa Barrio 338. Sobre calle 3 de caballería, ...       Interior  \n",
       "6  MUY BUEN PH AL FRENTE DOS DORMITORIOS , PATIO,...  Capital & GBA  "
      ]
     },
     "execution_count": 1,
     "metadata": {},
     "output_type": "execute_result"
    }
   ],
   "source": [
    "import pandas as pd\n",
    "import numpy as np\n",
    "import matplotlib as mpl\n",
    "from scipy import stats\n",
    "import matplotlib.pyplot as plt\n",
    "import seaborn as sns\n",
    "%matplotlib inline\n",
    "\n",
    "# from google.colab import drive\n",
    "# drive.mount('/content/drive')\n",
    "# df = pd.read_pickle('drive/My Drive/Trabajos/Cursos/Data Science/Experimentos/dataset.pkl')\n",
    "\n",
    "df = pd.read_pickle('dataset.pkl')\n",
    "df.head(5)"
   ]
  },
  {
   "cell_type": "code",
   "execution_count": 17,
   "metadata": {},
   "outputs": [
    {
     "name": "stdout",
     "output_type": "stream",
     "text": [
      "Casa de 3 ambientes en impecable estado, living comedor  super modernos con pisos de ceramicos y pared revestida en piedra, cocina a nueva  toda equipada con muebles bajo y sobre mesada,  con artefactos,baño completo. 2 dormitorios con placard hechos a medida nuevos, pisos de parquet, Patio y entrada para auto cubierta , portón automático. lavadero con lugar para guardado. Toda la casa reciclada a nuevo, instalaciones a nuevo.Calefaccion por split F/C y estufas a gas. Muy bien ubicada en la mejor zona de banfield.Libre de gastos. Los metros cuadrados reales surgirán del plano original. Las medidas son orientativas . En comun con inmob Cassia Alfano propiedades***hasta cumplimentar resolución afip***\n",
      "\n",
      " ESPECIFICACIONES DE LOS DEPARTAMENTOSEstructura Tabiques Interiores de las unidadesMampostería de ladrillos con terminaciones en yeso de primera calidad para recibir pintura.CielorrasosAplicados de yeso o suspendidos con metal desplegado en sistema tradicional de yeso o en sistemade placa de yeso.SoladosPiso flotante de primera calidad en estar-comedor y dormitorios.En cocinas piso de cerámica de primera calidad.En baños piso de cerámica de primera calidad.En balcones piso de cerámica de primera calidad.Revestimientos y mesadasLos baños llevarán mesadas en mármol pulido.Las cocinas llevarán mesada de granito gris mara pulido o similar.Carpintería MetálicaCarpintería de aluminio en todas las aberturas que den al exterior.Los marcos de puertas interiores serán de chapa BWG Nº 18.Carpintería de MaderaLas puertas serán placas de 45 mm de espesor.Los muebles bajo mesada y alacena de cocina serán enchapados en melamina con herrajes.Los frentes de placard serán enchapados o pintados de blanco de piso a techo. Los placards contaráncon interiores.TelevisiónLa instalación de TV incluye canalizaciones para videocable en todos los ambientes principales.Calefacción central por piso o losa radiante.Acondicionamiento de AireSe provee canalización y tomas para la instalación de sistema splits. (cañería vacía)Agua calienteAgua caliente central por termotanques.Instalación SanitariaLa instalación para agua fría y caliente, las montantes y cañerías de distribución de agua y desagües seejecutarán con materiales de primera calidad y será de sistema central.La grifería de todos los locales húmedos serán monocomando de Griferia Latina, línea Buzio.AVISO LEGAL: Las descripciones arquitectónicas y funcionales, valores de expensas, impuestos y servicios, fotos y medidas de este inmueble son aproximados. Los datos fueron proporcionados por el propietario y pueden no estar actualizados a la hora de la visualización de este aviso por lo cual pueden arrojar inexactitudes y discordancias con las que surgen de los las facturas, títulos y planos legales del inmueble. Los precios indicados podrán modificarse sin previo aviso. La fechas de inicio de obra o posesión son estimadas, podrán ser reprogramadas por la Dirección de obra y dependerán a su vez de un proceso de aprobaciones municipales u otros organismos intervinientes. El interesado deberá realizar las verificaciones respectivas previamente a la realización de cualquier operación, requiriendo por sí o sus profesionales las copias necesarias de la documentación que corresponda. Venta supeditada al cumplimiento por parte del propietario de los requisitos de la resolución general Nº 2371 de la AFIP (pedido de COTI).\n",
      "\n",
      "Edificio en Construcción Fecha de Finalización de la obra: Abril 2018.> Monoambientes> ContrafrenteEl edificio cuenta con:- Sum- Parrilla- Solarium- Piscina- Cocheras Opcionales.Caracterìsticas de la unidad:> Piso flotante> Agua caliente por sistema central> Muy Luminoso.> Balcones con piso de cerámica de 1° calidad antideslizante barandas de aluminio y divisores traslucidos* Cercanía con Avenidas Juramento Olazábal y Álvarez Thomas.Cerca de la Estación Drago del Tren Mitre y Subte linea B.\n",
      "\n",
      "DEPARTAMENTO EN VENTA EN CABALLITO / PARQUE CHACABUCODEPTO. 2 AMBIENTES EN PLANTA BAJA AL FRENTE CON PATIO CUBIERTO SIN EXPENSASFRENTE A LA FACULTAD DE FILOSOFIA Y LETRAS  A 3 CUADRAS DEL PARQUE CHACABUCO Y AV. EVA PERON Y A 5 CUADRAS DE ESTACION #E. MITRE# SUBTE LINEA #E#  MUY PROXIMO A AV. DIRECTORIO, AV. J. B. ALBERDI y AV. PEDRO GOYENAEDIFICIO ANTIGUO DE EPOCA DE P. BAJA Y 2 PISOS  ESTA UNIDAD ES EN PLANTA BAJA A LA CALLE  EN TOTAL SON SOLO SIETE (7) UNIDADES  NO HAY EXPENSAS CALEFACCION CON RADIADORES EN TODOS LOS AMBIENTES ALIMENTADA POR CALDERA INDIVIDUAL DEL DEPTO.* COCINA: piso y revestim. cerámico, mesada de mármol (con bajo mesada en cocina y una alacena de 3 puertas en el patio) , calefón Universal en el patio (para llegar a la cocina desde el comedor hay que pasar por éste)* BAÑO: piso y revestim. cerámico, bañera, vanitori, sanitarios color azul (no hay espejo ni botiquin)* COMEDOR: piso cerámico negro brilloso y korlok en la parte baja de las paredes (el resto pintado), calefaccionado por radiador * DORMITORIO: piso parqué con enorme placard a medida que cubre toda la pared, calefaccionado por radiador (da a la calle). Hay otro placard empotrado en el pasillo de distribución -  - ALEJANDRO BRAñA BIENES RAICES\n",
      "\n",
      "Departamento 167m² con Agua Corriente, Santa Fe, Rosario, por $ 3.806.000\n",
      "\n",
      "Venta de Casa , Posadas, MisionesHermosa casa de 2 dormitorios, cocina comedor y 1 baño.Una de las habitaciones cuenta con un vestidor. Además consta de cocina-comedor. El patio es amplio, parquizado con piscina, parrilla y cochera para 2 autos.Ubicada en esquina, en la chacra 247, a 1 cuadra de la Av. Andresito y a 4 cuadras de la Av. Jauretche. Hermoso entorno. Muy segura con muros perimetrales y portón., -  - FIDANZA INMUEBLES\n",
      "\n",
      "Departamento en venta al frente, en planta alta por escalera de 70m² cubiertos, comedor, living con salida al balcón, dos dormitorios amplios, baño completo con bañera, cocina separa equipada, lavadero independiente. Terraza privada de 70m² con acceso por departamento, con parrilla y un dormitorio de servicio. Sin expensas.\n",
      "\n",
      "Presentamos Star Álvarez Thomas,una torre residencial diseñada con grandesespacios interiores, para que la amplitud y comodidad hagan que en tu vida.Una ubicación estratégica, en uno de los barrios de mayor expansión en el último tiempo.Se encuentra ubicado en Av. ÁlvarezThomas entre Monroe y Roosevelt,120 departamentos de 1, 2, 3 y 4 ambientes.Fácil acceso desde y hacia Capital.• A metros de la estación Juan Manuel de Rosas del Subte B.• Cerca de la estación de tren General Urquiza.• Centro comercial de Villa Urquiza.• Colegios, clubes, restaurants, salones de fiestas.• Plaza Marcos Sastre.AMENITIES• Acceso sobre Alvarez Thomas• Entrada con jardín vertical• Hall vidriado• Espacios parquizados• Sector de parrilla• Seguridad• Control de acceso vehicular• SUM con Parrilla (155m2)• Laundry• Portería• Bauleras• 78 cocheras.Fecha de lanzamiento: Marzo 2017• Inicio de obras: Julio 2017• Entrega estimada:Septiembre 2019La unidad publicada es el 1º E.CUCICBA Mat. 1544\n",
      "\n",
      "Espectacular depto de 2 ambientes con Terraza y Balcon Terraza! Cochera, !!! con excelentes terminaciones, todo luz, en inmejorable ubicación. posibilidad de cubrir 15 mts mas en doble altura. Imperdible!!!.\n",
      "\n",
      "CODIGO: 3407-ara-2720 ubicado en: Chacras de Canning, -  Publicado por: O.A. ARACAMA PROPIEDADES. El precio es de USD 260000 null. Muy linda y comoda casa de 160m2 sobre terreno de 2750m2. La casa cuenta con amplio living comedor apaisado con hogar, cocina integrada, 3 dormitorios (uno de ellos en-suite con vestidor) y un baño completo. Amplia galeria y piscina.     Aberturas en doble cristal y pisos revestidos en madera tarugada.     Ofrece financiacion  . Publicado a través de Mapaprop\n",
      "\n"
     ]
    }
   ],
   "source": [
    "for x in range(10):\n",
    "    print(df.sample(frac=0.1, replace=True).iloc[x].description + '\\n')"
   ]
  },
  {
   "cell_type": "code",
   "execution_count": 108,
   "metadata": {
    "colab": {
     "base_uri": "https://localhost:8080/",
     "height": 84
    },
    "colab_type": "code",
    "executionInfo": {
     "elapsed": 5391,
     "status": "ok",
     "timestamp": 1555459188635,
     "user": {
      "displayName": "Matias Gonzalez Fernandez",
      "photoUrl": "",
      "userId": "02925906530158308490"
     },
     "user_tz": 180
    },
    "id": "ikpxjyO_z01Z",
    "outputId": "b95c801c-52c7-4c5a-b735-8e00254e88bb"
   },
   "outputs": [
    {
     "name": "stdout",
     "output_type": "stream",
     "text": [
      "financiacion 1125\n"
     ]
    }
   ],
   "source": [
    "import re\n",
    "def searchReg(exp):\n",
    "  return (df['title'].str.contains(exp, case=False, regex=True) | df['description'].str.contains(exp, case=False, regex=True))\n",
    "\n",
    "\n",
    "def extractCat( exp, catName = False):\n",
    "  if(catName == False):\n",
    "    catName = 'has_'+exp\n",
    "  found = searchReg(exp).astype(int)\n",
    "  return found\n",
    "\n",
    "\n",
    "def addDmmy(termns):\n",
    "    for i in termns:\n",
    "        print (i[0], extractCat(i[0]).sum())\n",
    "\n",
    "        \n",
    "addDmmy([['financiacion']])"
   ]
  },
  {
   "cell_type": "code",
   "execution_count": 109,
   "metadata": {},
   "outputs": [
    {
     "name": "stdout",
     "output_type": "stream",
     "text": [
      "subte 5991\n",
      "balcon 12709\n",
      "tren 12165\n",
      "port[oó]n 3578\n",
      "(?:financiaci[oó]n)|(?:financiamiento) 4428\n",
      "parr?ill?a 27079\n",
      "(?:pileta)|(?:piscina) 24622\n",
      "solarium 6936\n",
      "lavadero 29955\n",
      "estacionamiento 1533\n",
      "NO (?:ES )?APTO CR[EÉ]DITO 1703\n",
      "estacionamiento 1533\n",
      "amplio living 6199\n",
      "cocheras? 32003\n",
      " frente[ .,] 23458\n",
      "contrafrente 7081\n",
      "(?:seguridad)|(?:control) 8880\n",
      "(?:sin)|(?:no hay) expensas 9306\n"
     ]
    }
   ],
   "source": [
    "addDmmy([\n",
    "    ['subte'],\n",
    "    ['balcon'],\n",
    "    ['tren'],\n",
    "    ['port[oó]n'],\n",
    "    ['(?:financiaci[oó]n)|(?:financiamiento)'],\n",
    "    ['parr?ill?a', 'has_parrilla'],\n",
    "    ['(?:pileta)|(?:piscina)', 'has_pileta'],\n",
    "    ['solarium'],\n",
    "    ['lavadero'],\n",
    "    ['estacionamiento'],\n",
    "    ['NO (?:ES )?APTO CR[EÉ]DITO', 'no_apto_credito'],\n",
    "    ['estacionamiento'],\n",
    "    ['amplio living'],\n",
    "    ['cocheras?', 'has_cocheras'],\n",
    "    [' frente[ .,]', 'is_frente'],\n",
    "    ['contrafrente', 'is_contrafrente'],\n",
    "    ['(?:seguridad)|(?:control)', 'has_seguridad'],\n",
    "    ['(?:sin)|(?:no hay) expensas', 'no_expensas']\n",
    "])"
   ]
  },
  {
   "cell_type": "code",
   "execution_count": 40,
   "metadata": {
    "colab": {
     "base_uri": "https://localhost:8080/",
     "height": 346
    },
    "colab_type": "code",
    "executionInfo": {
     "elapsed": 4343,
     "status": "ok",
     "timestamp": 1555459188636,
     "user": {
      "displayName": "Matias Gonzalez Fernandez",
      "photoUrl": "",
      "userId": "02925906530158308490"
     },
     "user_tz": 180
    },
    "id": "gdPTpQegu9Mx",
    "outputId": "10838dc5-7bf8-43d1-e700-a6f53bb7e006"
   },
   "outputs": [
    {
     "data": {
      "image/png": "[encoded data removed]",
      "text/plain": [
       "<Figure size 432x288 with 2 Axes>"
      ]
     },
     "metadata": {},
     "output_type": "display_data"
    },
    {
     "data": {
      "text/plain": [
       "89721"
      ]
     },
     "execution_count": 40,
     "metadata": {},
     "output_type": "execute_result"
    }
   ],
   "source": [
    "sns.heatmap(df[['surface_total_in_m2', 'price_aprox_usd', 'rooms', 'expenses', 'floor']].corr(), annot=True)\n",
    "plt.show()\n",
    "\n",
    "len(df)"
   ]
  },
  {
   "cell_type": "code",
   "execution_count": 72,
   "metadata": {
    "colab": {
     "base_uri": "https://localhost:8080/",
     "height": 140
    },
    "colab_type": "code",
    "executionInfo": {
     "elapsed": 1334,
     "status": "ok",
     "timestamp": 1555459865332,
     "user": {
      "displayName": "Matias Gonzalez Fernandez",
      "photoUrl": "",
      "userId": "02925906530158308490"
     },
     "user_tz": 180
    },
    "id": "ie7qSRlWy_2L",
    "outputId": "ab120a43-973f-49a6-c993-6df934b440e1"
   },
   "outputs": [
    {
     "name": "stdout",
     "output_type": "stream",
     "text": [
      "89721\n",
      "56308\n"
     ]
    },
    {
     "data": {
      "text/html": [
       "<div>\n",
       "<style scoped>\n",
       "    .dataframe tbody tr th:only-of-type {\n",
       "        vertical-align: middle;\n",
       "    }\n",
       "\n",
       "    .dataframe tbody tr th {\n",
       "        vertical-align: top;\n",
       "    }\n",
       "\n",
       "    .dataframe thead th {\n",
       "        text-align: right;\n",
       "    }\n",
       "</style>\n",
       "<table border=\"1\" class=\"dataframe\">\n",
       "  <thead>\n",
       "    <tr style=\"text-align: right;\">\n",
       "      <th></th>\n",
       "      <th>surface_total_in_m2</th>\n",
       "      <th>place_name</th>\n",
       "      <th>price_usd_per_m2</th>\n",
       "      <th>property_type</th>\n",
       "      <th>zona</th>\n",
       "      <th>rooms</th>\n",
       "      <th>state_name</th>\n",
       "    </tr>\n",
       "  </thead>\n",
       "  <tbody>\n",
       "    <tr>\n",
       "      <th>10</th>\n",
       "      <td>1514.0</td>\n",
       "      <td>Córdoba</td>\n",
       "      <td>46.235139</td>\n",
       "      <td>house</td>\n",
       "      <td>Interior</td>\n",
       "      <td>4.0</td>\n",
       "      <td>Córdoba</td>\n",
       "    </tr>\n",
       "    <tr>\n",
       "      <th>13</th>\n",
       "      <td>50.0</td>\n",
       "      <td>Palermo Soho</td>\n",
       "      <td>2234.000000</td>\n",
       "      <td>apartment</td>\n",
       "      <td>Capital &amp; GBA</td>\n",
       "      <td>1.0</td>\n",
       "      <td>Capital Federal</td>\n",
       "    </tr>\n",
       "  </tbody>\n",
       "</table>\n",
       "</div>"
      ],
      "text/plain": [
       "    surface_total_in_m2    place_name  price_usd_per_m2 property_type  \\\n",
       "10               1514.0       Córdoba         46.235139         house   \n",
       "13                 50.0  Palermo Soho       2234.000000     apartment   \n",
       "\n",
       "             zona  rooms       state_name  \n",
       "10       Interior    4.0          Córdoba  \n",
       "13  Capital & GBA    1.0  Capital Federal  "
      ]
     },
     "execution_count": 72,
     "metadata": {
      "tags": []
     },
     "output_type": "execute_result"
    }
   ],
   "source": [
    "print(len(df))\n",
    "\n",
    "# df.expenses = df.expenses.fillna(value=0)\n",
    "\n",
    "cols = ['surface_total_in_m2', 'place_name', 'price_usd_per_m2', 'property_type', 'zona', 'rooms', 'state_name']\n",
    "\n",
    "print(len(df[cols].dropna()))\n",
    "\n",
    "data = df[cols].dropna()\n",
    "data.head(2)"
   ]
  },
  {
   "cell_type": "code",
   "execution_count": 73,
   "metadata": {
    "colab": {
     "base_uri": "https://localhost:8080/",
     "height": 195
    },
    "colab_type": "code",
    "executionInfo": {
     "elapsed": 1422,
     "status": "ok",
     "timestamp": 1555459865768,
     "user": {
      "displayName": "Matias Gonzalez Fernandez",
      "photoUrl": "",
      "userId": "02925906530158308490"
     },
     "user_tz": 180
    },
    "id": "XdcbPN3YwOgb",
    "outputId": "3f9f1aa8-a4fe-4412-aca6-a4b135d43611"
   },
   "outputs": [
    {
     "data": {
      "text/html": [
       "<div>\n",
       "<style scoped>\n",
       "    .dataframe tbody tr th:only-of-type {\n",
       "        vertical-align: middle;\n",
       "    }\n",
       "\n",
       "    .dataframe tbody tr th {\n",
       "        vertical-align: top;\n",
       "    }\n",
       "\n",
       "    .dataframe thead th {\n",
       "        text-align: right;\n",
       "    }\n",
       "</style>\n",
       "<table border=\"1\" class=\"dataframe\">\n",
       "  <thead>\n",
       "    <tr style=\"text-align: right;\">\n",
       "      <th></th>\n",
       "      <th>surface_total_in_m2</th>\n",
       "      <th>rooms</th>\n",
       "    </tr>\n",
       "  </thead>\n",
       "  <tbody>\n",
       "    <tr>\n",
       "      <th>10</th>\n",
       "      <td>1514.0</td>\n",
       "      <td>4.0</td>\n",
       "    </tr>\n",
       "    <tr>\n",
       "      <th>13</th>\n",
       "      <td>50.0</td>\n",
       "      <td>1.0</td>\n",
       "    </tr>\n",
       "    <tr>\n",
       "      <th>14</th>\n",
       "      <td>42.0</td>\n",
       "      <td>1.0</td>\n",
       "    </tr>\n",
       "    <tr>\n",
       "      <th>15</th>\n",
       "      <td>164.0</td>\n",
       "      <td>4.0</td>\n",
       "    </tr>\n",
       "    <tr>\n",
       "      <th>16</th>\n",
       "      <td>140.0</td>\n",
       "      <td>4.0</td>\n",
       "    </tr>\n",
       "  </tbody>\n",
       "</table>\n",
       "</div>"
      ],
      "text/plain": [
       "    surface_total_in_m2  rooms\n",
       "10               1514.0    4.0\n",
       "13                 50.0    1.0\n",
       "14                 42.0    1.0\n",
       "15                164.0    4.0\n",
       "16                140.0    4.0"
      ]
     },
     "execution_count": 73,
     "metadata": {
      "tags": []
     },
     "output_type": "execute_result"
    }
   ],
   "source": [
    "from sklearn.preprocessing import PolynomialFeatures\n",
    "from sklearn.linear_model import LinearRegression\n",
    "from sklearn.pipeline import make_pipeline\n",
    "\n",
    "def PolynomialRegression(degree=4, **kwargs):\n",
    "    return make_pipeline(PolynomialFeatures(degree),\n",
    "                         LinearRegression(**kwargs))\n",
    "\n",
    "\n",
    "from sklearn import preprocessing\n",
    "le = preprocessing.LabelEncoder()\n",
    "le.fit(data.place_name)\n",
    "  \n",
    "y = data.loc[:,['surface_total_in_m2', 'rooms']]\n",
    "\n",
    "# y = pd.concat( [y, pd.get_dummies(data[['property_type', 'state_name']], drop_first=True)] , axis=1)\n",
    "\n",
    "x = data['price_usd_per_m2'].values.reshape(-1,1)\n",
    "\n",
    "y.head()"
   ]
  },
  {
   "cell_type": "code",
   "execution_count": 74,
   "metadata": {
    "colab": {
     "base_uri": "https://localhost:8080/",
     "height": 67
    },
    "colab_type": "code",
    "executionInfo": {
     "elapsed": 811,
     "status": "ok",
     "timestamp": 1555459865769,
     "user": {
      "displayName": "Matias Gonzalez Fernandez",
      "photoUrl": "",
      "userId": "02925906530158308490"
     },
     "user_tz": 180
    },
    "id": "GKrk2iMh0W00",
    "outputId": "6c681a17-84f3-4833-c4ef-3bc3fc8ab9d1"
   },
   "outputs": [
    {
     "name": "stdout",
     "output_type": "stream",
     "text": [
      "0.14855131859119908\n"
     ]
    },
    {
     "data": {
      "text/plain": [
       "[('surface_total_in_m2', array([-0.09457951])),\n",
       " ('rooms', array([-0.00039029]))]"
      ]
     },
     "execution_count": 74,
     "metadata": {
      "tags": []
     },
     "output_type": "execute_result"
    }
   ],
   "source": [
    "from sklearn.linear_model import LogisticRegression\n",
    "from sklearn.model_selection import train_test_split\n",
    "\n",
    "\n",
    "x_train, x_test, y_train, y_test = train_test_split(x, y, test_size=0.10, random_state=42)\n",
    "\n",
    "\n",
    "reg = LinearRegression()\n",
    "reg.fit(x_train, y_train)\n",
    "\n",
    "print(reg.score(x_train, y_train))\n",
    "\n",
    "\n",
    "list(zip(y.columns, reg.coef_))"
   ]
  },
  {
   "cell_type": "code",
   "execution_count": 76,
   "metadata": {
    "colab": {
     "base_uri": "https://localhost:8080/",
     "height": 485
    },
    "colab_type": "code",
    "executionInfo": {
     "elapsed": 2234,
     "status": "ok",
     "timestamp": 1555459959387,
     "user": {
      "displayName": "Matias Gonzalez Fernandez",
      "photoUrl": "",
      "userId": "02925906530158308490"
     },
     "user_tz": 180
    },
    "id": "hYUt-y_Pxn5F",
    "outputId": "1be14fce-bedb-4a24-ea07-68bbf2688351"
   },
   "outputs": [
    {
     "name": "stdout",
     "output_type": "stream",
     "text": [
      "[[-1.28698383e-14  1.44292089e-14  3.26506363e-14 -3.15291386e-14\n",
      "   2.75213032e-14  5.86345950e-14  2.77057707e-15]\n",
      " [ 1.48642041e-01  1.50991202e-01  1.39045958e-01  1.38772050e-01\n",
      "   1.44733443e-01  1.51247400e-01  1.48122805e-01]\n",
      " [ 2.21424558e-01  2.32306155e-01  2.02920282e-01  2.02021075e-01\n",
      "   2.11404396e-01  2.21461384e-01  2.16772844e-01]]\n",
      "[[-2.91417814e-02 -5.46053880e-03 -7.16736321e-05 -6.44290286e-05\n",
      "  -1.39042937e-02 -4.11115481e-02 -2.40314888e-02]\n",
      " [ 1.10726238e-01  1.22640395e-01  1.80490055e-01  1.83193039e-01\n",
      "   1.44512365e-01  1.15791483e-02  9.16679883e-02]\n",
      " [ 1.65823532e-01  4.34901126e-02  2.67629162e-01  2.74026680e-01\n",
      "   2.24835134e-01  3.65558158e-02  1.45939710e-01]]\n"
     ]
    },
    {
     "data": {
      "image/png": "[encoded data removed]",
      "text/plain": [
       "<Figure size 432x288 with 1 Axes>"
      ]
     },
     "metadata": {
      "tags": []
     },
     "output_type": "display_data"
    }
   ],
   "source": [
    "from sklearn.model_selection import validation_curve\n",
    "grados_a_testear = np.arange(0, 6)\n",
    "train_score, val_score = validation_curve(PolynomialRegression(), x, y, 'polynomialfeatures__degree'\n",
    "                                          , grados_a_testear, cv=7) #cv= validacion cruzada, cuanta cantidad quiero\n",
    "\n",
    "print(train_score[:3])\n",
    "print(val_score[:3])\n",
    "\n",
    "plt.plot(grados_a_testear, np.mean(train_score, axis=1), color='blue', label='training score')\n",
    "plt.plot(grados_a_testear, np.mean(val_score, axis=1), color='red', label='validation score')\n",
    "plt.legend(loc='best')\n",
    "plt.ylim(0, 1)\n",
    "plt.xlabel('degree')\n",
    "plt.ylabel('score');"
   ]
  },
  {
   "cell_type": "code",
   "execution_count": 0,
   "metadata": {
    "colab": {},
    "colab_type": "code",
    "id": "xj0txamLAqiA"
   },
   "outputs": [],
   "source": []
  }
 ],
 "metadata": {
  "accelerator": "GPU",
  "colab": {
   "collapsed_sections": [],
   "name": "ProperatyExploracion.ipynb",
   "provenance": [],
   "version": "0.3.2"
  },
  "kernelspec": {
   "display_name": "Python 3",
   "language": "python",
   "name": "python3"
  },
  "language_info": {
   "codemirror_mode": {
    "name": "ipython",
    "version": 3
   },
   "file_extension": ".py",
   "mimetype": "text/x-python",
   "name": "python",
   "nbconvert_exporter": "python",
   "pygments_lexer": "ipython3",
   "version": "3.6.5"
  }
 },
 "nbformat": 4,
 "nbformat_minor": 1
}
